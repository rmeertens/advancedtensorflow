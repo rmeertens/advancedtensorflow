{
 "cells": [
  {
   "cell_type": "markdown",
   "metadata": {},
   "source": [
    "# Section 1: Working with TensorFlow\n",
    "## Video 1: The approach of this course\n",
    "Learning about neural networks and TensorFlow is very popular these days. Normally people learn about perceptrons, feed forward networks, and convolutional neural networks, and they solve several classification and regression problems. \n",
    "\n",
    "However, there are a lot of different problems in this world that you can approach with neural networks. In this course we are going to take a look at several of them: \n",
    "- Autoencoders: the unsupervised learning of the representation of your data. You can also use these models to generate new data!\n",
    "- Siamese neural networks: what if you have a classification problem, but you only have several (or even only one) sample per class?\n",
    "- Reinforcement learning: what if you want to build an AI that can play a game? We are going to create an autonomous agent that trains itself!\n",
    "\n",
    "After this course you will have a better understanding of how you can use TensorFlow and neural networks to solve different types of problems!\n",
    "\n"
   ]
  },
  {
   "cell_type": "markdown",
   "metadata": {},
   "source": [
    "## Video 2: Installing Docker, and downloading the data\n",
    "Often when you follow a course online you need to install many programs before you can finally start programming your coursework. For this course you only need to install one program: **Docker**.\n",
    "\n",
    "Docker is a tool which allows you to run an isolated operating system on your computer. It's like you are running a pc, on your pc. You can run a second Windows in Windows, or an Ubuntu (Linux) server under Windows.\n",
    "\n",
    "For this course I made a Docker image that contains all dependencys you normally would have to install. This means everyone who joins has the same Python version, the same version of Tensorflow, and no problems with libraries.\n",
    "Unfortunately, you still need to get one program running before you can start: Docker itself.\n",
    "\n",
    "### Installation\n",
    "The best way to install Docker is by looking at this webpage: https://docs.docker.com/engine/installation/#supported-platforms If you are on Windows 7 you need to install Docker Toolbox.\n",
    "This video by Elton Stoneman is a great tutorial on how to install Docker on Windows: https://www.youtube.com/watch?v=S7NVloq0EBc. \n",
    "\n",
    "For fellow OSX users I took the following screenshots to see what links you have to follow to install Docker.\n",
    "find desktopclick stabledrag docker\n",
    "Make sure you launch Docker and it runs as process in the background.\n",
    "\n",
    "### Our code, in a Jupyter notebook\n",
    "Once you install Docker getting started is easy. Open a terminal and verify that typing docker works:\n",
    "docker\n",
    "Download the code from TODO PACKT URL HERE! In the folder you downloaded create a folder called \"datasets\". We will fill this folder during the course\n",
    "\n",
    "In your terminal navigate to the folder you downloaded from Packt (using the cd command). Run the following command:\n",
    "> docker-compose build\n",
    "\n",
    "This command will take a while, as you download an image with an operating system, Tensorflow, and several libraries you need for the course. Although it might be a little bit of a hassle now I found that working with Docker for courses like this significantly improves the experience of people who can follow the course. Installing just one program turns out to be way better than installing the 5 libraries you need during the course.\n",
    "\n",
    "Once this command is done you run the following command:\n",
    "> docker-compose up\n",
    "\n",
    "If all went well you should be able to navigate to localhost:8888 and see the following screen:\n",
    "\n",
    "starting point\n",
    "\n",
    "Click on \"Section 1 Introduction to Docker, Tensorflow, and Jupyter Notebooks.ipynb\" and you should jump right into this notebook!\n",
    "\n",
    "What is a Jupyter Notebook?\n",
    "A Jupyter Notebook is an interactive computing environment in which I will type all explanations, put useful links in, and will put code in, like this:\n",
    "\n",
    "\n",
    "What's nice about a Jypter Notebook is that between code I can give a bit of explanation. This way, if you go through the notebook later, you don't have to find the relevant part of the video again.\n",
    "Inside a Jypyter notebook you can draw graphs with Matplotlib. To do this you do have to use a \"magic\" command:\n",
    "\n",
    "Note that you can even execute parts of the notebook again, the notebook keeps track of its Python kernel. Hopefully you like the use of a Jupyter notebook. I personally love it so much that I always use it when exploring how I can solve a dataset!\n"
   ]
  },
  {
   "cell_type": "markdown",
   "metadata": {},
   "source": [
    "## Video 3: Quick example of how to use a Jupyter notebook, and datasets that might be interesting for this course - Explore your Jupiter Notebook\n"
   ]
  },
  {
   "cell_type": "markdown",
   "metadata": {},
   "source": [
    "Hopefully you already followed one or two courses about TensorFlow  If you did you can use this section to refresh your memory on how we work with TensorFlow. \n",
    "\n",
    "If you did not follow my course take a little longer to look at the code I use. I really like the `tf.layers` part of TensorFlow and make extensive use of it. Make sure you understand what I do below before moving on to the more advanced parts of the course. \n",
    "\n",
    "### Downloading data\n",
    "A function that downloads the MNIST data is included in TensorFlow. During this course we always download our datasets in the datasets folder. If you run this part of the code for the first time it can take a while as it has to download and unzip all the data. "
   ]
  },
  {
   "cell_type": "code",
   "execution_count": 1,
   "metadata": {},
   "outputs": [
    {
     "name": "stdout",
     "output_type": "stream",
     "text": [
      "Extracting datasets/MNIST_data/train-images-idx3-ubyte.gz\n",
      "Extracting datasets/MNIST_data/train-labels-idx1-ubyte.gz\n",
      "Extracting datasets/MNIST_data/t10k-images-idx3-ubyte.gz\n",
      "Extracting datasets/MNIST_data/t10k-labels-idx1-ubyte.gz\n"
     ]
    }
   ],
   "source": [
    "import tensorflow as tf\n",
    "import matplotlib.pyplot as plt \n",
    "from tensorflow.examples.tutorials.mnist import input_data\n",
    "\n",
    "%matplotlib inline\n",
    "\n",
    "logging_dir_n = 0 \n",
    "\n",
    "mnist = input_data.read_data_sets('datasets/MNIST_data', one_hot=True)\n",
    "input_dim = mnist.train.images[0].shape[0]\n",
    "h_image=28\n",
    "w_image=28"
   ]
  },
  {
   "cell_type": "markdown",
   "metadata": {},
   "source": [
    "### Adding layers to our neural network\n",
    "The simplest way of building a neural network is using the `tf.layers` part of TensorFlow. With these functions you specify what tensors come into the layer, and what kind of output you would like to see. A simple neural network would look like this: "
   ]
  },
  {
   "cell_type": "code",
   "execution_count": 2,
   "metadata": {
    "collapsed": true
   },
   "outputs": [],
   "source": [
    "hidden_units = 512\n",
    "\n",
    "input_placeholder = tf.placeholder(dtype=tf.float32, shape=[None, input_dim], name='inputplaceholder')\n",
    "output_placeholder = tf.placeholder(tf.float32, shape=[None, 10])\n",
    "\n",
    "dense1 = tf.layers.dense(input_placeholder, hidden_units, activation = tf.nn.relu)\n",
    "predicted = tf.layers.dense(dense1, 10, activation = tf.nn.sigmoid)"
   ]
  },
  {
   "cell_type": "markdown",
   "metadata": {},
   "source": [
    "Remember that to train a network you have to define a loss function and an optimizer. Let's go for the simplest one we know: the mean squared error. Let's also use the simplest optimizer we know: gradient descent. "
   ]
  },
  {
   "cell_type": "code",
   "execution_count": 3,
   "metadata": {
    "collapsed": true
   },
   "outputs": [],
   "source": [
    "loss = tf.losses.mean_squared_error(output_placeholder, predicted)\n",
    "learning_rate = 0.05\n",
    "optimizer = tf.train.GradientDescentOptimizer(learning_rate).minimize(loss)"
   ]
  },
  {
   "cell_type": "markdown",
   "metadata": {},
   "source": [
    "Before you can train you have to create a session, and initialize all variables. After that you can train your network. The sess.run function needs two arguments: what we want to get out of our graph, and what we feed into the graph. "
   ]
  },
  {
   "cell_type": "code",
   "execution_count": 4,
   "metadata": {
    "collapsed": true
   },
   "outputs": [],
   "source": [
    "sess = tf.Session()\n",
    "sess.run(tf.global_variables_initializer())\n",
    "\n",
    "batch_size = 128\n",
    "num_iterations = 2000\n",
    "\n",
    "loss_history = list()\n",
    "for i in range(num_iterations):\n",
    "    batch = mnist.train.next_batch(batch_size)\n",
    "\n",
    "    _, l = sess.run([optimizer, loss], feed_dict={input_placeholder: batch[0], output_placeholder: batch[1]})\n",
    "    loss_history.append(l)\n"
   ]
  },
  {
   "cell_type": "markdown",
   "metadata": {},
   "source": [
    "The cool thing of our Jupyter notebook is that we can plot data and results using Matplotlib. The results will appear \"inline\" as we defined that at the top of our notebook: "
   ]
  },
  {
   "cell_type": "code",
   "execution_count": 5,
   "metadata": {},
   "outputs": [
    {
     "data": {
      "text/plain": [
       "[<matplotlib.lines.Line2D at 0x7f507781da20>]"
      ]
     },
     "execution_count": 5,
     "metadata": {},
     "output_type": "execute_result"
    },
    {
     "data": {
      "image/png": "[encoded data removed]",
      "text/plain": [
       "<matplotlib.figure.Figure at 0x7f507a205438>"
      ]
     },
     "metadata": {},
     "output_type": "display_data"
    }
   ],
   "source": [
    "plt.plot(loss_history)"
   ]
  },
  {
   "cell_type": "markdown",
   "metadata": {},
   "source": [
    "### Building a convolutional neural network\n",
    "Although we see that our network is learning something, we can improve our network by using [convolutional layers](https://en.wikipedia.org/wiki/Convolutional_neural_network). To recap: we can add these layers to our network using TensorFlow's `tf.layers.conv2d` and `tf.layers.max_pooling2d` functions. \n",
    "\n",
    "Remember that there are several loss functions, and several optimization algorithms. As we learned that softmax cross entropy is a good loss measure for classification problems we will use that one here. We also know that the Adam optimizer often gives a great performance while we don't have to tweak any learning rate parameters. For this reason we will often encounter this optimizer during this course. "
   ]
  },
  {
   "cell_type": "code",
   "execution_count": 6,
   "metadata": {},
   "outputs": [
    {
     "name": "stdout",
     "output_type": "stream",
     "text": [
      "Tensor(\"Flatten/Reshape:0\", shape=(?, 800), dtype=float32)\n"
     ]
    }
   ],
   "source": [
    "input_reshaped = tf.reshape(input_placeholder, [-1, h_image, w_image, 1])\n",
    "conv1 = tf.layers.conv2d(input_reshaped, 8, [5, 5], name='conv1', activation=tf.nn.relu)\n",
    "maxp1 = tf.layers.max_pooling2d(conv1, (2,2),(2,2), name='maxp1')\n",
    "conv2 = tf.layers.conv2d(maxp1, 32, [3, 3], name='conv2', activation=tf.nn.relu)\n",
    "maxp2 = tf.layers.max_pooling2d(conv2, (2,2), (2,2), name=\"maxp2\")\n",
    "flattened = tf.contrib.layers.flatten(maxp2)\n",
    "print(flattened)\n",
    "\n",
    "flat1 = tf.layers.dense(flattened, 256, activation=tf.nn.relu, name=\"dense1\")\n",
    "predicted = tf.layers.dense(flat1, 10, name=\"dense2\")\n",
    "\n",
    "cross_entropy = tf.reduce_mean(tf.nn.softmax_cross_entropy_with_logits(labels=output_placeholder, logits=predicted))\n",
    "\n",
    "## ADAM OPTIMIZER\n",
    "trainstep = tf.train.AdamOptimizer().minimize(cross_entropy)\n"
   ]
  },
  {
   "cell_type": "code",
   "execution_count": 7,
   "metadata": {},
   "outputs": [
    {
     "data": {
      "text/plain": [
       "[<matplotlib.lines.Line2D at 0x7f5075cee588>]"
      ]
     },
     "execution_count": 7,
     "metadata": {},
     "output_type": "execute_result"
    },
    {
     "data": {
      "image/png": "[encoded data removed]",
      "text/plain": [
       "<matplotlib.figure.Figure at 0x7f507a0a2ef0>"
      ]
     },
     "metadata": {},
     "output_type": "display_data"
    }
   ],
   "source": [
    "sess = tf.Session()\n",
    "sess.run(tf.global_variables_initializer())\n",
    "\n",
    "batch_size = 128\n",
    "num_iterations = 500\n",
    "\n",
    "loss_history = list()\n",
    "for i in range(num_iterations):\n",
    "    batch = mnist.train.next_batch(batch_size)\n",
    "\n",
    "    _, l = sess.run([trainstep, cross_entropy], feed_dict={input_placeholder: batch[0], output_placeholder: batch[1]})\n",
    "    loss_history.append(l)\n",
    "plt.plot(loss_history)"
   ]
  },
  {
   "cell_type": "markdown",
   "metadata": {},
   "source": [
    "### Conclusion\n",
    "We went through this Jupyter notebook together, and recapped how TensorFlow works by building a simple neural network that can recognize written characters. In the next section we will discuss what TensorBoard is, and how you can use it. "
   ]
  },
  {
   "cell_type": "code",
   "execution_count": null,
   "metadata": {
    "collapsed": true
   },
   "outputs": [],
   "source": []
  }
 ],
 "metadata": {
  "kernelspec": {
   "display_name": "Python 3",
   "language": "python",
   "name": "python3"
  },
  "language_info": {
   "codemirror_mode": {
    "name": "ipython",
    "version": 3
   },
   "file_extension": ".py",
   "mimetype": "text/x-python",
   "name": "python",
   "nbconvert_exporter": "python",
   "pygments_lexer": "ipython3",
   "version": "3.5.2"
  }
 },
 "nbformat": 4,
 "nbformat_minor": 2
}
