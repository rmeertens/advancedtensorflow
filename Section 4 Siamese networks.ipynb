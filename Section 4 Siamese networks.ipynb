{
 "cells": [
  {
   "cell_type": "markdown",
   "metadata": {},
   "source": [
    "\n",
    "# Section 4: Learning from only one sample: simple siamese neural networks\n",
    "## Video 1: The Omniglot dataset\n",
    "In the previous course we worked with the MNIST dataset. This dataset contains images of ten classes (the numbers 0 to 9), and has many samples per class. You now know how you can solve such a big data problem yourself. If you ever have a dataset with many samples per class and only a few classes you are probably able to solve that problem!\n",
    "\n",
    "![mnist characters](illustrations/section4/mnistchars.png)\n",
    "\n",
    "But what if you only have a few samples, and many classes! Humans are pretty good at this task. By only seeing one example of a new character they are able to recognize it later. The method we used so far is very bad as this task, as the neural network will completely overfit on this one sample. \n",
    "\n",
    "![futurama characters](illustrations/section4/futuramachars.png)\n",
    "Source image: https://sorenbouma.github.io/images/alphabets/Futurama.png\n",
    "\n",
    "In this section we are going to take a look at the [Omniglot dataset](https://github.com/brendenlake/omniglot). This dataset contains 1623 different handwritten characters from 50 different alphabets. Unfortunately, there are only 20 examples per image to train your algorithm.\n",
    "\n",
    "We are actually going to make the task a little bit harder. We will propose a task where we only show ONE example to the neural network, and will ask it to rate the similarity to this character for many other images. This way we can hopefully detect an image using only one sample for \"training\"!\n",
    "\n",
    "### Downloading the dataset\n",
    "You can download the omniglot dataset here: https://github.com/brendenlake/omniglot. \n",
    "Please download and unzip the following folders in the \"datasets\" folder: \n",
    "- https://github.com/brendenlake/omniglot/blob/master/python/images_background.zip\n",
    "- https://github.com/brendenlake/omniglot/blob/master/python/images_evaluation.zip\n",
    "\n",
    "![futurama characters](illustrations/section4/datasetsfolder.png)\n",
    "\n",
    "\n",
    "### Loading the data\n",
    "Images are put away in folders based on their alphabet, with 20 images per folder (so per character). Reading this data is not really the focus of the course, so feel free to simply run this code:"
   ]
  },
  {
   "cell_type": "code",
   "execution_count": 1,
   "metadata": {},
   "outputs": [
    {
     "name": "stdout",
     "output_type": "stream",
     "text": [
      "Loading training set\n",
      "loading alphabet: Anglo-Saxon_Futhorc\n",
      "loading alphabet: Mkhedruli_(Georgian)\n",
      "loading alphabet: Ojibwe_(Canadian_Aboriginal_Syllabics)\n",
      "loading alphabet: Braille\n",
      "loading alphabet: Japanese_(hiragana)\n",
      "loading alphabet: Inuktitut_(Canadian_Aboriginal_Syllabics)\n",
      "loading alphabet: Asomtavruli_(Georgian)\n",
      "loading alphabet: Latin\n",
      "loading alphabet: Greek\n",
      "loading alphabet: Japanese_(katakana)\n",
      "loading alphabet: Grantha\n",
      "loading alphabet: N_Ko\n",
      "loading alphabet: Balinese\n",
      "loading alphabet: Tagalog\n",
      "loading alphabet: Bengali\n",
      "loading alphabet: Blackfoot_(Canadian_Aboriginal_Syllabics)\n",
      "loading alphabet: Alphabet_of_the_Magi\n",
      "loading alphabet: Futurama\n",
      "loading alphabet: Tifinagh\n",
      "loading alphabet: Malay_(Jawi_-_Arabic)\n",
      "loading alphabet: Gujarati\n",
      "loading alphabet: Early_Aramaic\n",
      "loading alphabet: Hebrew\n",
      "loading alphabet: Syriac_(Estrangelo)\n",
      "loading alphabet: Korean\n",
      "loading alphabet: Arcadian\n",
      "loading alphabet: Armenian\n",
      "loading alphabet: Cyrillic\n",
      "loading alphabet: Sanskrit\n",
      "loading alphabet: Burmese_(Myanmar)\n",
      "(964, 20, 105, 105)\n",
      "Now loading evaluation set\n",
      "loading alphabet: ULOG\n",
      "loading alphabet: Malayalam\n",
      "loading alphabet: Atlantean\n",
      "loading alphabet: Gurmukhi\n",
      "loading alphabet: Glagolitic\n",
      "loading alphabet: Old_Church_Slavonic_(Cyrillic)\n",
      "loading alphabet: Tibetan\n",
      "loading alphabet: Oriya\n",
      "loading alphabet: Mongolian\n",
      "loading alphabet: Sylheti\n",
      "loading alphabet: Atemayar_Qelisayer\n",
      "loading alphabet: Aurek-Besh\n",
      "loading alphabet: Tengwar\n",
      "loading alphabet: Angelic\n",
      "loading alphabet: Kannada\n",
      "loading alphabet: Keble\n",
      "loading alphabet: Manipuri\n",
      "loading alphabet: Syriac_(Serto)\n",
      "loading alphabet: Avesta\n",
      "loading alphabet: Ge_ez\n",
      "(659, 20, 105, 105)\n"
     ]
    }
   ],
   "source": [
    "import sys\n",
    "import numpy as np\n",
    "from scipy.misc import imread\n",
    "import os\n",
    "import matplotlib.pyplot as plt\n",
    "import numpy as np\n",
    "import numpy.random as rng\n",
    "import tensorflow as tf\n",
    "\n",
    "## Set logging dir for Tensorboard\n",
    "logging_dir_n = 0\n",
    "\n",
    "data_path = \"datasets/omniglot/python\"\n",
    "train_path = os.path.join(data_path,'images_background')\n",
    "validation_path = os.path.join(data_path,'images_evaluation')\n",
    "\n",
    "def load_images_from_directory(path,n=0):\n",
    "    X=[]\n",
    "    \n",
    "    ## We load every alphabet seperately and append that to one tensor\n",
    "    for alphabet in os.listdir(path):\n",
    "        print(\"loading alphabet: \" + alphabet)\n",
    "        alphabet_path = os.path.join(path,alphabet)\n",
    "        \n",
    "        ## Each character in alphabet is in a separate folder\n",
    "        for letter in os.listdir(alphabet_path):\n",
    "            category_images=[]\n",
    "            letter_path = os.path.join(alphabet_path, letter)\n",
    "      \n",
    "            if not os.path.isdir(letter_path):\n",
    "                continue\n",
    "\n",
    "            ## Read every image in this directory\n",
    "            for filename in os.listdir(letter_path):\n",
    "                image_path = os.path.join(letter_path, filename)\n",
    "                image = imread(image_path)\n",
    "\n",
    "                ### Image preprocessing!\n",
    "                image = image/255\n",
    "                image = 1-image\n",
    "                \n",
    "                category_images.append(image)\n",
    "            \n",
    "            try:\n",
    "                X.append(np.stack(category_images))\n",
    "            #edge case  - last one\n",
    "            except ValueError as e:\n",
    "                print(e)\n",
    "                print(\"error - category_images:\", category_images)\n",
    "    \n",
    "    X = np.stack(X)\n",
    "    return X\n",
    "\n",
    "print(\"Loading training set\")\n",
    "Xtrain = load_images_from_directory(train_path)\n",
    "print(Xtrain.shape)\n",
    "\n",
    "print(\"Now loading evaluation set\")\n",
    "Xval = load_images_from_directory(validation_path)\n",
    "print(Xval.shape)"
   ]
  },
  {
   "cell_type": "markdown",
   "metadata": {},
   "source": [
    "### Representing a oneshot task\n",
    "As we discussed above we would like to have a neural network that can determine if two characters are similar or not. To do this we need to have a function that generates our input data while training, and a function that creates a dataset at evaluation. \n",
    "\n",
    "The training data function we make will create: \n",
    "- Two lists with images\n",
    "- A list with the number 1 if the images belong to the same character, and the number 0 if they belong to a different class\n",
    "\n",
    "The task function we will create gives us a list with N images, where only the first image is from the same alphabet. \n"
   ]
  },
  {
   "cell_type": "code",
   "execution_count": 2,
   "metadata": {
    "collapsed": true
   },
   "outputs": [],
   "source": [
    "def get_batch(data, batch_size):\n",
    "    n_classes, n_examples, w, h = data.shape\n",
    "    \n",
    "    ## Initialise data we return in memory\n",
    "    pairs=[np.zeros((batch_size, h, w,1)) for i in range(2)]\n",
    "    \n",
    "    ## Make a target vector with half same and half other categories\n",
    "    targets=np.zeros((batch_size,))\n",
    "    targets[batch_size//2:] = 1\n",
    "    \n",
    "    ## Pick the categories of characters we will return\n",
    "    categories = rng.choice(n_classes,size=(batch_size,),replace=False)\n",
    "    \n",
    "    for i in range(batch_size):\n",
    "        category = categories[i]\n",
    "        \n",
    "        ## Choose two indixes from the amount of examples (20) we have\n",
    "        idx_1 = rng.randint(0, n_examples)\n",
    "        idx_2 = rng.randint(0, n_examples)\n",
    "        \n",
    "        if targets[i] == 0: \n",
    "            category_2 = category # if target is set: pick from same category\n",
    "        else:\n",
    "            ## Pick new class by picking random number \n",
    "            category_2 = (category + rng.randint(1,n_classes)) % n_classes\n",
    "        \n",
    "        pairs[0][i,:,:,:] = data[category,idx_1].reshape(w,h,1)\n",
    "        pairs[1][i,:,:,:] = data[category_2,idx_2].reshape(w,h,1)\n",
    "  \n",
    "    return pairs, targets\n",
    "\n",
    "def make_oneshot_task(data, N):\n",
    "    n_val, n_ex_val, w, h = data.shape\n",
    "\n",
    "    categories = rng.choice(n_val,size=(N,),replace=False)\n",
    "    true_category = categories[0]\n",
    "    \n",
    "    indices = rng.randint(0, n_ex_val,size=(N,))\n",
    "    \n",
    "    ex1, ex2 = rng.choice(n_ex_val,replace=False,size=(2,))\n",
    "    \n",
    "    ## Create a list with the same image N times as test image\n",
    "    test_image = np.asarray([data[true_category,ex1,:,:]]*N).reshape(N,w,h,1)\n",
    "    \n",
    "    support_set = data[categories,indices,:,:]\n",
    "    \n",
    "    ## Create the targets and fill in true character\n",
    "    targets = np.zeros((N,))    \n",
    "    targets[0] = 1 # Set the first target to be the true character\n",
    "    support_set[0,:,:] = data[true_category,ex2] # Fill in this caracter\n",
    "    \n",
    "    \n",
    "    ## Reshape the data and return it\n",
    "    support_set = support_set.reshape(N,w,h,1)\n",
    "    pairs = [test_image,support_set]\n",
    "    return pairs, targets"
   ]
  },
  {
   "cell_type": "markdown",
   "metadata": {},
   "source": [
    "### Visualising the characters\n",
    "Now that we loaded them, let's get a batch of traindata, visualise the images, and show the label..."
   ]
  },
  {
   "cell_type": "code",
   "execution_count": 3,
   "metadata": {},
   "outputs": [
    {
     "name": "stdout",
     "output_type": "stream",
     "text": [
      "2\n"
     ]
    },
    {
     "data": {
      "image/png": "[encoded data removed]",
      "text/plain": [
       "<matplotlib.figure.Figure at 0x7fdfc6a1b470>"
      ]
     },
     "metadata": {},
     "output_type": "display_data"
    },
    {
     "data": {
      "image/png": "[encoded data removed]",
      "text/plain": [
       "<matplotlib.figure.Figure at 0x7fdf7f4faa58>"
      ]
     },
     "metadata": {},
     "output_type": "display_data"
    },
    {
     "name": "stdout",
     "output_type": "stream",
     "text": [
      "Distance: 0.0\n"
     ]
    },
    {
     "data": {
      "image/png": "[encoded data removed]",
      "text/plain": [
       "<matplotlib.figure.Figure at 0x7fdf7f4bb4e0>"
      ]
     },
     "metadata": {},
     "output_type": "display_data"
    },
    {
     "data": {
      "image/png": "[encoded data removed]",
      "text/plain": [
       "<matplotlib.figure.Figure at 0x7fdf7f428470>"
      ]
     },
     "metadata": {},
     "output_type": "display_data"
    },
    {
     "name": "stdout",
     "output_type": "stream",
     "text": [
      "Distance: 0.0\n"
     ]
    },
    {
     "data": {
      "image/png": "[encoded data removed]",
      "text/plain": [
       "<matplotlib.figure.Figure at 0x7fdf7f492278>"
      ]
     },
     "metadata": {},
     "output_type": "display_data"
    },
    {
     "data": {
      "image/png": "[encoded data removed]",
      "text/plain": [
       "<matplotlib.figure.Figure at 0x7fdf7f3725f8>"
      ]
     },
     "metadata": {},
     "output_type": "display_data"
    },
    {
     "name": "stdout",
     "output_type": "stream",
     "text": [
      "Distance: 0.0\n"
     ]
    },
    {
     "data": {
      "image/png": "[encoded data removed]",
      "text/plain": [
       "<matplotlib.figure.Figure at 0x7fdf7f3ee4e0>"
      ]
     },
     "metadata": {},
     "output_type": "display_data"
    },
    {
     "data": {
      "image/png": "[encoded data removed]",
      "text/plain": [
       "<matplotlib.figure.Figure at 0x7fdf7f43b278>"
      ]
     },
     "metadata": {},
     "output_type": "display_data"
    },
    {
     "name": "stdout",
     "output_type": "stream",
     "text": [
      "Distance: 0.0\n"
     ]
    },
    {
     "data": {
      "image/png": "[encoded data removed]",
      "text/plain": [
       "<matplotlib.figure.Figure at 0x7fdf7f337390>"
      ]
     },
     "metadata": {},
     "output_type": "display_data"
    },
    {
     "data": {
      "image/png": "[encoded data removed]",
      "text/plain": [
       "<matplotlib.figure.Figure at 0x7fdf7f1c2d68>"
      ]
     },
     "metadata": {},
     "output_type": "display_data"
    },
    {
     "name": "stdout",
     "output_type": "stream",
     "text": [
      "Distance: 0.0\n"
     ]
    },
    {
     "data": {
      "image/png": "[encoded data removed]",
      "text/plain": [
       "<matplotlib.figure.Figure at 0x7fdf7f30b588>"
      ]
     },
     "metadata": {},
     "output_type": "display_data"
    },
    {
     "data": {
      "image/png": "[encoded data removed]",
      "text/plain": [
       "<matplotlib.figure.Figure at 0x7fdf7f19a048>"
      ]
     },
     "metadata": {},
     "output_type": "display_data"
    },
    {
     "name": "stdout",
     "output_type": "stream",
     "text": [
      "Distance: 1.0\n"
     ]
    },
    {
     "data": {
      "image/png": "[encoded data removed]",
      "text/plain": [
       "<matplotlib.figure.Figure at 0x7fdf7f06e898>"
      ]
     },
     "metadata": {},
     "output_type": "display_data"
    },
    {
     "data": {
      "image/png": "[encoded data removed]",
      "text/plain": [
       "<matplotlib.figure.Figure at 0x7fdf7f1672e8>"
      ]
     },
     "metadata": {},
     "output_type": "display_data"
    },
    {
     "name": "stdout",
     "output_type": "stream",
     "text": [
      "Distance: 1.0\n"
     ]
    },
    {
     "data": {
      "image/png": "[encoded data removed]",
      "text/plain": [
       "<matplotlib.figure.Figure at 0x7fdfc6a1bfd0>"
      ]
     },
     "metadata": {},
     "output_type": "display_data"
    },
    {
     "data": {
      "image/png": "[encoded data removed]",
      "text/plain": [
       "<matplotlib.figure.Figure at 0x7fdf7f1b6d68>"
      ]
     },
     "metadata": {},
     "output_type": "display_data"
    },
    {
     "name": "stdout",
     "output_type": "stream",
     "text": [
      "Distance: 1.0\n"
     ]
    },
    {
     "data": {
      "image/png": "[encoded data removed]",
      "text/plain": [
       "<matplotlib.figure.Figure at 0x7fdf7f09ac50>"
      ]
     },
     "metadata": {},
     "output_type": "display_data"
    },
    {
     "data": {
      "image/png": "[encoded data removed]",
      "text/plain": [
       "<matplotlib.figure.Figure at 0x7fdf7f0c4390>"
      ]
     },
     "metadata": {},
     "output_type": "display_data"
    },
    {
     "name": "stdout",
     "output_type": "stream",
     "text": [
      "Distance: 1.0\n"
     ]
    },
    {
     "data": {
      "image/png": "[encoded data removed]",
      "text/plain": [
       "<matplotlib.figure.Figure at 0x7fdf7f07a3c8>"
      ]
     },
     "metadata": {},
     "output_type": "display_data"
    },
    {
     "data": {
      "image/png": "[encoded data removed]",
      "text/plain": [
       "<matplotlib.figure.Figure at 0x7fdf7f0cb4a8>"
      ]
     },
     "metadata": {},
     "output_type": "display_data"
    },
    {
     "name": "stdout",
     "output_type": "stream",
     "text": [
      "Distance: 1.0\n"
     ]
    }
   ],
   "source": [
    "pairs, targets = get_batch(Xtrain, 10)\n",
    "print(len(pairs))\n",
    "for i in range(len(pairs[0])):\n",
    "    image = np.reshape(pairs[0][i],(105,105))\n",
    "    plt.imshow(image)\n",
    "    plt.show()\n",
    "    image = np.reshape(pairs[1][i],(105,105))\n",
    "    plt.imshow(image)\n",
    "    plt.show()\n",
    "    print(\"Distance: \" + str(targets[i]))\n"
   ]
  },
  {
   "cell_type": "markdown",
   "metadata": {},
   "source": [
    "## Video 2: What is a siamese neural network?\n",
    "Now imagine what you would have to do to train a neural network to recognise these images. We could try to have 1623 output neurons of our network, and train it on the data that we have. Now we only have 20 characters as example per image (and less after we split train and test set), so it will be very difficult to train this. \n",
    "\n",
    "Instead we take a different approach: we ask our network: are these two images the same character? It's like asking a human: are these two the same person? \n",
    "![arnold1](https://upload.wikimedia.org/wikipedia/commons/d/d4/Arnold_Schwarzenegger_February_2015.jpg)\n",
    "![arnold2](https://c1.staticflickr.com/1/450/19869372178_6bf3dc0a10_b.jpg)\n",
    "\n",
    "Training a neural network to recognise every human being on the planet is downright impossible, but we could train it to indicate if two images are the same or not. \n",
    "\n",
    "![siamese](illustrations/section4/siamesenetwork.png)\n",
    "\n",
    "In a siamese neural network we perform this task by making a neural network that maps input to an output vector. The idea is that this neural network maps the same charater to the same output vector every time. \n",
    "\n",
    "There are a lot of interesting things about this neural network: \n",
    "- The layers are shared during training\n",
    "- You only need a dataset with characters either marked \"the same\" and \"different\"\n",
    "- This neural network then works with similar data the network never saw before!\n",
    "\n",
    "To actually build this neural network we are going to define a function that returns the layers of the input part of the network. Note that we use the variable scope to AND structure this nicely in Tensorboard, AND so we can reuse the layers we built earlier..."
   ]
  },
  {
   "cell_type": "code",
   "execution_count": 4,
   "metadata": {
    "collapsed": true
   },
   "outputs": [],
   "source": [
    "def get_siamese_input_network(x_input, reuse):\n",
    "    \n",
    "    tf.summary.image('image_in'+str(reuse), x_input)\n",
    "    \n",
    "    with tf.variable_scope(\"first_part\", reuse=reuse):\n",
    "        conv1 = tf.layers.conv2d(x_input, 8, [10, 10], name='conv1', activation=tf.nn.relu)\n",
    "        maxp1 = tf.layers.max_pooling2d(conv1, (2,2),(2,2), name='maxp1')\n",
    "        \n",
    "        conv2 = tf.layers.conv2d(maxp1, 16, [7, 7], name='conv2', activation=tf.nn.relu)\n",
    "        maxp2 = tf.layers.max_pooling2d(conv2, (2,2),(2,2), name='maxp2')\n",
    "        \n",
    "        conv3 = tf.layers.conv2d(maxp2, 16, [4, 4], name='conv3', activation=tf.nn.relu)\n",
    "        maxp3 = tf.layers.max_pooling2d(conv3, (2,2),(2,2), name='maxp3')\n",
    "\n",
    "        conv4 = tf.layers.conv2d(maxp3, 32, [4, 4], name='conv4', activation=tf.nn.relu)\n",
    "        flattened = tf.contrib.layers.flatten(conv4)\n",
    "        \n",
    "        dense1 = tf.layers.dense(flattened, 512, activation=tf.nn.sigmoid, name=\"dense1\")          \n",
    "        \n",
    "    \n",
    "        \n",
    "    return dense1\n"
   ]
  },
  {
   "cell_type": "code",
   "execution_count": 5,
   "metadata": {},
   "outputs": [
    {
     "name": "stdout",
     "output_type": "stream",
     "text": [
      "['first_part/conv1/kernel:0', 'first_part/conv1/bias:0', 'first_part/conv2/kernel:0', 'first_part/conv2/bias:0', 'first_part/conv3/kernel:0', 'first_part/conv3/bias:0', 'first_part/conv4/kernel:0', 'first_part/conv4/bias:0', 'first_part/dense1/kernel:0', 'first_part/dense1/bias:0']\n"
     ]
    }
   ],
   "source": [
    "tf.reset_default_graph()\n",
    "\n",
    "image1 = tf.placeholder(dtype=tf.float32, shape=[None, 105, 105, 1], name=\"image1\")\n",
    "image2 = tf.placeholder(dtype=tf.float32, shape=[None, 105, 105, 1], name=\"image2\")\n",
    "label_placeholder = tf.placeholder(dtype=tf.float32, shape=[None,1], name=\"labels\")\n",
    "\n",
    "## Get the outputs of the two images\n",
    "out_1 = get_siamese_input_network(image1, None)\n",
    "out_2 = get_siamese_input_network(image2, True)\n",
    "print([x.name for x in tf.global_variables()])\n",
    "\n",
    "writer = tf.summary.FileWriter(logdir='graphs/siamese_start', graph=tf.get_default_graph())\n"
   ]
  },
  {
   "cell_type": "markdown",
   "metadata": {},
   "source": [
    "### Combining outputs by this network, and determining the loss\n",
    "After we determined the output of our shared network part we have to see how well they match. To do this we can take the so-called \"L1-distance\", which is simply the absolute of output 1 minus output 2. Of course not every difference we get here has the same importance when determining if two images are the same. This is why we add a last dense layer that will indicate if two vectors are equal or not..."
   ]
  },
  {
   "cell_type": "code",
   "execution_count": 6,
   "metadata": {
    "collapsed": true
   },
   "outputs": [],
   "source": [
    "l_one = tf.abs(tf.subtract(out_1,out_2))\n",
    "prediction = tf.layers.dense(l_one, 1, activation=tf.nn.sigmoid, name=\"output\")\n",
    "mseloss = tf.losses.mean_squared_error(label_placeholder,prediction)\n",
    "\n",
    "optimizer = tf.train.AdamOptimizer().minimize(mseloss)\n",
    "\n",
    "training_summary = tf.summary.scalar('mseloss', mseloss)\n",
    "merged = tf.summary.merge_all()"
   ]
  },
  {
   "cell_type": "markdown",
   "metadata": {},
   "source": [
    "## Video 3: Training and testing a siamese neural network \n",
    "\n",
    "Now we were able to determine what the network looks like it's time to train the network! We will start with defining a summary writer (see section 2), and a session in which we initialize all global variables. \n",
    "\n",
    "\n",
    "https://sorenbouma.github.io/blog/oneshot/"
   ]
  },
  {
   "cell_type": "code",
   "execution_count": 7,
   "metadata": {
    "collapsed": true
   },
   "outputs": [],
   "source": [
    "writer = tf.summary.FileWriter(logdir='graphs/siam/'+str(logging_dir_n), graph=tf.get_default_graph())\n",
    "logging_dir_n += 1\n",
    "\n",
    "sess = tf.Session()\n",
    "sess.run(tf.global_variables_initializer())"
   ]
  },
  {
   "cell_type": "markdown",
   "metadata": {},
   "source": [
    "After we defined the summary writer and session it's time to use the functions we defined earlier to train our network!"
   ]
  },
  {
   "cell_type": "code",
   "execution_count": 8,
   "metadata": {
    "collapsed": true,
    "scrolled": true
   },
   "outputs": [],
   "source": [
    "BATCH_SIZE = 64\n",
    "\n",
    "for iteration in range(300):\n",
    "    pairs, targets = get_batch(Xtrain, BATCH_SIZE)\n",
    "    targets = [[t] for t in targets]\n",
    "    _, summary = sess.run([optimizer, merged], feed_dict={image1: pairs[0], image2: pairs[1], label_placeholder: targets})\n",
    "    writer.add_summary(summary, iteration)"
   ]
  },
  {
   "cell_type": "markdown",
   "metadata": {},
   "source": [
    "### Evaluating your network\n",
    "As we discussed above we evaluate our network by building a very simple task: we take one character, and show that character next to N random characters and 1 of the same character (but a different drawing). We then compare the output of the neural network. If the network performs well it gives the lowest difference score to the same character as the baseline. \n",
    "\n",
    "We can choose how difficult we make this task by changing the amount of choices we give to our network. If we give it five choices this task is easier than if we give it 20 choices. Try them both to really evaluate and compare your network. \n",
    "\n",
    "By performing this task multiple times we determine the accuracy of our network. \n",
    "\n",
    "To implement the evaluation we use the `make_oneshot_task` defined earlier. This function has two of the similar character as first index. If the lowest score is on the first place the network got it correct!"
   ]
  },
  {
   "cell_type": "code",
   "execution_count": 9,
   "metadata": {},
   "outputs": [
    {
     "name": "stdout",
     "output_type": "stream",
     "text": [
      "Accuracy in best of 5\n",
      "0.62\n"
     ]
    }
   ],
   "source": [
    "CHOOSE_FROM_N = 5\n",
    "TEST_COUNT = 100\n",
    "\n",
    "correct_tested = 0\n",
    "\n",
    "for _ in range(TEST_COUNT):\n",
    "    inputs, targets = make_oneshot_task(Xval, CHOOSE_FROM_N)\n",
    "    pred = sess.run(prediction, feed_dict={image1: inputs[0], image2: inputs[1]})\n",
    "#    pred = sess.run(distance, feed_dict={image1: inputs[0], image2: inputs[1]})\n",
    "    \n",
    "#     print(pred)\n",
    "#     print(targets)\n",
    "    maxindex = np.argmin(pred)\n",
    "\n",
    "    if maxindex == 0:\n",
    "        correct_tested += 1\n",
    "print(\"Accuracy in best of \" + str(CHOOSE_FROM_N))\n",
    "print(correct_tested/TEST_COUNT)\n"
   ]
  },
  {
   "cell_type": "markdown",
   "metadata": {},
   "source": [
    "## Video 4: alternative loss functions"
   ]
  },
  {
   "cell_type": "markdown",
   "metadata": {},
   "source": [
    "Currently we use the mean squared error to determine if an outcome is correct or not. A more rigorous metric is the cross-entropy error. We discussed this function before in the context of classificiation problems. The best link to follow to understand it is [this one](https://jamesmccaffrey.wordpress.com/2013/11/05/why-you-should-use-cross-entropy-error-instead-of-classification-error-or-mean-squared-error-for-neural-network-classifier-training/). \n",
    "\n",
    "The loss with cross-entropy error is equal to: \n",
    "> $loss = label*log(outcome) + (1-label) * log(1-outcome)$ \n",
    "\n",
    "As label is either 1 or 0 this equation has a part for images which are the same, and for images which differ. This loss function for only one output is not included in TensorFlow (as far as I know and at the moment I write this), so I will try to define it in a clear way for you. \n",
    "\n",
    "Note that the log of a very small number (close to zero) is very high, so we clip the prediction to never reach this critical value. That said, take a look at what I made of the formula in TensorFlow and make sure you understand it:\n"
   ]
  },
  {
   "cell_type": "code",
   "execution_count": 10,
   "metadata": {
    "collapsed": true
   },
   "outputs": [],
   "source": [
    "epsilon = 0.00001\n",
    "clipped_pred = tf.clip_by_value(prediction,epsilon,tf.subtract(1.0, epsilon),name=\"clippingtool\")\n",
    "log_true = tf.negative(tf.log(clipped_pred))\n",
    "log_false = tf.negative(tf.log(tf.subtract(1.0,clipped_pred)))\n",
    "\n",
    "true_part_of_loss = tf.multiply(label_placeholder,log_true)\n",
    "false_part_of_loss = tf.multiply(tf.subtract(1.0,label_placeholder),log_false)\n",
    "\n",
    "logloss_raw =  tf.add(true_part_of_loss,false_part_of_loss)\n",
    "logloss = tf.reduce_mean(logloss_raw)\n",
    "\n",
    "\n",
    "\n",
    "logloss_summary = tf.summary.scalar('logloss', logloss)\n",
    "merged = tf.summary.merge_all()\n",
    "optimizer = tf.train.AdamOptimizer().minimize(logloss)"
   ]
  },
  {
   "cell_type": "markdown",
   "metadata": {},
   "source": [
    "Initialize a new session..."
   ]
  },
  {
   "cell_type": "code",
   "execution_count": 11,
   "metadata": {
    "collapsed": true
   },
   "outputs": [],
   "source": [
    "writer = tf.summary.FileWriter(logdir='graphs/siam/'+str(logging_dir_n), graph=tf.get_default_graph())\n",
    "logging_dir_n += 1\n",
    "\n",
    "sess = tf.Session()\n",
    "sess.run(tf.global_variables_initializer())"
   ]
  },
  {
   "cell_type": "code",
   "execution_count": 12,
   "metadata": {
    "collapsed": true
   },
   "outputs": [],
   "source": [
    "BATCH_SIZE = 64\n",
    "\n",
    "for iteration in range(300):\n",
    "    pairs, targets = get_batch(Xtrain, BATCH_SIZE)\n",
    "    targets = [[t] for t in targets]\n",
    "    _, summary = sess.run([optimizer, merged], feed_dict={image1: pairs[0], image2: pairs[1], label_placeholder: targets})\n",
    "    writer.add_summary(summary, iteration)"
   ]
  },
  {
   "cell_type": "code",
   "execution_count": 13,
   "metadata": {},
   "outputs": [
    {
     "name": "stdout",
     "output_type": "stream",
     "text": [
      "Accuracy in best of 5\n",
      "0.71\n"
     ]
    }
   ],
   "source": [
    "## Determine the accuracy \n",
    "CHOOSE_FROM_N = 5\n",
    "TEST_COUNT = 300\n",
    "\n",
    "correct_tested = 0\n",
    "\n",
    "for _ in range(TEST_COUNT):\n",
    "    inputs, targets = make_oneshot_task(Xval, CHOOSE_FROM_N)\n",
    "    pred = sess.run(prediction, feed_dict={image1: inputs[0], image2: inputs[1]})\n",
    "    maxindex = np.argmin(pred)\n",
    "\n",
    "    if maxindex == 0:\n",
    "        correct_tested += 1\n",
    "print(\"Accuracy in best of \" + str(CHOOSE_FROM_N))\n",
    "print(correct_tested/TEST_COUNT)"
   ]
  },
  {
   "cell_type": "markdown",
   "metadata": {},
   "source": [
    "### Contrastive loss: use a spring method\n",
    "The last loss function I want to describe works in a separate way. The first two losses we described take the L1 distance, and then train a classifier to determine what features in this vector are important to determine the distance (weighted loss). \n",
    "\n",
    "The contrastive loss works different! Instad of having a weight per feature it works directly on the output vectors. First, try to see the output of the network as a point in N-dimensional space. We would like the same character to be close to other instances of the same character. If two characters are the same we try to get the points closer together. \n",
    "\n",
    "However, if two points are different they have to be far away from each other. They don't have to be very far away from each other, but at least a (small) radius away from the first point. This is the idea of contrastive loss. \n",
    "\n",
    "We thus basically have two components again, just like with the cross-entropy loss function there is a term for two points that have the same label, and two points that have a different label. If they are the same (distance 0.0), we give a penalty based on how far the labels are (either squared or linear). \n",
    "\n",
    "However, if we have two images of a different class and they are represented further than a certain marging away from each other, we do not add any loss! The points are great as they are and there is no need to change the neural network. \n",
    "\n",
    "You can tune the margin yourself and test what gives you the best results!"
   ]
  },
  {
   "cell_type": "markdown",
   "metadata": {},
   "source": [
    "# Contrastive loss again\n"
   ]
  },
  {
   "cell_type": "code",
   "execution_count": 27,
   "metadata": {
    "collapsed": true
   },
   "outputs": [],
   "source": [
    "def contrastive_loss(char1, char2, labels, margin):\n",
    "    y = tf.reshape(labels, [-1])\n",
    "    with tf.name_scope(\"contrastive-loss\"):\n",
    "        l_two = tf.square(char1-char2)\n",
    "        distance = tf.reduce_sum(l_two, axis=1)\n",
    "        \n",
    "        negativepart = (1-y)*distance\n",
    "        positivepart = y*tf.maximum(0.0,margin-distance)\n",
    "        \n",
    "        contrastiveloss = negativepart + positivepart\n",
    "        contrastiveloss = tf.reduce_mean(contrastiveloss)\n",
    "    return contrastiveloss, distance\n",
    "\n",
    "\n",
    "margin=0.2\n",
    "contrastiveloss, distance = contrastive_loss(out_1, out_2, label_placeholder, margin)\n",
    "contr_loss_summary = tf.summary.scalar('contrastiveloss', contrastiveloss)\n",
    "merged = tf.summary.merge_all()\n",
    "\n",
    "\n",
    "optimizer = tf.train.AdamOptimizer().minimize(contrastiveloss)"
   ]
  },
  {
   "cell_type": "markdown",
   "metadata": {
    "collapsed": true
   },
   "source": [
    "Initialize the summarywriter and session again, and then you are ready for training!"
   ]
  },
  {
   "cell_type": "code",
   "execution_count": 28,
   "metadata": {
    "collapsed": true
   },
   "outputs": [],
   "source": [
    "writer = tf.summary.FileWriter(logdir='graphs/siam/'+str(logging_dir_n), graph=tf.get_default_graph())\n",
    "logging_dir_n += 1\n",
    "\n",
    "sess = tf.Session()\n",
    "sess.run(tf.global_variables_initializer())"
   ]
  },
  {
   "cell_type": "code",
   "execution_count": 29,
   "metadata": {
    "collapsed": true
   },
   "outputs": [],
   "source": [
    "BATCH_SIZE = 64\n",
    "\n",
    "for iteration in range(300):\n",
    "    pairs, targets = get_batch(Xtrain, BATCH_SIZE)\n",
    "    targets = [[t] for t in targets]\n",
    "    _, summary = sess.run([optimizer, merged], feed_dict={image1: pairs[0], image2: pairs[1], label_placeholder: targets})\n",
    "    writer.add_summary(summary, iteration)"
   ]
  },
  {
   "cell_type": "markdown",
   "metadata": {},
   "source": [
    "### Determining accuray\n",
    "Now that we used a different way of determining if two images are of the same class we can't use the prediction output anymore. Instead we have to look at the distance parameter..."
   ]
  },
  {
   "cell_type": "code",
   "execution_count": 30,
   "metadata": {},
   "outputs": [
    {
     "name": "stdout",
     "output_type": "stream",
     "text": [
      "Accuracy in best of 5\n",
      "0.85\n"
     ]
    }
   ],
   "source": [
    "CHOOSE_FROM_N = 5\n",
    "TEST_COUNT = 100\n",
    "correct_tested = 0\n",
    "\n",
    "for _ in range(TEST_COUNT):\n",
    "    inputs, targets = make_oneshot_task(Xval, CHOOSE_FROM_N)\n",
    "    dist = sess.run(distance, feed_dict={image1: inputs[0], image2: inputs[1]})\n",
    "    maxindex = np.argmin(dist)\n",
    "\n",
    "    if maxindex == 0:\n",
    "        correct_tested += 1\n",
    "print(\"Accuracy in best of \" + str(CHOOSE_FROM_N))\n",
    "print(correct_tested/TEST_COUNT)"
   ]
  },
  {
   "cell_type": "markdown",
   "metadata": {
    "collapsed": true
   },
   "source": [
    "## Video 5: speed of your network\n",
    "By now we are building pretty large networks. What I want to do in this video is give you not only an intuition in what makes your network slow, but also give you the capability to calculate this yourself. \n",
    "\n",
    "### Batch sizes\n",
    "One thing you can do to train \"faster\" is use a smaller batch size. The reason you take a batch of data is that it's often impossible to train on all your data at once (as both all data and all gradients don't fit into your computers memory). To get a \"representation\" of the data you randomly select samples, which you hope are a good distribution of your data. It's easy to get this distribution wrong if you have very sparse data. Let's say you are training on the MNIST data set. If you use a batch size of less than 10 you can't even have all digits in this single batch. You will then optimise your network parameters based on a very incomplete sample of your data. However, using a larger batch size of 1000 will require 100 times the amount of memory than your batch size of 10. \n",
    "\n",
    "There is no right or wrong batch size for any given problem. Depending on the time you have to train your algorithm, and the accuracy you expect, you can select a different batch size. "
   ]
  },
  {
   "cell_type": "code",
   "execution_count": null,
   "metadata": {},
   "outputs": [],
   "source": [
    "for BATCH_SIZE in [8,16,32,64,128]:\n",
    "    writer = tf.summary.FileWriter(logdir='graphs/siam/batchsize'+str(BATCH_SIZE), graph=tf.get_default_graph())\n",
    "    sess = tf.Session()\n",
    "    sess.run(tf.global_variables_initializer())\n",
    "\n",
    "\n",
    "\n",
    "    for iteration in range(300):\n",
    "        pairs, targets = get_batch(Xtrain, BATCH_SIZE)\n",
    "        targets = [[t] for t in targets]\n",
    "        _, summary = sess.run([optimizer, merged], feed_dict={image1: pairs[0], image2: pairs[1], label_placeholder: targets})\n",
    "        writer.add_summary(summary, iteration)"
   ]
  },
  {
   "cell_type": "markdown",
   "metadata": {},
   "source": [
    "\n",
    "### Dense layers\n",
    "A big factor in real-time training time can be the time your dense layers need to computer. In the case of our siamese neural network, there is a dense layer just before the networks join together, in the `get_siamese_input_network` function. Let's take a look at the last layer, and see what the effect of reshaping it has on the input of our dense layer. As we have several max pool layers before that layer, the width and height of the matrix are 6x6. \n",
    "\n",
    "| Last conv size:        | Reshaped size\n",
    "| ------------- |:-------------:|\n",
    "| 6x6x16      | 576 |\n",
    "| 6x6x32      | 1152      |\n",
    "| 6x6x128     | 4608      |\n",
    "\n",
    "Now these sizes don't seem really scare as output of a convolutional layer, but they become scary once you start calculating the amount of weights you need between two dense layers:\n",
    "\n",
    "| Dense in:        | Dense out: | Weights |\n",
    "| ------------- |:-------------:|----|\n",
    "| 576         | 576       | 331.776|\n",
    "| 576         | 1152      | 663.552|\n",
    "| 576         | 4608      | 2.654.208|\n",
    "| 1152         | 576       | 663.552|\n",
    "| 1152        | 1152      | 1.327.104|\n",
    "| 1152        | 4608      | 5.308.416|\n",
    "| 4608        | 576       | 2.654.208|\n",
    "| 4608        | 1152      | 5.308.416|\n",
    "| 4608         | 4608      | 21.233.664|\n",
    "\n",
    "\n",
    "Now let's calculate how much memory we need to have to store these weights, assuming you use floating point numbers which take four bytes per weight: \n",
    "\n",
    "\n",
    "| Dense in:        | Dense out: | Weights | Memory: |\n",
    "| ------------- |:-------------:|----|:-------:|\n",
    "| 576         | 576       | 331.776 | 1.33 MB |\n",
    "| 576         | 4608      | 2.654.208 | 10.62 MB |\n",
    "| 1152         | 576       | 663.552 | 2.65 MB |\n",
    "| 1152        | 4608      | 5.308.416 | 21.23 MB |\n",
    "| 4608        | 576       | 2.654.208 | 10.62 MB |\n",
    "| 4608         | 4608      | 21.233.664 | 84.93 MB |\n",
    "\n",
    "Going from 576 to 4608 gives you only 8 times as many output neurons, but a 4608x4608 matrix takes 64 times the memory of a 576x576 matrix. \n",
    "\n",
    "From now on, think about how many input and output neurons you need, and while choosing your architecture try to keep your layers small. "
   ]
  },
  {
   "cell_type": "code",
   "execution_count": null,
   "metadata": {
    "collapsed": true
   },
   "outputs": [],
   "source": [
    "def get_siamese_input_network_with_paramdict(x_input, reuse, parameter_dictionary):\n",
    "    \n",
    "    tf.summary.image('image_in'+str(reuse), x_input)\n",
    "    \n",
    "    with tf.variable_scope(\"first_part\", reuse=reuse):\n",
    "        conv1 = tf.layers.conv2d(x_input, parameter_dictionary[\"conv1\"], [10, 10], name='conv1', activation=tf.nn.relu)\n",
    "        maxp1 = tf.layers.max_pooling2d(conv1, (2,2),(2,2), name='maxp1')\n",
    "        \n",
    "        conv2 = tf.layers.conv2d(maxp1, parameter_dictionary[\"conv2\"], [7, 7], name='conv2', activation=tf.nn.relu)\n",
    "        maxp2 = tf.layers.max_pooling2d(conv2, (2,2),(2,2), name='maxp2')\n",
    "        \n",
    "        conv3 = tf.layers.conv2d(maxp2, parameter_dictionary[\"conv3\"], [4, 4], name='conv3', activation=tf.nn.relu)\n",
    "        maxp3 = tf.layers.max_pooling2d(conv3, (2,2),(2,2), name='maxp3')\n",
    "\n",
    "        conv4 = tf.layers.conv2d(maxp3, parameter_dictionary[\"conv4\"], [4, 4], name='conv4', activation=tf.nn.relu)\n",
    "\n",
    "        flattened = tf.contrib.layers.flatten(conv4)\n",
    "\n",
    "        dense1 = tf.layers.dense(flattened, parameter_dictionary[\"dense1\"], activation=tf.nn.sigmoid, name=\"dense1\")\n",
    "    return dense1\n"
   ]
  },
  {
   "cell_type": "code",
   "execution_count": null,
   "metadata": {
    "collapsed": true
   },
   "outputs": [],
   "source": [
    "def test_hyperparameters(hyperdict, runname):\n",
    "    tf.reset_default_graph()\n",
    "    image1 = tf.placeholder(dtype=tf.float32, shape=[None, 105, 105, 1], name=\"image1\")\n",
    "    image2 = tf.placeholder(dtype=tf.float32, shape=[None, 105, 105, 1], name=\"image2\")\n",
    "    label_placeholder = tf.placeholder(dtype=tf.float32, shape=[None,1], name=\"labels\")\n",
    "\n",
    "\n",
    "    ## Get the outputs of the two images\n",
    "    out_1 = get_siamese_input_network_with_paramdict(image1, None, hyperdict)\n",
    "    out_2 = get_siamese_input_network_with_paramdict(image2, True, hyperdict)\n",
    "\n",
    "    ## Determine loss and add it to summary\n",
    "    contrastiveloss, distance = contrastive_loss(out_1, out_2, label_placeholder, margin)\n",
    "    contr_loss_summary = tf.summary.scalar('contrastiveloss', contrastiveloss)\n",
    "    merged = tf.summary.merge_all()\n",
    "\n",
    "    ## The optimizer\n",
    "    optimizer = tf.train.AdamOptimizer().minimize(contrastiveloss)\n",
    "    \n",
    "    ## New session and writer\n",
    "    writer = tf.summary.FileWriter(logdir='graphs/'+runname, graph=tf.get_default_graph())\n",
    "    sess = tf.Session()\n",
    "    sess.run(tf.global_variables_initializer())\n",
    "\n",
    "    \n",
    "    ## Train for 300 iterations\n",
    "    BATCH_SIZE = 32\n",
    "    for iteration in range(300):\n",
    "        pairs, targets = get_batch(Xtrain, BATCH_SIZE)\n",
    "        targets = [[t] for t in targets]\n",
    "\n",
    "        _, summary = sess.run([optimizer, merged], feed_dict={image1: pairs[0], image2: pairs[1], label_placeholder: targets})\n",
    "        writer.add_summary(summary, iteration)\n",
    "\n",
    "\n",
    "def get_standard_dict():\n",
    "    paramdict = dict()\n",
    "    paramdict['conv1'] = 16\n",
    "    paramdict['conv2'] = 32\n",
    "    paramdict['conv3'] = 32\n",
    "    paramdict['conv4'] = 32\n",
    "    paramdict['dense1'] = 512\n",
    "    return paramdict"
   ]
  },
  {
   "cell_type": "code",
   "execution_count": null,
   "metadata": {},
   "outputs": [],
   "source": [
    "\n",
    "standarddict = get_standard_dict()\n",
    "for dense_size in [8,32,128,512,2048,4096]:\n",
    "    runname=\"densesize\"+str(dense_size)\n",
    "    standarddict['dense1'] = dense_size\n",
    "    test_hyperparameters(standarddict, runname)    \n",
    "   \n",
    "    ## Determine the accuracy \n",
    "    CHOOSE_FROM_N = 5\n",
    "    TEST_COUNT = 300\n",
    "\n",
    "    correct_tested = 0\n",
    "\n",
    "    for _ in range(TEST_COUNT):\n",
    "        inputs, targets = make_oneshot_task(Xval, CHOOSE_FROM_N)\n",
    "        dist = sess.run(distance, feed_dict={image1: inputs[0], image2: inputs[1]})\n",
    "        maxindex = np.argmin(dist)\n",
    "\n",
    "        if maxindex == 0:\n",
    "            correct_tested += 1\n",
    "    print(\"Accuracy in best of \" + str(CHOOSE_FROM_N))\n",
    "    print(correct_tested/TEST_COUNT)\n"
   ]
  },
  {
   "cell_type": "markdown",
   "metadata": {},
   "source": [
    "### Convolutional layers\n",
    "Now let's look at our convolutional layers. \n",
    "\n",
    "Last thing of this video is a note that it's important to keep several tradeoffs in mind: \n",
    "- The larger your network, the more features it can learn... But the larger your network, the more prone it is to overfitting. \n",
    "- The larger your network, the more feature it can learn... But the larger your network, the longer it takes to train it, and the more data you need. \n",
    "- "
   ]
  },
  {
   "cell_type": "code",
   "execution_count": null,
   "metadata": {},
   "outputs": [],
   "source": [
    "paramdict = get_standard_dict()\n",
    "for conv_size in [2,4,8,16,32,64]:\n",
    "    runname=\"convsize\"+str(conv_size)\n",
    "    paramdict['conv1'] = conv_size\n",
    "    paramdict['conv2'] = 2*conv_size\n",
    "    paramdict['conv3'] = 2*conv_size\n",
    "    paramdict['conv4'] = 4*conv_size\n",
    "    \n",
    "    test_hyperparameters(paramdict, runname)    \n",
    "    ## Determine the accuracy \n",
    "    CHOOSE_FROM_N = 5\n",
    "    TEST_COUNT = 300\n",
    "\n",
    "    correct_tested = 0\n",
    "\n",
    "    for _ in range(TEST_COUNT):\n",
    "        inputs, targets = make_oneshot_task(Xval, CHOOSE_FROM_N)\n",
    "        dist = sess.run(distance, feed_dict={image1: inputs[0], image2: inputs[1]})\n",
    "        maxindex = np.argmin(dist)\n",
    "\n",
    "        if maxindex == 0:\n",
    "            correct_tested += 1\n",
    "    print(\"Accuracy in best of \" + str(CHOOSE_FROM_N))\n",
    "    print(correct_tested/TEST_COUNT)\n"
   ]
  },
  {
   "cell_type": "markdown",
   "metadata": {
    "collapsed": true
   },
   "source": [
    "### Evaluation and conclusion\n",
    "One thing to keep in mind is that the distance metric is the amount of dimensions specified in the last layer. If you increase the size of this layer the distance will naturally grow a bit. "
   ]
  },
  {
   "cell_type": "code",
   "execution_count": null,
   "metadata": {
    "collapsed": true
   },
   "outputs": [],
   "source": []
  }
 ],
 "metadata": {
  "kernelspec": {
   "display_name": "Python 3",
   "language": "python",
   "name": "python3"
  },
  "language_info": {
   "codemirror_mode": {
    "name": "ipython",
    "version": 3
   },
   "file_extension": ".py",
   "mimetype": "text/x-python",
   "name": "python",
   "nbconvert_exporter": "python",
   "pygments_lexer": "ipython3",
   "version": "3.5.2"
  }
 },
 "nbformat": 4,
 "nbformat_minor": 2
}
