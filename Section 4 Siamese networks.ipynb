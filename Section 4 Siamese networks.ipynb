{
 "cells": [
  {
   "cell_type": "markdown",
   "metadata": {},
   "source": [
    "\n",
    "# Section 5: Learning from only one sample: simple siamese neural networks\n",
    "## Video 1: Discussion on methods with one sample (intro dataset)\n",
    "\n",
    "Download the dataset here: https://github.com/brendenlake/omniglot"
   ]
  },
  {
   "cell_type": "code",
   "execution_count": 1,
   "metadata": {},
   "outputs": [
    {
     "name": "stdout",
     "output_type": "stream",
     "text": [
      "Loading training set\n",
      "loading alphabet: Anglo-Saxon_Futhorc\n",
      "loading alphabet: Mkhedruli_(Georgian)\n",
      "loading alphabet: Ojibwe_(Canadian_Aboriginal_Syllabics)\n",
      "loading alphabet: Braille\n",
      "loading alphabet: Japanese_(hiragana)\n",
      "loading alphabet: Inuktitut_(Canadian_Aboriginal_Syllabics)\n",
      "loading alphabet: Asomtavruli_(Georgian)\n",
      "loading alphabet: Latin\n",
      "loading alphabet: Greek\n",
      "loading alphabet: Japanese_(katakana)\n",
      "loading alphabet: Grantha\n",
      "loading alphabet: N_Ko\n",
      "loading alphabet: Balinese\n",
      "loading alphabet: Tagalog\n",
      "loading alphabet: Bengali\n",
      "loading alphabet: Blackfoot_(Canadian_Aboriginal_Syllabics)\n",
      "loading alphabet: Alphabet_of_the_Magi\n",
      "loading alphabet: Futurama\n",
      "loading alphabet: Tifinagh\n",
      "loading alphabet: Malay_(Jawi_-_Arabic)\n",
      "loading alphabet: Gujarati\n",
      "loading alphabet: Early_Aramaic\n",
      "loading alphabet: Hebrew\n",
      "loading alphabet: Syriac_(Estrangelo)\n",
      "loading alphabet: Korean\n",
      "loading alphabet: Arcadian\n",
      "loading alphabet: Armenian\n",
      "loading alphabet: Cyrillic\n",
      "loading alphabet: Sanskrit\n",
      "loading alphabet: Burmese_(Myanmar)\n",
      "(964, 20, 105, 105)\n",
      "Now loading evaluation set\n",
      "loading alphabet: ULOG\n",
      "loading alphabet: Malayalam\n",
      "loading alphabet: Atlantean\n",
      "loading alphabet: Gurmukhi\n",
      "loading alphabet: Glagolitic\n",
      "loading alphabet: Old_Church_Slavonic_(Cyrillic)\n",
      "loading alphabet: Tibetan\n",
      "loading alphabet: Oriya\n",
      "loading alphabet: Mongolian\n",
      "loading alphabet: Sylheti\n",
      "loading alphabet: Atemayar_Qelisayer\n",
      "loading alphabet: Aurek-Besh\n",
      "loading alphabet: Tengwar\n",
      "loading alphabet: Angelic\n",
      "loading alphabet: Kannada\n",
      "loading alphabet: Keble\n",
      "loading alphabet: Manipuri\n",
      "loading alphabet: Syriac_(Serto)\n",
      "loading alphabet: Avesta\n",
      "loading alphabet: Ge_ez\n",
      "(659, 20, 105, 105)\n"
     ]
    }
   ],
   "source": [
    "import sys\n",
    "import numpy as np\n",
    "from scipy.misc import imread\n",
    "import os\n",
    "import matplotlib.pyplot as plt\n",
    "import numpy as np\n",
    "import tensorflow as tf\n",
    "\n",
    "## Set logging dir for Tensorboard\n",
    "logging_dir_n = 0\n",
    "\n",
    "data_path = \"datasets/omniglot/python/\"\n",
    "train_path = os.path.join(data_path,'images_background')\n",
    "validation_path = os.path.join(data_path,'images_evaluation')\n",
    "\n",
    "def load_images_from_directory(path,n=0):\n",
    "    X=[]\n",
    "    \n",
    "    ## We load every alphabet seperately and append that to one tensor\n",
    "    for alphabet in os.listdir(path):\n",
    "        print(\"loading alphabet: \" + alphabet)\n",
    "        alphabet_path = os.path.join(path,alphabet)\n",
    "        \n",
    "        ## Each character in alphabet is in a separate folder\n",
    "        for letter in os.listdir(alphabet_path):\n",
    "            category_images=[]\n",
    "            letter_path = os.path.join(alphabet_path, letter)\n",
    "      \n",
    "            if not os.path.isdir(letter_path):\n",
    "                continue\n",
    "\n",
    "            ## Read every image in this directory\n",
    "            for filename in os.listdir(letter_path):\n",
    "                image_path = os.path.join(letter_path, filename)\n",
    "                image = imread(image_path)\n",
    "                category_images.append(image)\n",
    "            \n",
    "            try:\n",
    "                X.append(np.stack(category_images))\n",
    "            #edge case  - last one\n",
    "            except ValueError as e:\n",
    "                print(e)\n",
    "                print(\"error - category_images:\", category_images)\n",
    "    \n",
    "    X = np.stack(X)\n",
    "    return X\n",
    "\n",
    "print(\"Loading training set\")\n",
    "Xtrain = load_images_from_directory(train_path)\n",
    "print(Xtrain.shape)\n",
    "\n",
    "print(\"Now loading evaluation set\")\n",
    "Xval = load_images_from_directory(validation_path)\n",
    "print(Xval.shape)"
   ]
  },
  {
   "cell_type": "code",
   "execution_count": 2,
   "metadata": {
    "collapsed": true
   },
   "outputs": [],
   "source": [
    "import numpy.random as rng\n",
    "\n",
    "def get_batch(data, batch_size):\n",
    "    n_classes, n_examples, w, h = data.shape\n",
    "    \n",
    "    ## Initialise data we return in memory\n",
    "    pairs=[np.zeros((batch_size, h, w,1)) for i in range(2)]\n",
    "    \n",
    "    ## Make a target vector with half same and half other categories\n",
    "    targets=np.zeros((batch_size,))\n",
    "    targets[batch_size//2:] = 1\n",
    "    \n",
    "    ## Pick the categories of characters we will return\n",
    "    categories = rng.choice(n_classes,size=(batch_size,),replace=False)\n",
    "    \n",
    "    for i in range(batch_size):\n",
    "        category = categories[i]\n",
    "        \n",
    "        ## Choose two indixes from the amount of examples (20) we have\n",
    "        idx_1 = rng.randint(0, n_examples)\n",
    "        idx_2 = rng.randint(0, n_examples)\n",
    "        \n",
    "        #pick images of same class for 1st half, different for 2nd\n",
    "        if targets[i] == 1:\n",
    "            category_2 = category # if target is set: pick from same category\n",
    "        else:\n",
    "            ## Pick new class by picking random number \n",
    "            category_2 = (category + rng.randint(1,n_classes)) % n_classes\n",
    "        \n",
    "        pairs[0][i,:,:,:] = data[category,idx_1].reshape(w,h,1)\n",
    "        pairs[1][i,:,:,:] = data[category_2,idx_2].reshape(w,h,1)\n",
    "  \n",
    "    return pairs, targets\n",
    "\n",
    "\n",
    "def make_oneshot_task(data, N):\n",
    "    n_val, n_ex_val, w, h = data.shape\n",
    "\n",
    "    categories = rng.choice(n_val,size=(N,),replace=False)\n",
    "    true_category = categories[0]\n",
    "    \n",
    "    indices = rng.randint(0, n_ex_val,size=(N,))\n",
    "    \n",
    "    ex1, ex2 = rng.choice(n_ex_val,replace=False,size=(2,))\n",
    "    \n",
    "    ## Create a list with the same image N times as test image\n",
    "    test_image = np.asarray([data[true_category,ex1,:,:]]*N).reshape(N,w,h,1)\n",
    "    \n",
    "    support_set = data[categories,indices,:,:]\n",
    "    \n",
    "    ## Create the targets and fill in true character\n",
    "    targets = np.zeros((N,))    \n",
    "    targets[0] = 1 # Set the first target to be the true character\n",
    "    support_set[0,:,:] = data[true_category,ex2] # Fill in this caracter\n",
    "    \n",
    "    \n",
    "    ## Reshape the data and return it\n",
    "    support_set = support_set.reshape(N,w,h,1)\n",
    "    pairs = [test_image,support_set]\n",
    "    return pairs, targets"
   ]
  },
  {
   "cell_type": "markdown",
   "metadata": {},
   "source": [
    "### Visualising the characters."
   ]
  },
  {
   "cell_type": "code",
   "execution_count": 3,
   "metadata": {},
   "outputs": [
    {
     "name": "stdout",
     "output_type": "stream",
     "text": [
      "2\n"
     ]
    },
    {
     "data": {
      "image/png": "[encoded data removed]",
      "text/plain": [
       "<matplotlib.figure.Figure at 0x7fd14c6581d0>"
      ]
     },
     "metadata": {},
     "output_type": "display_data"
    },
    {
     "data": {
      "image/png": "[encoded data removed]",
      "text/plain": [
       "<matplotlib.figure.Figure at 0x7fd135023828>"
      ]
     },
     "metadata": {},
     "output_type": "display_data"
    },
    {
     "name": "stdout",
     "output_type": "stream",
     "text": [
      "Is the same: 0.0\n"
     ]
    },
    {
     "data": {
      "image/png": "[encoded data removed]",
      "text/plain": [
       "<matplotlib.figure.Figure at 0x7fd134fc40f0>"
      ]
     },
     "metadata": {},
     "output_type": "display_data"
    },
    {
     "data": {
      "image/png": "[encoded data removed]",
      "text/plain": [
       "<matplotlib.figure.Figure at 0x7fd13502b6a0>"
      ]
     },
     "metadata": {},
     "output_type": "display_data"
    },
    {
     "name": "stdout",
     "output_type": "stream",
     "text": [
      "Is the same: 0.0\n"
     ]
    },
    {
     "data": {
      "image/png": "[encoded data removed]",
      "text/plain": [
       "<matplotlib.figure.Figure at 0x7fd134f02b38>"
      ]
     },
     "metadata": {},
     "output_type": "display_data"
    },
    {
     "data": {
      "image/png": "[encoded data removed]",
      "text/plain": [
       "<matplotlib.figure.Figure at 0x7fd134e7cdd8>"
      ]
     },
     "metadata": {},
     "output_type": "display_data"
    },
    {
     "name": "stdout",
     "output_type": "stream",
     "text": [
      "Is the same: 0.0\n"
     ]
    },
    {
     "data": {
      "image/png": "[encoded data removed]",
      "text/plain": [
       "<matplotlib.figure.Figure at 0x7fd134e49f28>"
      ]
     },
     "metadata": {},
     "output_type": "display_data"
    },
    {
     "data": {
      "image/png": "[encoded data removed]",
      "text/plain": [
       "<matplotlib.figure.Figure at 0x7fd13502de80>"
      ]
     },
     "metadata": {},
     "output_type": "display_data"
    },
    {
     "name": "stdout",
     "output_type": "stream",
     "text": [
      "Is the same: 0.0\n"
     ]
    },
    {
     "data": {
      "image/png": "[encoded data removed]",
      "text/plain": [
       "<matplotlib.figure.Figure at 0x7fd134e6ea90>"
      ]
     },
     "metadata": {},
     "output_type": "display_data"
    },
    {
     "data": {
      "image/png": "[encoded data removed]",
      "text/plain": [
       "<matplotlib.figure.Figure at 0x7fd134e76c50>"
      ]
     },
     "metadata": {},
     "output_type": "display_data"
    },
    {
     "name": "stdout",
     "output_type": "stream",
     "text": [
      "Is the same: 0.0\n"
     ]
    },
    {
     "data": {
      "image/png": "[encoded data removed]",
      "text/plain": [
       "<matplotlib.figure.Figure at 0x7fd134e584a8>"
      ]
     },
     "metadata": {},
     "output_type": "display_data"
    },
    {
     "data": {
      "image/png": "[encoded data removed]",
      "text/plain": [
       "<matplotlib.figure.Figure at 0x7fd134c58978>"
      ]
     },
     "metadata": {},
     "output_type": "display_data"
    },
    {
     "name": "stdout",
     "output_type": "stream",
     "text": [
      "Is the same: 1.0\n"
     ]
    },
    {
     "data": {
      "image/png": "[encoded data removed]",
      "text/plain": [
       "<matplotlib.figure.Figure at 0x7fd134bf47b8>"
      ]
     },
     "metadata": {},
     "output_type": "display_data"
    },
    {
     "data": {
      "image/png": "[encoded data removed]",
      "text/plain": [
       "<matplotlib.figure.Figure at 0x7fd134c4a438>"
      ]
     },
     "metadata": {},
     "output_type": "display_data"
    },
    {
     "name": "stdout",
     "output_type": "stream",
     "text": [
      "Is the same: 1.0\n"
     ]
    },
    {
     "data": {
      "image/png": "[encoded data removed]",
      "text/plain": [
       "<matplotlib.figure.Figure at 0x7fd134c7ef98>"
      ]
     },
     "metadata": {},
     "output_type": "display_data"
    },
    {
     "data": {
      "image/png": "[encoded data removed]",
      "text/plain": [
       "<matplotlib.figure.Figure at 0x7fd134c5da90>"
      ]
     },
     "metadata": {},
     "output_type": "display_data"
    },
    {
     "name": "stdout",
     "output_type": "stream",
     "text": [
      "Is the same: 1.0\n"
     ]
    },
    {
     "data": {
      "image/png": "[encoded data removed]",
      "text/plain": [
       "<matplotlib.figure.Figure at 0x7fd135048da0>"
      ]
     },
     "metadata": {},
     "output_type": "display_data"
    },
    {
     "data": {
      "image/png": "[encoded data removed]",
      "text/plain": [
       "<matplotlib.figure.Figure at 0x7fd134c41908>"
      ]
     },
     "metadata": {},
     "output_type": "display_data"
    },
    {
     "name": "stdout",
     "output_type": "stream",
     "text": [
      "Is the same: 1.0\n"
     ]
    },
    {
     "data": {
      "image/png": "[encoded data removed]",
      "text/plain": [
       "<matplotlib.figure.Figure at 0x7fd134c263c8>"
      ]
     },
     "metadata": {},
     "output_type": "display_data"
    },
    {
     "data": {
      "image/png": "[encoded data removed]",
      "text/plain": [
       "<matplotlib.figure.Figure at 0x7fd134d67f60>"
      ]
     },
     "metadata": {},
     "output_type": "display_data"
    },
    {
     "name": "stdout",
     "output_type": "stream",
     "text": [
      "Is the same: 1.0\n"
     ]
    }
   ],
   "source": [
    "pairs, targets = get_batch(Xtrain, 10)\n",
    "print(len(pairs))\n",
    "for i in range(len(pairs[0])):\n",
    "\n",
    "    #print(pairs[0][i].shape)    \n",
    "    image = np.reshape(pairs[0][i],(105,105))\n",
    "    plt.imshow(image)\n",
    "    plt.show()\n",
    "    image = np.reshape(pairs[1][i],(105,105))\n",
    "    plt.imshow(image)\n",
    "    plt.show()\n",
    "    print(\"Is the same: \" + str(targets[i]))\n"
   ]
  },
  {
   "cell_type": "markdown",
   "metadata": {},
   "source": [
    "## Video 2: What is a siamese neural network?\n",
    "Now imagine what you would have to do to train a neural network to recognise these images. We could try to have 1623 output neurons of our network, and train it on the data that we have. Now we only have 20 characters as example per image (and less after we split train and test set), so it will be very difficult to train this. \n",
    "\n",
    "Instead we take a different approach: we ask our network: are these two images the same character? It's like asking a human: are these two the same person? \n",
    "![arnold1](https://upload.wikimedia.org/wikipedia/commons/d/d4/Arnold_Schwarzenegger_February_2015.jpg)\n",
    "![arnold2](https://c1.staticflickr.com/1/450/19869372178_6bf3dc0a10_b.jpg)\n",
    "\n",
    "Training a neural network to recognise every human being on the planet is downright impossible, but we could train it to indicate if two images are the same or not. \n",
    "\n",
    "In a siamese neural network we perform this task by making a neural network that maps input to an output vector. The idea is that this neural network maps the same charater to the same output vector every time. \n",
    "\n",
    "There are a lot of interesting things about this neural network: \n",
    "- The layers are shared during training\n",
    "- You only need a dataset with characters either marked \"the same\" and \"different\"\n",
    "- This neural network then works with similar data the network never saw before!\n",
    "\n",
    "To actually build this neural network we are going to define a function that returns the layers of the input part of the network. Note that we use the variable scope to AND structure this nicely in Tensorboard, AND so we can reuse the layers we built earlier..."
   ]
  },
  {
   "cell_type": "code",
   "execution_count": 35,
   "metadata": {},
   "outputs": [
    {
     "name": "stdout",
     "output_type": "stream",
     "text": [
      "Tensor(\"first_part/Flatten/Reshape:0\", shape=(?, 784), dtype=float32)\n",
      "Tensor(\"first_part_1/Flatten/Reshape:0\", shape=(?, 784), dtype=float32)\n",
      "['first_part/dense01/kernel:0', 'first_part/dense01/bias:0', 'first_part/dense02/kernel:0', 'first_part/dense02/bias:0', 'first_part/dense03/kernel:0', 'first_part/dense03/bias:0', 'first_part/dense1/kernel:0', 'first_part/dense1/bias:0']\n"
     ]
    }
   ],
   "source": [
    "\n",
    "\n",
    "def get_input_pipeline(x_input, is_training, reuse):\n",
    "    \n",
    "    tf.summary.image('image_in'+str(reuse), x_input)\n",
    "    \n",
    "    with tf.variable_scope(\"first_part\", reuse=reuse):\n",
    "#         conv1 = tf.layers.conv2d(x_input, 64, [10, 10], name='conv1', activation=tf.nn.relu, padding=\"same\")\n",
    "#         maxp1 = tf.layers.max_pooling2d(conv1, (2,2),(2,2), name='maxp1')\n",
    "        \n",
    "#         drop1  = tf.layers.dropout(maxp1, training=is_training)\n",
    "#         conv2 = tf.layers.conv2d(drop1, 128, [5, 5], name='conv2', activation=tf.nn.relu, padding=\"same\")\n",
    "#         maxp2 = tf.layers.max_pooling2d(conv2, (2,2),(2,2), name='maxp2')\n",
    "        \n",
    "#         drop2  = tf.layers.dropout(maxp2, training=is_training)\n",
    "#         conv3 = tf.layers.conv2d(drop2, 128, [3, 3], name='conv3', activation=tf.nn.relu, padding=\"same\")\n",
    "#         maxp3 = tf.layers.max_pooling2d(conv3, (2,2),(2,2), name='maxp3')\n",
    "\n",
    "#         drop3  = tf.layers.dropout(maxp3, training=is_training)\n",
    "#         conv4 = tf.layers.conv2d(drop3, 256, [3, 3], name='conv4', activation=tf.nn.relu)\n",
    "#         maxp4 = tf.layers.max_pooling2d(conv4, (2,2),(2,2), name='maxp4')\n",
    "        \n",
    "#         drop4  = tf.layers.dropout(maxp4, training=is_training)\n",
    "#         conv5 = tf.layers.conv2d(maxp4, 512, [3, 3], name='conv5', activation=tf.nn.relu)\n",
    "    \n",
    "#         flattened = tf.contrib.layers.flatten(conv5)\n",
    "        \n",
    "#         print(flattened) # Print so we know if this is a reasonable size for this flattened layer\n",
    "        \n",
    "#         drop5  = tf.layers.dropout(flattened, training=is_training)\n",
    "#         dense1 = tf.layers.dense(drop5, 4096, activation=tf.nn.sigmoid, name=\"dense1\")\n",
    "\n",
    "\n",
    "\n",
    "        resized_image = tf.image.resize_images(x_input, (28,28))\n",
    "        tf.summary.image('resized_image'+str(reuse), resized_image)\n",
    "#         conv1 = tf.layers.conv2d(resized_image, 64, [5, 5], name='conv1', activation=tf.nn.relu, padding=\"same\")\n",
    "#         maxp1 = tf.layers.max_pooling2d(conv1, (2,2),(2,2), name='maxp1')\n",
    "        \n",
    "#         drop1  = tf.layers.dropout(maxp1, training=is_training)\n",
    "#         conv2 = tf.layers.conv2d(drop1, 128, [3, 3], name='conv2', activation=tf.nn.relu, padding=\"same\")\n",
    "#         maxp2 = tf.layers.max_pooling2d(conv2, (2,2),(2,2), name='maxp2')\n",
    "        \n",
    "#         drop2  = tf.layers.dropout(maxp2, training=is_training)\n",
    "#         conv3 = tf.layers.conv2d(drop2, 128, [3, 3], name='conv3', activation=tf.nn.relu, padding=\"same\")\n",
    "#         maxp3 = tf.layers.max_pooling2d(conv3, (2,2),(2,2), name='maxp3')\n",
    "#         print(maxp3)\n",
    "#         drop3  = tf.layers.dropout(maxp3, training=is_training)\n",
    "#         conv4 = tf.layers.conv2d(drop3, 256, [3, 3], name='conv4', activation=tf.nn.relu)\n",
    "\n",
    "        flattened = tf.contrib.layers.flatten(resized_image)\n",
    "        \n",
    "        print(flattened) # Print so we know if this is a reasonable size for this flattened layer\n",
    "        \n",
    "        dense01 = tf.layers.dense(flattened, 1024, activation=tf.nn.relu, name=\"dense01\")\n",
    "        dense02 = tf.layers.dense(dense01, 2048, activation=tf.nn.relu, name=\"dense02\")\n",
    "        dense03 = tf.layers.dense(dense02, 1024, activation=tf.nn.relu, name=\"dense03\")\n",
    "        \n",
    "        dense1 = tf.layers.dense(dense03, 512, activation=tf.nn.sigmoid, name=\"dense1\")\n",
    "        \n",
    "    return dense1\n",
    "\n",
    "\n",
    "tf.reset_default_graph()\n",
    "is_training_phase = tf.placeholder(dtype=tf.bool)\n",
    "image1 = tf.placeholder(dtype=tf.float32, shape=[None, 105, 105, 1], name=\"image1\")\n",
    "image2 = tf.placeholder(dtype=tf.float32, shape=[None, 105, 105, 1], name=\"image2\")\n",
    "label_placeholder = tf.placeholder(dtype=tf.float32, shape=[None,1], name=\"labels\")\n",
    "\n",
    "out_1 = get_input_pipeline(image1, is_training_phase, None)\n",
    "out_2 = get_input_pipeline(image2, is_training_phase, True)\n",
    "print([x.name for x in tf.global_variables()])\n",
    "\n",
    "writer = tf.summary.FileWriter(logdir='graphs/siamese_start', graph=tf.get_default_graph())\n"
   ]
  },
  {
   "cell_type": "markdown",
   "metadata": {},
   "source": [
    "### Combining outputs by this network, and determining the loss\n",
    "After we determined the output of our shared network part we have to see how well they match. To do this we can take the so-called \"L1-distance\", which is simply the absolute of output 1 minus output 2. Of course not every difference we get here has the same importance when determining if two images are the same. This is why we add a last dense layer that will indicate if two vectors are equal or not..."
   ]
  },
  {
   "cell_type": "code",
   "execution_count": 36,
   "metadata": {},
   "outputs": [
    {
     "name": "stdout",
     "output_type": "stream",
     "text": [
      "Tensor(\"Abs:0\", shape=(?, 512), dtype=float32)\n"
     ]
    }
   ],
   "source": [
    "l_one = tf.abs(tf.subtract(out_1,out_2))\n",
    "print(l_one)\n",
    "\n",
    "prediction = tf.layers.dense(l_one, 1, activation=tf.nn.sigmoid, name=\"output\")"
   ]
  },
  {
   "cell_type": "code",
   "execution_count": 37,
   "metadata": {},
   "outputs": [],
   "source": [
    "\n",
    "global_step = tf.Variable(0, trainable=False)\n",
    "starter_learning_rate = 0.9\n",
    "\n",
    "learning_rate = tf.train.exponential_decay(starter_learning_rate, global_step,\n",
    "                                           10, 0.99, staircase=True)\n",
    "\n",
    "\n",
    "mseloss = tf.losses.mean_squared_error(label_placeholder,prediction)\n",
    "\n",
    "epsilon = 0.00001\n",
    "clipped_pred = tf.clip_by_value(prediction,epsilon,1-epsilon,name=\"clippingtool\")\n",
    "log_true = -tf.log(clipped_pred)\n",
    "log_false = -tf.log(1-clipped_pred)\n",
    "\n",
    "logloss = tf.multiply(label_placeholder,log_true) + tf.multiply(1-label_placeholder,log_false)\n",
    "logloss = tf.reduce_mean(logloss)\n",
    "\n",
    "\n",
    "#loss = thesis_crossentropy(label_placeholder, prediction)\n",
    "#loss = tf.reduce_mean(tf.nn.sigmoid_cross_entropy_with_logits(labels=label_placeholder, logits=prediction))\n",
    "# loss = my_crossentropy(label_placeholder, prediction)\n",
    "#loss = tf.reduce_sum(tf.nn.softmax_cross_entropy_with_logits(labels=label_placeholder, logits=prediction))\n",
    "\n",
    "# testloss = tf.identity(loss, name=\"testlossvec\")\n",
    "training_summary = tf.summary.scalar('mseloss', mseloss)\n",
    "logloss_summary = tf.summary.scalar('logloss', logloss)\n",
    "lr_summary = tf.summary.scalar('learningrate', learning_rate)\n",
    "# testing_summary = tf.summary.scalar('testloss', testloss)\n",
    "merged = tf.summary.merge_all()\n",
    "\n",
    "# #w = tf.get_variable_by_name(\"first_part/conv1/kernel\")\n",
    "# a = [v for v in tf.global_variables()][0]\n",
    "\n",
    "# histograms = []\n",
    "# for v in tf.global_variables():\n",
    "#     if \"kernel\" in v.name:\n",
    "#         toadd = tf.summary.histogram(v.name[:-3], v)\n",
    "#         histograms.append(toadd)\n",
    "\n",
    "optimizer = tf.train.GradientDescentOptimizer(learning_rate).minimize(mseloss, global_step=global_step)\n",
    "#optimizer = tf.train.GradientDescentOptimizer(learning_rate).minimize(logloss, global_step=global_step)\n",
    "#optimizer = tf.train.MomentumOptimizer(learning_rate, 0.5).minimize(loss, global_step=global_step)\n",
    "#optimizer = tf.train.AdamOptimizer().minimize(logloss, global_step=global_step)\n"
   ]
  },
  {
   "cell_type": "markdown",
   "metadata": {},
   "source": [
    "## Video 3: Training and testing your network. \n",
    "\n",
    "https://github.com/brendenlake/omniglot/blob/master/python/images_evaluation.zip\n",
    "\n",
    "https://sorenbouma.github.io/blog/oneshot/"
   ]
  },
  {
   "cell_type": "code",
   "execution_count": 38,
   "metadata": {
    "collapsed": true
   },
   "outputs": [],
   "source": [
    "writer = tf.summary.FileWriter(logdir='graphs/siam/'+str(logging_dir_n), graph=tf.get_default_graph())\n",
    "logging_dir_n += 1\n",
    "writer.flush()\n",
    "sess = tf.Session()\n",
    "sess.run(tf.global_variables_initializer())"
   ]
  },
  {
   "cell_type": "code",
   "execution_count": 39,
   "metadata": {
    "scrolled": true
   },
   "outputs": [],
   "source": [
    "#siam_loader = Siamese_Loader(Xtrain, Xval)\n",
    "BATCH_SIZE = 64\n",
    "for iteration in range(300):\n",
    "    pairs, targets = get_batch(Xtrain, BATCH_SIZE)\n",
    "    targets = [[t] for t in targets]\n",
    "    _, summary = sess.run([optimizer, merged], feed_dict={image1: pairs[0], image2: pairs[1], label_placeholder: targets, is_training_phase: True})\n",
    "    #print(l)\n",
    "    writer.add_summary(summary, iteration)\n",
    "#     eval_histos = sess.run(histograms)\n",
    "#     for haatje in eval_histos:\n",
    "#         writer.add_summary(haatje, iteration)\n",
    "#     if iteration %10 == 0:\n",
    "#         pairs, targets = get_batch(Xtrain, 6)\n",
    "#         sp, pr = sess.run([sigpred, prediction], feed_dict={image1: pairs[0], image2: pairs[1]})\n",
    "#         print(\"sigpred:\")\n",
    "#         print(sp)\n",
    "#         print(\"prediction\")\n",
    "#         print(pr)\n",
    "#         print(\"targets: \")\n",
    "#         print(targets)\n",
    "        \n",
    "#         pairs, targets = get_batch(Xval, BATCH_SIZE)\n",
    "#         targets = [[t] for t in targets]\n",
    "#         _, m = sess.run([testloss, testing_summary], feed_dict={image1: pairs[0], image2: pairs[1], label_placeholder: targets})\n",
    "#         writer.add_summary(m, iteration)"
   ]
  },
  {
   "cell_type": "code",
   "execution_count": 28,
   "metadata": {},
   "outputs": [
    {
     "name": "stdout",
     "output_type": "stream",
     "text": [
      "0.20333333333333334\n"
     ]
    }
   ],
   "source": [
    "\n",
    "## Determine the accuracy \n",
    "CHOOSE_FROM_N = 5\n",
    "TEST_COUNT = 300\n",
    "\n",
    "correct_tested = 0\n",
    "\n",
    "for _ in range(TEST_COUNT):\n",
    "    #inputs, targets = siam_loader.make_oneshot_task(CHOOSE_FROM_N)\n",
    "    \n",
    "    inputs, targets = make_oneshot_task(Xval, CHOOSE_FROM_N)\n",
    "    pred = sess.run(prediction, feed_dict={image1: inputs[0], image2: inputs[1], is_training_phase: False})\n",
    "    #print(pred)\n",
    "    #print(targets)\n",
    "    maxindex = np.argmax(pred)\n",
    "\n",
    "    if maxindex == 0:\n",
    "        correct_tested += 1\n",
    "print(correct_tested/TEST_COUNT)\n"
   ]
  },
  {
   "cell_type": "code",
   "execution_count": null,
   "metadata": {
    "collapsed": true
   },
   "outputs": [],
   "source": [
    "\n"
   ]
  },
  {
   "cell_type": "code",
   "execution_count": null,
   "metadata": {
    "collapsed": true
   },
   "outputs": [],
   "source": [
    "## DEBUG FUCKING FUNCTIE\n",
    "\n",
    "pairs, targets = siam_loader.get_batch(2)\n",
    "newt = list()\n",
    "for t in targets:\n",
    "    if t == 1:\n",
    "        newt.append([0,1])\n",
    "    else:\n",
    "        newt.append([1,0])\n",
    "\n",
    "l, o1, o2, pred = sess.run([loss, out_1, out_2, prediction], feed_dict={image1: pairs[0], image2: pairs[1], label_placeholder: newt})\n",
    "\n",
    "print(l)\n",
    "print(pred)"
   ]
  },
  {
   "cell_type": "code",
   "execution_count": null,
   "metadata": {
    "collapsed": true
   },
   "outputs": [],
   "source": [
    "print(pred)\n",
    "print(o1)\n",
    "print(o2)"
   ]
  },
  {
   "cell_type": "code",
   "execution_count": null,
   "metadata": {
    "collapsed": true
   },
   "outputs": [],
   "source": [
    "pairs, targets = siam_loader.get_batch(BATCH_SIZE)\n",
    "targets = [[t] for t in targets]\n",
    "_, l, summary = sess.run([optimizer, loss, merged], feed_dict={image1: pairs[0], image2: pairs[1], label_placeholder: targets})\n",
    "print(l)\n",
    "writer.add_summary(summary, iteration)"
   ]
  },
  {
   "cell_type": "code",
   "execution_count": null,
   "metadata": {
    "collapsed": true,
    "scrolled": true
   },
   "outputs": [],
   "source": [
    "pairs, targets = siam_loader.get_batch(1)\n",
    "targets = [[t] for t in targets]\n",
    "a1, a2 = sess.run([out_1, out_2], feed_dict={image1: pairs[0], image2: pairs[1], label_placeholder: targets})\n",
    "print(a1)\n",
    "print(a2)"
   ]
  },
  {
   "cell_type": "code",
   "execution_count": null,
   "metadata": {
    "collapsed": true
   },
   "outputs": [],
   "source": [
    "pairs, targets = siam_loader.get_batch(6)\n",
    "targets = [[t] for t in targets]\n",
    "pred = sess.run(prediction, feed_dict={image1: pairs[0], image2: pairs[1]})\n",
    "for index in range(len(targets)):\n",
    "    print(index)\n",
    "    print(pred[index])\n",
    "    print(targets[index])\n",
    "    im = np.reshape(pairs[0][index], (105, 105))\n",
    "    plt.imshow(im)\n",
    "    plt.show()\n",
    "    im2 = np.reshape(pairs[1][index], (105, 105))\n",
    "    plt.imshow(im2)\n",
    "    plt.show()\n",
    "    \n"
   ]
  },
  {
   "cell_type": "code",
   "execution_count": null,
   "metadata": {
    "collapsed": true
   },
   "outputs": [],
   "source": [
    "inputs, targets = siam_loader.make_oneshot_task(5)\n",
    "# print(len(inputs))\n",
    "# print(len(targets))\n",
    "# print(inputs[0].shape)\n",
    "# print(inputs[1].shape)\n",
    "# print(targets.shape)\n",
    "\n",
    "\n",
    "pred = sess.run(prediction, feed_dict={image1: inputs[0], image2: inputs[1]})\n",
    "print(np.argmax(pred))\n",
    "\n",
    "# print(pred)\n",
    "# print(targets)\n",
    "\n",
    "maxindex = np.argmax(pred)\n",
    "if maxindex == 0:\n",
    "    print(\"Correct\")\n",
    "else:\n",
    "    print(\"Incorrect\")\n",
    "im = np.reshape(inputs[0][maxindex], (105, 105))\n",
    "plt.imshow(im)\n",
    "plt.show()\n",
    "\n",
    "im = np.reshape(inputs[1][maxindex], (105, 105))\n",
    "plt.imshow(im)\n",
    "plt.show()\n",
    "\n",
    "\n",
    "# for index in range(len(targets)):\n",
    "#     im = np.reshape(inputs[0][index], (105, 105))\n",
    "#     plt.imshow(im)\n",
    "#     plt.show()\n",
    "#     im = np.reshape(inputs[1][index], (105, 105))\n",
    "#     plt.imshow(im)\n",
    "#     plt.show()\n",
    "#     print(pred[index][0])\n",
    "#     print(targets[index])\n"
   ]
  },
  {
   "cell_type": "code",
   "execution_count": null,
   "metadata": {
    "collapsed": true
   },
   "outputs": [],
   "source": []
  },
  {
   "cell_type": "code",
   "execution_count": null,
   "metadata": {
    "collapsed": true
   },
   "outputs": [],
   "source": []
  }
 ],
 "metadata": {
  "kernelspec": {
   "display_name": "Python 3",
   "language": "python",
   "name": "python3"
  },
  "language_info": {
   "codemirror_mode": {
    "name": "ipython",
    "version": 3
   },
   "file_extension": ".py",
   "mimetype": "text/x-python",
   "name": "python",
   "nbconvert_exporter": "python",
   "pygments_lexer": "ipython3",
   "version": "3.5.2"
  }
 },
 "nbformat": 4,
 "nbformat_minor": 2
}
