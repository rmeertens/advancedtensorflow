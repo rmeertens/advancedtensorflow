{
 "cells": [
  {
   "cell_type": "markdown",
   "metadata": {},
   "source": [
    "# Section 2: TensorBoard\n",
    "Included in the TensorFlow installation is a tool called TensorBoard. With this tool you can visualise everything coming into your neural network and leaving your neural network. In this section I will demonstrate how you can use it. In later sections we will continue to use it to monitor our neural network (training) using TensorBoard. \n",
    "\n",
    "## Video 1: starting TensorBoard and visualising a graph\n",
    "Let's say you are developing a deep neural network that can recognize characters. We take the classic MNIST dataset and quickly build a neural network using `tf.layers`. "
   ]
  },
  {
   "cell_type": "code",
   "execution_count": 1,
   "metadata": {},
   "outputs": [
    {
     "name": "stdout",
     "output_type": "stream",
     "text": [
      "Extracting datasets/MNIST_data/train-images-idx3-ubyte.gz\n",
      "Extracting datasets/MNIST_data/train-labels-idx1-ubyte.gz\n",
      "Extracting datasets/MNIST_data/t10k-images-idx3-ubyte.gz\n",
      "Extracting datasets/MNIST_data/t10k-labels-idx1-ubyte.gz\n"
     ]
    }
   ],
   "source": [
    "%matplotlib inline\n",
    "import tensorflow as tf\n",
    "import matplotlib.pyplot as plt \n",
    "from tensorflow.examples.tutorials.mnist import input_data\n",
    "\n",
    "mnist = input_data.read_data_sets('datasets/MNIST_data', one_hot=True)\n",
    "input_dim = mnist.train.images[0].shape[0]\n",
    "output_dim = 10\n",
    "h_image=28\n",
    "w_image=28"
   ]
  },
  {
   "cell_type": "code",
   "execution_count": 2,
   "metadata": {},
   "outputs": [
    {
     "name": "stdout",
     "output_type": "stream",
     "text": [
      "Tensor(\"Flatten/Reshape:0\", shape=(?, 288), dtype=float32)\n",
      "INFO:tensorflow:logits.dtype=<dtype: 'float32'>.\n",
      "INFO:tensorflow:multi_class_labels.dtype=<dtype: 'float32'>.\n",
      "INFO:tensorflow:losses.dtype=<dtype: 'float32'>.\n"
     ]
    }
   ],
   "source": [
    "tf.reset_default_graph()\n",
    "\n",
    "## INPUT AND OUTPUT PLACEHOLDER\n",
    "input_placeholder = tf.placeholder(dtype=tf.float32, shape=[None, input_dim], name='inputplaceholder')\n",
    "output_placeholder = tf.placeholder(dtype=tf.float32, shape=[None, output_dim], name='outputplaceholder')\n",
    "\n",
    "reshaped_input = tf.reshape(input_placeholder, [-1, h_image, w_image, 1])\n",
    "conv1 = tf.layers.conv2d(reshaped_input, 32, [3,3], activation=tf.nn.relu, name=\"conv1\")\n",
    "conv1_mp = tf.layers.max_pooling2d(conv1, [2,2], [2,2])\n",
    "conv2 = tf.layers.conv2d(conv1_mp, 32, [3,3], activation=tf.nn.relu, name=\"conv2\")\n",
    "conv2_mp = tf.layers.max_pooling2d(conv2, [2,2], [2,2])\n",
    "conv3 = tf.layers.conv2d(conv2_mp, 32, [3,3], activation=tf.nn.relu, name=\"conv3\")\n",
    "flattened = tf.contrib.layers.flatten(conv3)\n",
    "\n",
    "print(flattened)\n",
    "output = tf.layers.dense(flattened, output_dim, activation=None)\n",
    "loss = tf.losses.sigmoid_cross_entropy(output_placeholder, output)\n",
    "optimizer = tf.train.GradientDescentOptimizer(0.05).minimize(loss)"
   ]
  },
  {
   "cell_type": "code",
   "execution_count": 3,
   "metadata": {},
   "outputs": [
    {
     "data": {
      "image/png": "[encoded data removed]",
      "text/plain": [
       "<matplotlib.figure.Figure at 0x7f5b50dd5ac8>"
      ]
     },
     "metadata": {},
     "output_type": "display_data"
    }
   ],
   "source": [
    "\n",
    "sess = tf.InteractiveSession()\n",
    "sess.run(tf.global_variables_initializer())\n",
    "\n",
    "iterations = 1000\n",
    "batch_size = 128\n",
    "loss_history = list()\n",
    "for iteration in range(iterations):\n",
    "    batch = mnist.train.next_batch(batch_size)\n",
    "    _, l = sess.run([optimizer, loss],\n",
    "                                feed_dict={input_placeholder: batch[0], output_placeholder: batch[1]})\n",
    "    loss_history.append(l)\n",
    "\n",
    "plt.plot(loss_history[20:])\n",
    "plt.show()\n"
   ]
  },
  {
   "cell_type": "markdown",
   "metadata": {},
   "source": [
    "### What is Tensorboard?\n",
    "By now you probably noticed that building a model and training a neural network can be a lot of fidgeting with hyper parameters and layers. Sometimes it can be difficult to see the performance between two models, and debugging models is often difficult. A tool that really helps you with this is Tensorboard: a web application that reads event files you can write away with TensorFlow. \n",
    "\n",
    "\n",
    "### Starting Tensorboard\n",
    "When you ran `docker-compose up` you not only started a virtual operating system with Tensorflow and Jupyter notebook, but also started a server that runs Tensorboard. Tensorboard is now accessible by navigating to `localhost:6006`. As we did not use it yet, you will probably see the following screen: \n",
    "\n",
    "![tensorempty](illustrations/section2/tensorboardempty.png)\n",
    "\n",
    "This is because we did not write anything yet. \n",
    "\n",
    "### Writing your graph\n",
    "\n",
    "To write your graph (and any other data) you have to initialize a Filewrite object. The constructor requires you to give the name of the directory you want to log in, and the graph you want to use for this writer. \n",
    "\n",
    "During this course we write everything to the graphs directory (as Tensorboard looks in this directory). Apart from the we make a directory per section during this course. After you did this there is one more thing remaining: it is good practice to put each model you make (every time you change something you have a new model) in a separate folder. You will see later why this is useful. Now let's start by starting a FileWriter:"
   ]
  },
  {
   "cell_type": "code",
   "execution_count": 4,
   "metadata": {
    "collapsed": true
   },
   "outputs": [],
   "source": [
    "writer = tf.summary.FileWriter(logdir='graphs/tensorboardexplanation/firstwriter' , graph=tf.get_default_graph())"
   ]
  },
  {
   "cell_type": "markdown",
   "metadata": {},
   "source": [
    "If you wait a while, or refresh the Tensorboard page, you should be able to navigate to the Graphs tab, and visualise your graph:\n",
    "![tensorempty](illustrations/section2/foundrun.png)\n",
    "\n",
    "Note: sometimes you have to refresh Tensorboard before he finds your graph definition... \n",
    "\n",
    "![tensorempty](illustrations/section2/firstgraphvis.png)\n",
    "\n",
    "The gradients block makes everything a bit difficult to inspect, so you can remove this by clicking on the gradients with your right mouse button. \n",
    "\n",
    "![tensorempty](illustrations/section2/removefromgraph.png)\n",
    "\n",
    "This should give your the following graph: \n",
    "\n",
    "![tensorempty](illustrations/section2/nicegraph.png)\n"
   ]
  },
  {
   "cell_type": "markdown",
   "metadata": {},
   "source": [
    "## Video 2: Adding summaries\n",
    "\n",
    "Now that we are able to get our graph in Tensorboard it's time to add something more interesting: the loss. Right now we are working with Matplotlib, and either have to store the losses somewhere, or have to figure out what model works better...\n",
    "\n",
    "With Tensorboard we can simply improve on this by using multiple logging directories. Especially with a Jupyter Notebook doing this is easy. Here is my normal working routing when trying to build a good neural network: \n",
    "- Determine in what directory I will log, set a variable to zero\n",
    "- Build a (simple) initial graph\n",
    "- Write things to a directory (and increment variable by one for next time)\n",
    "- Adjust network!"
   ]
  },
  {
   "cell_type": "markdown",
   "metadata": {},
   "source": [
    "Let's start with the first step, and set a variable to zero and make a directory: "
   ]
  },
  {
   "cell_type": "code",
   "execution_count": 5,
   "metadata": {
    "collapsed": true
   },
   "outputs": [],
   "source": [
    "logging_dir_n = 0 "
   ]
  },
  {
   "cell_type": "markdown",
   "metadata": {},
   "source": [
    "### Actually logging something\n",
    "So far we did not log anything, we can do so by adding a scalar summary of the loss value. Note that instead of the next block I do this in the block after that: "
   ]
  },
  {
   "cell_type": "code",
   "execution_count": 6,
   "metadata": {},
   "outputs": [
    {
     "name": "stdout",
     "output_type": "stream",
     "text": [
      "INFO:tensorflow:logits.dtype=<dtype: 'float32'>.\n",
      "INFO:tensorflow:multi_class_labels.dtype=<dtype: 'float32'>.\n",
      "INFO:tensorflow:losses.dtype=<dtype: 'float32'>.\n"
     ]
    }
   ],
   "source": [
    "tf.reset_default_graph()\n",
    "\n",
    "input_placeholder = tf.placeholder(dtype=tf.float32, shape=[None, input_dim], name='inputplaceholder')\n",
    "output_placeholder = tf.placeholder(dtype=tf.float32, shape=[None, output_dim], name='outputplaceholder')\n",
    "\n",
    "reshaped_input = tf.reshape(input_placeholder, [-1, h_image, w_image, 1])\n",
    "conv1 = tf.layers.conv2d(reshaped_input, 32, [3,3], activation=tf.nn.relu, name=\"conv1\")\n",
    "conv1_mp = tf.layers.max_pooling2d(conv1, [2,2], [2,2])\n",
    "conv2 = tf.layers.conv2d(conv1_mp, 32, [3,3], activation=tf.nn.relu, name=\"conv2\")\n",
    "conv2_mp = tf.layers.max_pooling2d(conv2, [2,2], [2,2])\n",
    "conv3 = tf.layers.conv2d(conv2_mp, 32, [3,3], activation=tf.nn.relu, name=\"conv3\")\n",
    "\n",
    "flattened = tf.contrib.layers.flatten(conv3)\n",
    "output = tf.layers.dense(flattened, output_dim, activation=None)\n",
    "\n",
    "loss = tf.losses.sigmoid_cross_entropy(output_placeholder, output)\n",
    "optimizer = tf.train.GradientDescentOptimizer(0.05).minimize(loss)"
   ]
  },
  {
   "cell_type": "code",
   "execution_count": 7,
   "metadata": {
    "collapsed": true
   },
   "outputs": [],
   "source": [
    "loss_summary = tf.summary.scalar('loss', loss)"
   ]
  },
  {
   "cell_type": "code",
   "execution_count": 8,
   "metadata": {
    "collapsed": true
   },
   "outputs": [],
   "source": [
    "sess = tf.InteractiveSession()\n",
    "sess.run(tf.global_variables_initializer())\n",
    "writer = tf.summary.FileWriter(logdir='graphs/tensorboardexplanation/tutorial/'+str(logging_dir_n) , graph=tf.get_default_graph())\n",
    "logging_dir_n += 1\n"
   ]
  },
  {
   "cell_type": "markdown",
   "metadata": {},
   "source": [
    "### Writing to the summary\n",
    "Instead of asking the graph to give me the loss each iteration I now ask the graph to give me the summary of the loss. I collect all summaries and add them to my writer..."
   ]
  },
  {
   "cell_type": "code",
   "execution_count": 9,
   "metadata": {
    "collapsed": true
   },
   "outputs": [],
   "source": [
    "for iteration in range(iterations):\n",
    "    batch = mnist.train.next_batch(batch_size)\n",
    "    _, summary = sess.run([optimizer, loss_summary],\n",
    "                                feed_dict={input_placeholder: batch[0], output_placeholder: batch[1]})\n",
    "    writer.add_summary(summary, iteration)"
   ]
  },
  {
   "cell_type": "markdown",
   "metadata": {},
   "source": [
    "### Adjusting your graph\n",
    "Now that we have a first loss we can adjust our graph, and see if the loss improves (or becomes worse...). "
   ]
  },
  {
   "cell_type": "code",
   "execution_count": 10,
   "metadata": {
    "collapsed": true
   },
   "outputs": [],
   "source": [
    "optimizer = tf.train.AdamOptimizer().minimize(loss)"
   ]
  },
  {
   "cell_type": "code",
   "execution_count": 11,
   "metadata": {
    "collapsed": true
   },
   "outputs": [],
   "source": [
    "sess = tf.InteractiveSession()\n",
    "sess.run(tf.global_variables_initializer())\n",
    "writer = tf.summary.FileWriter(logdir='graphs/tensorboardexplanation/tutorial/'+str(logging_dir_n) , graph=tf.get_default_graph())\n",
    "logging_dir_n += 1\n"
   ]
  },
  {
   "cell_type": "code",
   "execution_count": 12,
   "metadata": {
    "collapsed": true
   },
   "outputs": [],
   "source": [
    "for iteration in range(iterations):\n",
    "    batch = mnist.train.next_batch(batch_size)\n",
    "    _, summary = sess.run([optimizer, loss_summary],\n",
    "                                feed_dict={input_placeholder: batch[0], output_placeholder: batch[1]})\n",
    "    writer.add_summary(summary, iteration)"
   ]
  },
  {
   "cell_type": "markdown",
   "metadata": {},
   "source": [
    "### Conclusion\n",
    "You can now see the difference between two optimizers, all in one graph! Although you can easily see the difference in quality between two layouts, you can now easily change part of the graph, train, and see the difference with your previous results. "
   ]
  },
  {
   "cell_type": "markdown",
   "metadata": {},
   "source": [
    "## Video 3: inspecting weights\n",
    "\n",
    "Let's say that you totally misinterpreted the learning rate: "
   ]
  },
  {
   "cell_type": "code",
   "execution_count": 37,
   "metadata": {
    "collapsed": true
   },
   "outputs": [],
   "source": [
    "loss = tf.losses.mean_squared_error(output_placeholder, output)\n",
    "optimizer = tf.train.GradientDescentOptimizer(4.5).minimize(loss)\n",
    "iterations = 50"
   ]
  },
  {
   "cell_type": "code",
   "execution_count": 38,
   "metadata": {},
   "outputs": [
    {
     "name": "stdout",
     "output_type": "stream",
     "text": [
      "0.124975\n",
      "0.391151\n",
      "0.410753\n",
      "32.1005\n",
      "24.8317\n",
      "5.39569\n",
      "11.9054\n",
      "0.465106\n",
      "0.0937922\n",
      "0.0897405\n",
      "0.0914311\n",
      "0.0904819\n",
      "0.0908581\n",
      "0.0903916\n",
      "0.0902783\n",
      "0.0908097\n",
      "0.0897422\n",
      "0.0903243\n",
      "0.0912863\n",
      "0.0902907\n",
      "0.0906799\n",
      "0.0910673\n",
      "0.090572\n",
      "0.0913428\n",
      "0.0910211\n",
      "0.0902002\n",
      "0.0897306\n",
      "0.0906953\n",
      "0.0900082\n",
      "0.0899592\n",
      "0.0918764\n",
      "0.090437\n",
      "0.0901751\n",
      "0.0902231\n",
      "0.0901788\n",
      "0.0911987\n",
      "0.0901641\n",
      "0.089908\n",
      "0.0914725\n",
      "0.0906947\n",
      "0.0915322\n",
      "0.0902214\n",
      "0.0913384\n",
      "0.0919104\n",
      "0.0902416\n",
      "0.0902843\n",
      "0.0910322\n",
      "0.0907589\n",
      "0.0913022\n",
      "0.0912314\n"
     ]
    }
   ],
   "source": [
    "sess = tf.InteractiveSession()\n",
    "sess.run(tf.global_variables_initializer())\n",
    "writer = tf.summary.FileWriter(logdir='graphs/tensorboardexplanation/tutorial/'+str(logging_dir_n) , graph=tf.get_default_graph())\n",
    "logging_dir_n += 1\n",
    "\n",
    "for iteration in range(iterations):\n",
    "    batch = mnist.train.next_batch(batch_size)\n",
    "    _, l, summary = sess.run([optimizer, loss, loss_summary],\n",
    "                                feed_dict={input_placeholder: batch[0], output_placeholder: batch[1]})\n",
    "    print(l)\n",
    "    writer.add_summary(summary, iteration)"
   ]
  },
  {
   "cell_type": "markdown",
   "metadata": {},
   "source": [
    "\n",
    "Looking at Tensorboard you now see the loss go up, but you have no idea why. The graph looks really good (no wrong passes...), but you clearly see your loss going up. \n",
    "\n",
    "Now is a good time to either inspect your gradients, inspect activations, or inspect your weights. Let's take weights for example: \n"
   ]
  },
  {
   "cell_type": "code",
   "execution_count": 39,
   "metadata": {},
   "outputs": [
    {
     "name": "stdout",
     "output_type": "stream",
     "text": [
      "conv1/kernel:0\n",
      "conv1/bias:0\n",
      "conv2/kernel:0\n",
      "conv2/bias:0\n",
      "conv3/kernel:0\n",
      "conv3/bias:0\n",
      "dense/kernel:0\n",
      "dense/bias:0\n",
      "beta1_power:0\n",
      "beta2_power:0\n",
      "conv1/kernel/Adam:0\n",
      "conv1/kernel/Adam_1:0\n",
      "conv1/bias/Adam:0\n",
      "conv1/bias/Adam_1:0\n",
      "conv2/kernel/Adam:0\n",
      "conv2/kernel/Adam_1:0\n",
      "conv2/bias/Adam:0\n",
      "conv2/bias/Adam_1:0\n",
      "conv3/kernel/Adam:0\n",
      "conv3/kernel/Adam_1:0\n",
      "conv3/bias/Adam:0\n",
      "conv3/bias/Adam_1:0\n",
      "dense/kernel/Adam:0\n",
      "dense/kernel/Adam_1:0\n",
      "dense/bias/Adam:0\n",
      "dense/bias/Adam_1:0\n"
     ]
    }
   ],
   "source": [
    "## Print variable names; \n",
    "for v in tf.global_variables():\n",
    "    print(v.name)"
   ]
  },
  {
   "cell_type": "markdown",
   "metadata": {},
   "source": [
    "You can visualise a histogram with the `tf.summary.histogram` function. We do this for each kernel in our graph by adding a histogram for each variable with the name \"kernel\". "
   ]
  },
  {
   "cell_type": "code",
   "execution_count": 40,
   "metadata": {
    "collapsed": true
   },
   "outputs": [],
   "source": [
    "histograms = []\n",
    "for v in tf.global_variables():\n",
    "    if \"kernel\" in v.name:\n",
    "        toadd = tf.summary.histogram(v.name[:-2], v)\n",
    "        histograms.append(toadd)"
   ]
  },
  {
   "cell_type": "markdown",
   "metadata": {},
   "source": [
    "Now you can log these in our summary!"
   ]
  },
  {
   "cell_type": "code",
   "execution_count": 41,
   "metadata": {
    "collapsed": true
   },
   "outputs": [],
   "source": [
    "sess = tf.InteractiveSession()\n",
    "sess.run(tf.global_variables_initializer())\n",
    "writer = tf.summary.FileWriter(logdir='graphs/tensorboardexplanation/tutorial/'+str(logging_dir_n) , graph=tf.get_default_graph())\n",
    "logging_dir_n += 1"
   ]
  },
  {
   "cell_type": "code",
   "execution_count": 42,
   "metadata": {
    "collapsed": true
   },
   "outputs": [],
   "source": [
    "for iteration in range(iterations):\n",
    "    batch = mnist.train.next_batch(batch_size)\n",
    "    _, summary = sess.run([optimizer, loss_summary],\n",
    "                                feed_dict={input_placeholder: batch[0], output_placeholder: batch[1]})\n",
    "    writer.add_summary(summary, iteration)\n",
    "    \n",
    "    ## Log the histograms of weights and add them as a summary\n",
    "    weights_in_graph = sess.run(histograms)\n",
    "    for logged_weight in weights_in_graph: \n",
    "        writer.add_summary(logged_weight, iteration)"
   ]
  },
  {
   "cell_type": "markdown",
   "metadata": {},
   "source": [
    "### Comparing it to a \"normal\" situation\n",
    "Now let's compare this to a \"normal\" situation, where we hopefully don't see all weights explode:"
   ]
  },
  {
   "cell_type": "code",
   "execution_count": 43,
   "metadata": {
    "collapsed": true
   },
   "outputs": [],
   "source": [
    "loss = tf.losses.mean_squared_error(output_placeholder, output)\n",
    "optimizer = tf.train.GradientDescentOptimizer(0.5).minimize(loss)\n",
    "\n",
    "sess = tf.InteractiveSession()\n",
    "sess.run(tf.global_variables_initializer())\n",
    "writer = tf.summary.FileWriter(logdir='graphs/tensorboardexplanation/tutorial/'+str(logging_dir_n) , graph=tf.get_default_graph())\n",
    "logging_dir_n += 1"
   ]
  },
  {
   "cell_type": "code",
   "execution_count": 44,
   "metadata": {
    "collapsed": true
   },
   "outputs": [],
   "source": [
    "for iteration in range(iterations):\n",
    "    batch = mnist.train.next_batch(batch_size)\n",
    "    _, summary = sess.run([optimizer, loss_summary],\n",
    "                                feed_dict={input_placeholder: batch[0], output_placeholder: batch[1]})\n",
    "    writer.add_summary(summary, iteration)\n",
    "    weights_in_graph = sess.run(histograms)\n",
    "    for logged_weight in weights_in_graph: \n",
    "        writer.add_summary(logged_weight, iteration)"
   ]
  },
  {
   "cell_type": "markdown",
   "metadata": {},
   "source": [
    "## Video 4: inspecting input/output\n",
    "You can even use TensorBoard to show your input and outputs. Use the image summary to add an image to Tensorboard. This can help you when your network is not learning anything: it might just be possible that your network is not receiving any sensible input at all!"
   ]
  },
  {
   "cell_type": "code",
   "execution_count": null,
   "metadata": {
    "collapsed": true
   },
   "outputs": [],
   "source": [
    "image_summary = tf.summary.image('inputimage', reshaped_input)"
   ]
  },
  {
   "cell_type": "code",
   "execution_count": null,
   "metadata": {
    "collapsed": true
   },
   "outputs": [],
   "source": [
    "sess = tf.InteractiveSession()\n",
    "sess.run(tf.global_variables_initializer())\n",
    "writer = tf.summary.FileWriter(logdir='graphs/tensorboardexplanation/tutorial/'+str(logging_dir_n) , graph=tf.get_default_graph())\n",
    "logging_dir_n += 1"
   ]
  },
  {
   "cell_type": "code",
   "execution_count": null,
   "metadata": {
    "collapsed": true
   },
   "outputs": [],
   "source": [
    "for iteration in range(10):\n",
    "    batch = mnist.train.next_batch(batch_size)\n",
    "    _, summary, im_sum = sess.run([optimizer, loss_summary, image_summary],\n",
    "                                feed_dict={input_placeholder: batch[0], output_placeholder: batch[1]})\n",
    "    writer.add_summary(summary, iteration)\n",
    "    writer.add_summary(im_sum, iteration)"
   ]
  },
  {
   "cell_type": "markdown",
   "metadata": {},
   "source": [
    "### Merging summaries\n",
    "Right now we ask for each summary separately in our session. Luckily Tensorboard can improve on this by using the following function: "
   ]
  },
  {
   "cell_type": "code",
   "execution_count": null,
   "metadata": {
    "collapsed": true
   },
   "outputs": [],
   "source": [
    "merged = tf.summary.merge_all()"
   ]
  },
  {
   "cell_type": "code",
   "execution_count": null,
   "metadata": {
    "collapsed": true
   },
   "outputs": [],
   "source": [
    "sess = tf.InteractiveSession()\n",
    "sess.run(tf.global_variables_initializer())\n",
    "writer = tf.summary.FileWriter(logdir='graphs/tensorboardexplanation/tutorial/'+str(logging_dir_n) , graph=tf.get_default_graph())\n",
    "logging_dir_n += 1"
   ]
  },
  {
   "cell_type": "code",
   "execution_count": null,
   "metadata": {
    "collapsed": true
   },
   "outputs": [],
   "source": [
    "for iteration in range(iterations):\n",
    "    batch = mnist.train.next_batch(batch_size)\n",
    "    _, summary = sess.run([optimizer, merged],\n",
    "                                feed_dict={input_placeholder: batch[0], output_placeholder: batch[1]})\n",
    "    writer.add_summary(summary, iteration)\n",
    "    "
   ]
  },
  {
   "cell_type": "markdown",
   "metadata": {},
   "source": [
    "### Conclusion\n",
    "We are now logging all summaries we defined to Tensorboard! You can define way more things you want to log, like the accuracy of your network, other loss functions, activations in different layers, whatever you want! We will use Tensorboard in the next section, so you can easily tinker with your graph and see how well it improves the performance. "
   ]
  }
 ],
 "metadata": {
  "kernelspec": {
   "display_name": "Python 3",
   "language": "python",
   "name": "python3"
  },
  "language_info": {
   "codemirror_mode": {
    "name": "ipython",
    "version": 3
   },
   "file_extension": ".py",
   "mimetype": "text/x-python",
   "name": "python",
   "nbconvert_exporter": "python",
   "pygments_lexer": "ipython3",
   "version": "3.5.2"
  }
 },
 "nbformat": 4,
 "nbformat_minor": 2
}
