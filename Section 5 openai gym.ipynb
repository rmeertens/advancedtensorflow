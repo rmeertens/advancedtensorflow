{
 "cells": [
  {
   "cell_type": "markdown",
   "metadata": {},
   "source": [
    "# Section 5: deep reinforcement learning with the openai gym\n",
    "\n",
    "### Installing the OpenAI gym\n",
    "There are multiple ways you can install the OpenAI gym environment. \n",
    "##### In our Docker image\n",
    "It is already installed in our Docker image. This means you don't have to do anything to include it, and you can start playing immediately. The downside of this is that there is no screen attached to our Docker image, which gives a bit of hassle inline. \n",
    "##### On your own pc. \n",
    "If you do want to see a screen with your game you would have to install everything locally. This means you have your own version of Python, TensorFlow, Matplotlib, etc. installed. If this is all fine you can install the OpenAI gym with this command. \n",
    "\n",
    "For more information: see [this site](https://github.com/openai/gym#installing-everything). "
   ]
  },
  {
   "cell_type": "code",
   "execution_count": null,
   "metadata": {
    "collapsed": true
   },
   "outputs": [],
   "source": []
  },
  {
   "cell_type": "code",
   "execution_count": 1,
   "metadata": {
    "collapsed": true
   },
   "outputs": [],
   "source": [
    "%matplotlib inline\n",
    "import tensorflow as tf\n",
    "import numpy as np\n",
    "import matplotlib.pyplot as plt\n",
    "import random\n",
    "\n",
    "from ipywidgets import widgets\n",
    "from IPython.display import display\n",
    "\n",
    "import gym\n",
    "\n",
    "## Set logging dir for Tensorboard\n",
    "logging_dir_n = 141\n"
   ]
  },
  {
   "cell_type": "code",
   "execution_count": null,
   "metadata": {},
   "outputs": [],
   "source": [
    "env = gym.make('CartPole-v0')\n",
    "observation = env.reset()\n",
    "firstframe = env.render(mode = 'rgb_array')\n",
    "fig,ax = plt.subplots()\n",
    "im = ax.imshow(firstframe) \n"
   ]
  },
  {
   "cell_type": "code",
   "execution_count": null,
   "metadata": {
    "collapsed": true
   },
   "outputs": [],
   "source": [
    "observation, reward, done, info = env.step(0)\n",
    "frame = env.render(mode = 'rgb_array')\n",
    "plt.imshow(frame)\n",
    "plt.show()"
   ]
  },
  {
   "cell_type": "markdown",
   "metadata": {},
   "source": [
    "### Random actions\n",
    "With the function `env.action_space.sample()` you get a random action that's possible for this action space. Please take some time to figure out what kind of commands are possible, and what env.step does. "
   ]
  },
  {
   "cell_type": "code",
   "execution_count": null,
   "metadata": {
    "collapsed": true
   },
   "outputs": [],
   "source": [
    "observation = env.reset()\n",
    "for _ in range(100):\n",
    "    frame = env.render(mode = 'rgb_array')\n",
    "    plt.imshow(frame)\n",
    "    plt.show()\n",
    "    observation, reward, done, info = env.step(env.action_space.sample()) "
   ]
  },
  {
   "cell_type": "markdown",
   "metadata": {},
   "source": [
    "### Input to our algorithm\n",
    "Let's explore the input we can use for our algorithm: \n"
   ]
  },
  {
   "cell_type": "code",
   "execution_count": null,
   "metadata": {},
   "outputs": [],
   "source": [
    "frame = env.render(mode = 'rgb_array')\n",
    "plt.imshow(frame)\n",
    "plt.show()\n",
    "\n",
    "observation, reward, done, info = env.step(env.action_space.sample()) \n",
    "print(observation)\n",
    "print(reward)\n",
    "print(done)\n",
    "print(info)\n",
    "\n",
    "observation = env.reset()\n",
    "\n",
    "frame = env.render(mode = 'rgb_array')\n",
    "plt.imshow(frame)\n",
    "plt.show()\n",
    "\n",
    "observation, reward, done, info = env.step(env.action_space.sample()) \n",
    "print(observation)\n",
    "print(reward)\n",
    "print(done)\n",
    "print(info)\n"
   ]
  },
  {
   "cell_type": "markdown",
   "metadata": {},
   "source": [
    "##### Input\n",
    "The input consists of the angle of the pole, turn velocity of the pole, the location of the base, and the movespeed of the base. Other environments have different inputs. Some environments (the Atari games) simply give you an image, other environments give a representation of the state. \n",
    "\n",
    "##### Reward\n",
    "Reward is the reward our environment gives us each frame. For cartpole the reward is 1.0 while we managed to keep the stick in less than a small angle. After we reached this angle the reward will change to 0.0 while we did not reset the environment. \n",
    "\n",
    "Other environments give different rewards. Mountaincar for example gives a reward of 0.0 while we did not reach the top, and 1.0 once we reached it. Whenever you try a new environment make sure you know when your algorithm receives a reward as this is vital for learning something. \n",
    "\n",
    "##### Done\n",
    "If this boolean is True it means you probably want to reset your network. In the case of cartpole it means the cart can't get anymore points: either by:\n",
    "- failing to keep the pole at less than a certain angle\n",
    "- failing to keep the base at less than a certain distance\n",
    "- succeeding at this for more than 200 frames!\n",
    "\n",
    "Other environments end when your lives are gone, others end after a certain amount of iterations."
   ]
  },
  {
   "cell_type": "code",
   "execution_count": null,
   "metadata": {},
   "outputs": [],
   "source": [
    "observation = env.reset()\n",
    "for _ in range(250):\n",
    "    frame = env.render(mode = 'rgb_array')\n",
    "    plt.imshow(frame)\n",
    "    plt.show()\n",
    "    observation, reward, done, info = env.step(env.action_space.sample()) \n",
    "    \n",
    "    if done:\n",
    "        print(\"Done = true!\")\n",
    "        observation = env.reset()"
   ]
  },
  {
   "cell_type": "markdown",
   "metadata": {},
   "source": [
    "#### Playing yourself\n",
    "Now you are able to play a pretty boring game with a text-interface..."
   ]
  },
  {
   "cell_type": "code",
   "execution_count": null,
   "metadata": {
    "collapsed": true
   },
   "outputs": [],
   "source": [
    "# observation = env.reset()\n",
    "# done = False\n",
    "# while not done:\n",
    "#     frame = env.render(mode = 'rgb_array')\n",
    "#     plt.imshow(frame)\n",
    "#     plt.show()\n",
    "    \n",
    "#     useraction = -1\n",
    "#     while useraction < 0:\n",
    "#         try:\n",
    "#             useraction = int(input(\"Left (0) or right (1)?\"))\n",
    "#         except:\n",
    "#             pass\n",
    "        \n",
    "        \n",
    "#     observation, reward, done, info = env.step(useraction) \n",
    "# print(\"You are dead..\")"
   ]
  },
  {
   "cell_type": "markdown",
   "metadata": {},
   "source": [
    "## Video 2: Random search. Solving your first problem, and joining the leaderboard\n",
    "http://kvfrans.com/simple-algoritms-for-solving-cartpole/\n"
   ]
  },
  {
   "cell_type": "code",
   "execution_count": null,
   "metadata": {
    "collapsed": true
   },
   "outputs": [],
   "source": []
  },
  {
   "cell_type": "markdown",
   "metadata": {},
   "source": [
    "\n",
    "## Video 3: Reinforcement learning explained: approximating the value function\n",
    "![reward fucntion](http://www.pinchofintelligence.com/wp-content/uploads/2017/07/rewardfunction.png)"
   ]
  },
  {
   "cell_type": "code",
   "execution_count": null,
   "metadata": {
    "collapsed": true
   },
   "outputs": [],
   "source": []
  },
  {
   "cell_type": "code",
   "execution_count": null,
   "metadata": {
    "collapsed": true
   },
   "outputs": [],
   "source": [
    "tf.reset_default_graph()\n",
    "networkstate = tf.placeholder(tf.float32, [None, 4], name=\"input\")\n",
    "networkaction = tf.placeholder(tf.int32, [None], name=\"actioninput\")\n",
    "networkreward = tf.placeholder(tf.float32,[None], name=\"groundtruth_reward\")\n",
    "\n",
    "layer1 = tf.layers.dense(networkstate, 16, activation=tf.nn.relu, name=\"dense1\")\n",
    "layer2 = tf.layers.dense(layer1, 32, activation=tf.nn.relu, name=\"dense2\")\n",
    "layer3 = tf.layers.dense(layer2, 8, activation=tf.nn.relu, name=\"dense3\")\n",
    "predictedreward = tf.layers.dense(layer3, 2, name=\"dense4\")\n"
   ]
  },
  {
   "cell_type": "code",
   "execution_count": null,
   "metadata": {
    "collapsed": true
   },
   "outputs": [],
   "source": [
    "with tf.name_scope(\"lossdeterminer\"):\n",
    "    action_onehot = tf.one_hot(networkaction, 2, name=\"actiononehot\")\n",
    "    qreward = tf.reduce_sum(tf.multiply(predictedreward, action_onehot), reduction_indices = 1)\n",
    "    loss = tf.reduce_mean(tf.square(networkreward - qreward))\n",
    "\n",
    "tf.summary.scalar('loss', loss)\n",
    "tf.summary.scalar('mean_max_reward', tf.reduce_max(predictedreward))\n",
    "\n",
    "#optimizer = tf.train.AdamOptimizer().minimize(loss)\n",
    "optimizer = tf.train.RMSPropOptimizer(0.01).minimize(loss)\n",
    "merged_summary = tf.summary.merge_all()\n"
   ]
  },
  {
   "cell_type": "code",
   "execution_count": null,
   "metadata": {
    "collapsed": true
   },
   "outputs": [],
   "source": []
  },
  {
   "cell_type": "code",
   "execution_count": null,
   "metadata": {
    "collapsed": true
   },
   "outputs": [],
   "source": [
    "sess = tf.InteractiveSession()\n",
    "summary_writer = tf.summary.FileWriter('graphs/dqn/normal/'+str(logging_dir_n),sess.graph)\n",
    "logging_dir_n +=1\n",
    "sess.run(tf.global_variables_initializer())\n"
   ]
  },
  {
   "cell_type": "markdown",
   "metadata": {},
   "source": [
    "### Setting hyperparameters"
   ]
  },
  {
   "cell_type": "code",
   "execution_count": null,
   "metadata": {
    "collapsed": true
   },
   "outputs": [],
   "source": [
    "BATCH_SIZE = 128\n",
    "GAMMA = 0.9\n",
    "MAX_LEN_REPLAY_MEMORY = 10000 # replay memory of one million most recent frames.\n",
    "FRAMES_TO_PLAY = 50001\n",
    "MIN_FRAMES_FOR_LEARNING = 1000"
   ]
  },
  {
   "cell_type": "markdown",
   "metadata": {},
   "source": [
    "### Training"
   ]
  },
  {
   "cell_type": "code",
   "execution_count": null,
   "metadata": {
    "collapsed": true
   },
   "outputs": [],
   "source": [
    "def learn(replay_memory):\n",
    "      ### Learn once we have enough frames to start learning\n",
    "    if len(replay_memory) > MIN_FRAMES_FOR_LEARNING: \n",
    "        experiences = random.sample(replay_memory, BATCH_SIZE)\n",
    "        totrain = [] # (state, action, delayed_reward)\n",
    "        \n",
    "        ### Calculate the predicted reward\n",
    "        nextstates = [var[4] for var in experiences]\n",
    "        pred_reward = sess.run(predictedreward, feed_dict={networkstate:nextstates})\n",
    "        \n",
    "        ### Set the \"ground truth\": the value our network has to predict:\n",
    "        for index in range(BATCH_SIZE):\n",
    "            state, action, reward, terminalstate, newstate = experiences[index]\n",
    "            predicted_reward = max(pred_reward[index])\n",
    "            \n",
    "            if terminalstate:\n",
    "                delayedreward = reward\n",
    "            else:\n",
    "                delayedreward = reward + GAMMA*predicted_reward\n",
    "            totrain.append((state, action, delayedreward))\n",
    "            \n",
    "        ### Feed the train batch to the algorithm \n",
    "        states = [var[0] for var in totrain]\n",
    "        actions = [var[1] for var in totrain]\n",
    "        rewards = [var[2] for var in totrain]\n",
    "        _, l, summary = sess.run([optimizer, loss, merged_summary], feed_dict={networkstate:states, networkaction: actions, networkreward: rewards})\n",
    "\n",
    "\n",
    "        ### If our memory is too big: remove the first element\n",
    "        if len(replay_memory) > MAX_LEN_REPLAY_MEMORY:\n",
    "                replay_memory = replay_memory[1:]\n",
    "\n",
    "        ### Show the progress \n",
    "        summary_writer.add_summary(summary, i_epoch)\n",
    "\n",
    "  "
   ]
  },
  {
   "cell_type": "markdown",
   "metadata": {},
   "source": [
    "### Running this in our environment"
   ]
  },
  {
   "cell_type": "code",
   "execution_count": null,
   "metadata": {
    "collapsed": true
   },
   "outputs": [],
   "source": [
    "replay_memory = [] # (state, action, reward, terminalstate, state_t+1)\n",
    "\n",
    "for i_epoch in range(FRAMES_TO_PLAY):\n",
    "    \n",
    "    ### Select an action and perform this\n",
    "    action = env.action_space.sample() \n",
    "    newobservation, reward, terminal, info = env.step(action)\n",
    "\n",
    "    ### I prefer that my agent gets 0 reward if it dies\n",
    "    if terminal: \n",
    "        reward = 0\n",
    "        \n",
    "    ### Add the observation to our replay memory\n",
    "    replay_memory.append((observation, action, reward, terminal, newobservation))\n",
    "    \n",
    "    ### Reset the environment if the agent died\n",
    "    if terminal: \n",
    "        newobservation = env.reset()\n",
    "    observation = newobservation\n",
    "    \n",
    "    learn(replay_memory)\n",
    "    "
   ]
  },
  {
   "cell_type": "markdown",
   "metadata": {},
   "source": [
    "### Now test this\n",
    "\n",
    "RUN pip install git+https://github.com/jakevdp/JSAnimation.git\n",
    "\n",
    "Use imagemagick, \n",
    "\n"
   ]
  },
  {
   "cell_type": "code",
   "execution_count": null,
   "metadata": {
    "collapsed": true
   },
   "outputs": [],
   "source": [
    "from matplotlib import animation\n",
    "from JSAnimation.IPython_display import display_animation\n",
    "\n",
    "def display_frames_as_gif(frames, filename_gif = None):\n",
    "    \"\"\"\n",
    "    Displays a list of frames as a gif, with controls\n",
    "    \"\"\"\n",
    "    plt.figure(figsize=(frames[0].shape[1] / 72.0, frames[0].shape[0] / 72.0), dpi = 72)\n",
    "    patch = plt.imshow(frames[0])\n",
    "    plt.axis('off')\n",
    "\n",
    "    def animate(i):\n",
    "        patch.set_data(frames[i])\n",
    "\n",
    "    anim = animation.FuncAnimation(plt.gcf(), animate, frames = len(frames), interval=50)\n",
    "    if filename_gif: \n",
    "        anim.save(filename_gif, writer = 'imagemagick', fps=20)\n",
    "    display(display_animation(anim, default_mode='loop'))\n"
   ]
  },
  {
   "cell_type": "code",
   "execution_count": null,
   "metadata": {
    "collapsed": true
   },
   "outputs": [],
   "source": [
    "observation = env.reset()\n",
    "term = False\n",
    "predicted_q = []\n",
    "frames = []\n",
    "\n",
    "### Play till we are dead\n",
    "while not term:\n",
    "    rgb_observation = env.render(mode = 'rgb_array')\n",
    "    frames.append(rgb_observation)\n",
    "    pred_q = sess.run(predictedreward, feed_dict={networkstate:[observation]})\n",
    "    predicted_q.append(pred_q)\n",
    "    action = np.argmax(pred_q)\n",
    "    observation, _, term, _ = env.step(action)\n",
    "\n",
    "### Plot the replay!\n",
    "print(\"Frames: \" + str(len(frames)))\n",
    "display_frames_as_gif(frames,filename_gif='dqn_run.gif')"
   ]
  },
  {
   "cell_type": "markdown",
   "metadata": {},
   "source": [
    "### Reinforcement learning tricks\n"
   ]
  },
  {
   "cell_type": "code",
   "execution_count": null,
   "metadata": {
    "collapsed": true
   },
   "outputs": [],
   "source": [
    "sess = tf.InteractiveSession()\n",
    "summary_writer = tf.summary.FileWriter('graphs/dqn/normal/'+str(logging_dir_n),sess.graph)\n",
    "logging_dir_n +=1\n",
    "sess.run(tf.global_variables_initializer())"
   ]
  },
  {
   "cell_type": "code",
   "execution_count": null,
   "metadata": {
    "collapsed": true
   },
   "outputs": [],
   "source": [
    "replay_memory = [] # (state, action, reward, terminalstate, state_t+1)\n",
    "epsilon = 1.0\n",
    "decay_factor = 0.001\n",
    "MIN_EPSILON = 0.1\n",
    "\n",
    "observation = env.reset()\n",
    "\n",
    "for i_epoch in range(FRAMES_TO_PLAY):\n",
    "    \n",
    "    ### Select action\n",
    "    if random.random() < epsilon:\n",
    "        action = env.action_space.sample() \n",
    "    else:\n",
    "        pred_q = sess.run(predictedreward, feed_dict={networkstate:[observation]})\n",
    "        action = np.argmax(pred_q)\n",
    "    \n",
    "    ### Anneal epsilon\n",
    "    epsilon = max(epsilon-decay_factor, MIN_EPSILON)\n",
    "    \n",
    "    newobservation, reward, terminal, info = env.step(action)\n",
    "    ### I prefer that my agent gets 0 reward if it dies\n",
    "    if terminal: \n",
    "        reward = 0\n",
    "        \n",
    "    ### Add the observation to our replay memory\n",
    "    replay_memory.append((observation, action, reward, terminal, newobservation))\n",
    "    \n",
    "    ### Reset the environment if the agent died\n",
    "    if terminal: \n",
    "        newobservation = env.reset()\n",
    "    observation = newobservation\n",
    "    \n",
    "    learn(replay_memory)"
   ]
  },
  {
   "cell_type": "code",
   "execution_count": null,
   "metadata": {
    "collapsed": true
   },
   "outputs": [],
   "source": [
    "observation = env.reset()\n",
    "term = False\n",
    "predicted_q = []\n",
    "frames = []\n",
    "\n",
    "### Play till we are dead\n",
    "while not term:\n",
    "    rgb_observation = env.render(mode = 'rgb_array')\n",
    "    frames.append(rgb_observation)\n",
    "    pred_q = sess.run(predictedreward, feed_dict={networkstate:[observation]})\n",
    "    predicted_q.append(pred_q)\n",
    "    action = np.argmax(pred_q)\n",
    "    observation, _, term, _ = env.step(action)\n",
    "\n",
    "### Plot the replay!\n",
    "print(\"Frames: \" + str(len(frames)))\n",
    "display_frames_as_gif(frames,filename_gif='dqn_run.gif')"
   ]
  },
  {
   "cell_type": "code",
   "execution_count": null,
   "metadata": {
    "collapsed": true
   },
   "outputs": [],
   "source": []
  },
  {
   "cell_type": "code",
   "execution_count": null,
   "metadata": {
    "collapsed": true
   },
   "outputs": [],
   "source": [
    "\n"
   ]
  },
  {
   "cell_type": "markdown",
   "metadata": {},
   "source": [
    "## Video 4: Remembering your actions: adding a replay memory\n"
   ]
  },
  {
   "cell_type": "code",
   "execution_count": null,
   "metadata": {
    "collapsed": true
   },
   "outputs": [],
   "source": []
  },
  {
   "cell_type": "markdown",
   "metadata": {},
   "source": [
    "## Video 5: Introduction to the Atari environment\n"
   ]
  },
  {
   "cell_type": "code",
   "execution_count": null,
   "metadata": {},
   "outputs": [],
   "source": []
  },
  {
   "cell_type": "code",
   "execution_count": 2,
   "metadata": {},
   "outputs": [
    {
     "name": "stdout",
     "output_type": "stream",
     "text": [
      "(210, 160, 3)\n",
      "0\n"
     ]
    },
    {
     "data": {
      "image/png": "[encoded data removed]",
      "text/plain": [
       "<matplotlib.figure.Figure at 0x7f258f697240>"
      ]
     },
     "metadata": {},
     "output_type": "display_data"
    },
    {
     "name": "stdout",
     "output_type": "stream",
     "text": [
      "3\n"
     ]
    },
    {
     "data": {
      "image/png": "[encoded data removed]",
      "text/plain": [
       "<matplotlib.figure.Figure at 0x7f258d0612e8>"
      ]
     },
     "metadata": {},
     "output_type": "display_data"
    },
    {
     "name": "stdout",
     "output_type": "stream",
     "text": [
      "1\n"
     ]
    },
    {
     "data": {
      "image/png": "[encoded data removed]",
      "text/plain": [
       "<matplotlib.figure.Figure at 0x7f258d055cf8>"
      ]
     },
     "metadata": {},
     "output_type": "display_data"
    },
    {
     "name": "stdout",
     "output_type": "stream",
     "text": [
      "0\n"
     ]
    },
    {
     "data": {
      "image/png": "[encoded data removed]",
      "text/plain": [
       "<matplotlib.figure.Figure at 0x7f258cfcaf28>"
      ]
     },
     "metadata": {},
     "output_type": "display_data"
    },
    {
     "name": "stdout",
     "output_type": "stream",
     "text": [
      "3\n"
     ]
    },
    {
     "data": {
      "image/png": "[encoded data removed]",
      "text/plain": [
       "<matplotlib.figure.Figure at 0x7f258cf32cc0>"
      ]
     },
     "metadata": {},
     "output_type": "display_data"
    },
    {
     "name": "stdout",
     "output_type": "stream",
     "text": [
      "3\n"
     ]
    },
    {
     "data": {
      "image/png": "[encoded data removed]",
      "text/plain": [
       "<matplotlib.figure.Figure at 0x7f258d004630>"
      ]
     },
     "metadata": {},
     "output_type": "display_data"
    },
    {
     "name": "stdout",
     "output_type": "stream",
     "text": [
      "3\n"
     ]
    },
    {
     "data": {
      "image/png": "[encoded data removed]",
      "text/plain": [
       "<matplotlib.figure.Figure at 0x7f258d055ef0>"
      ]
     },
     "metadata": {},
     "output_type": "display_data"
    },
    {
     "name": "stdout",
     "output_type": "stream",
     "text": [
      "3\n"
     ]
    },
    {
     "data": {
      "image/png": "[encoded data removed]",
      "text/plain": [
       "<matplotlib.figure.Figure at 0x7f258cf52550>"
      ]
     },
     "metadata": {},
     "output_type": "display_data"
    },
    {
     "name": "stdout",
     "output_type": "stream",
     "text": [
      "1\n"
     ]
    },
    {
     "data": {
      "image/png": "[encoded data removed]",
      "text/plain": [
       "<matplotlib.figure.Figure at 0x7f258ce765f8>"
      ]
     },
     "metadata": {},
     "output_type": "display_data"
    },
    {
     "name": "stdout",
     "output_type": "stream",
     "text": [
      "3\n"
     ]
    },
    {
     "data": {
      "image/png": "[encoded data removed]",
      "text/plain": [
       "<matplotlib.figure.Figure at 0x7f258cf526a0>"
      ]
     },
     "metadata": {},
     "output_type": "display_data"
    },
    {
     "name": "stdout",
     "output_type": "stream",
     "text": [
      "1\n"
     ]
    },
    {
     "data": {
      "image/png": "[encoded data removed]",
      "text/plain": [
       "<matplotlib.figure.Figure at 0x7f258cdd6198>"
      ]
     },
     "metadata": {},
     "output_type": "display_data"
    },
    {
     "name": "stdout",
     "output_type": "stream",
     "text": [
      "2\n"
     ]
    },
    {
     "data": {
      "image/png": "[encoded data removed]",
      "text/plain": [
       "<matplotlib.figure.Figure at 0x7f258cc82940>"
      ]
     },
     "metadata": {},
     "output_type": "display_data"
    },
    {
     "name": "stdout",
     "output_type": "stream",
     "text": [
      "0\n"
     ]
    },
    {
     "data": {
      "image/png": "[encoded data removed]",
      "text/plain": [
       "<matplotlib.figure.Figure at 0x7f258cc82b00>"
      ]
     },
     "metadata": {},
     "output_type": "display_data"
    },
    {
     "name": "stdout",
     "output_type": "stream",
     "text": [
      "3\n"
     ]
    },
    {
     "data": {
      "image/png": "[encoded data removed]",
      "text/plain": [
       "<matplotlib.figure.Figure at 0x7f258cc68240>"
      ]
     },
     "metadata": {},
     "output_type": "display_data"
    },
    {
     "name": "stdout",
     "output_type": "stream",
     "text": [
      "2\n"
     ]
    },
    {
     "data": {
      "image/png": "[encoded data removed]",
      "text/plain": [
       "<matplotlib.figure.Figure at 0x7f258cd99630>"
      ]
     },
     "metadata": {},
     "output_type": "display_data"
    },
    {
     "name": "stdout",
     "output_type": "stream",
     "text": [
      "0\n"
     ]
    },
    {
     "data": {
      "image/png": "[encoded data removed]",
      "text/plain": [
       "<matplotlib.figure.Figure at 0x7f258ccb2630>"
      ]
     },
     "metadata": {},
     "output_type": "display_data"
    },
    {
     "name": "stdout",
     "output_type": "stream",
     "text": [
      "0\n"
     ]
    },
    {
     "data": {
      "image/png": "[encoded data removed]",
      "text/plain": [
       "<matplotlib.figure.Figure at 0x7f258ccd5128>"
      ]
     },
     "metadata": {},
     "output_type": "display_data"
    },
    {
     "name": "stdout",
     "output_type": "stream",
     "text": [
      "0\n"
     ]
    },
    {
     "data": {
      "image/png": "[encoded data removed]",
      "text/plain": [
       "<matplotlib.figure.Figure at 0x7f258cc7ee48>"
      ]
     },
     "metadata": {},
     "output_type": "display_data"
    },
    {
     "name": "stdout",
     "output_type": "stream",
     "text": [
      "2\n"
     ]
    },
    {
     "data": {
      "image/png": "[encoded data removed]",
      "text/plain": [
       "<matplotlib.figure.Figure at 0x7f258cc5ef98>"
      ]
     },
     "metadata": {},
     "output_type": "display_data"
    },
    {
     "name": "stdout",
     "output_type": "stream",
     "text": [
      "1\n"
     ]
    },
    {
     "data": {
      "image/png": "[encoded data removed]",
      "text/plain": [
       "<matplotlib.figure.Figure at 0x7f258cc8a4e0>"
      ]
     },
     "metadata": {},
     "output_type": "display_data"
    },
    {
     "name": "stdout",
     "output_type": "stream",
     "text": [
      "2\n"
     ]
    },
    {
     "data": {
      "image/png": "[encoded data removed]",
      "text/plain": [
       "<matplotlib.figure.Figure at 0x7f258ccd6c18>"
      ]
     },
     "metadata": {},
     "output_type": "display_data"
    },
    {
     "name": "stdout",
     "output_type": "stream",
     "text": [
      "3\n"
     ]
    },
    {
     "data": {
      "image/png": "[encoded data removed]",
      "text/plain": [
       "<matplotlib.figure.Figure at 0x7f258ccb2160>"
      ]
     },
     "metadata": {},
     "output_type": "display_data"
    },
    {
     "name": "stdout",
     "output_type": "stream",
     "text": [
      "3\n"
     ]
    },
    {
     "data": {
      "image/png": "[encoded data removed]",
      "text/plain": [
       "<matplotlib.figure.Figure at 0x7f258ceb10f0>"
      ]
     },
     "metadata": {},
     "output_type": "display_data"
    },
    {
     "name": "stdout",
     "output_type": "stream",
     "text": [
      "2\n"
     ]
    },
    {
     "data": {
      "image/png": "[encoded data removed]",
      "text/plain": [
       "<matplotlib.figure.Figure at 0x7f258cc0ac88>"
      ]
     },
     "metadata": {},
     "output_type": "display_data"
    },
    {
     "name": "stdout",
     "output_type": "stream",
     "text": [
      "0\n"
     ]
    },
    {
     "data": {
      "image/png": "[encoded data removed]",
      "text/plain": [
       "<matplotlib.figure.Figure at 0x7f258cf36160>"
      ]
     },
     "metadata": {},
     "output_type": "display_data"
    },
    {
     "name": "stdout",
     "output_type": "stream",
     "text": [
      "1\n"
     ]
    },
    {
     "data": {
      "image/png": "[encoded data removed]",
      "text/plain": [
       "<matplotlib.figure.Figure at 0x7f258ce506a0>"
      ]
     },
     "metadata": {},
     "output_type": "display_data"
    },
    {
     "name": "stdout",
     "output_type": "stream",
     "text": [
      "1\n"
     ]
    },
    {
     "data": {
      "image/png": "[encoded data removed]",
      "text/plain": [
       "<matplotlib.figure.Figure at 0x7f258cf1bba8>"
      ]
     },
     "metadata": {},
     "output_type": "display_data"
    },
    {
     "name": "stdout",
     "output_type": "stream",
     "text": [
      "1\n"
     ]
    },
    {
     "data": {
      "image/png": "[encoded data removed]",
      "text/plain": [
       "<matplotlib.figure.Figure at 0x7f258d056b70>"
      ]
     },
     "metadata": {},
     "output_type": "display_data"
    },
    {
     "name": "stdout",
     "output_type": "stream",
     "text": [
      "1\n"
     ]
    },
    {
     "data": {
      "image/png": "[encoded data removed]",
      "text/plain": [
       "<matplotlib.figure.Figure at 0x7f258d0e3208>"
      ]
     },
     "metadata": {},
     "output_type": "display_data"
    },
    {
     "name": "stdout",
     "output_type": "stream",
     "text": [
      "0\n"
     ]
    },
    {
     "data": {
      "image/png": "[encoded data removed]",
      "text/plain": [
       "<matplotlib.figure.Figure at 0x7f258d060dd8>"
      ]
     },
     "metadata": {},
     "output_type": "display_data"
    },
    {
     "name": "stdout",
     "output_type": "stream",
     "text": [
      "1\n"
     ]
    },
    {
     "data": {
      "image/png": "[encoded data removed]",
      "text/plain": [
       "<matplotlib.figure.Figure at 0x7f258cf1b048>"
      ]
     },
     "metadata": {},
     "output_type": "display_data"
    },
    {
     "name": "stdout",
     "output_type": "stream",
     "text": [
      "0\n"
     ]
    },
    {
     "data": {
      "image/png": "[encoded data removed]",
      "text/plain": [
       "<matplotlib.figure.Figure at 0x7f258cd61828>"
      ]
     },
     "metadata": {},
     "output_type": "display_data"
    },
    {
     "name": "stdout",
     "output_type": "stream",
     "text": [
      "3\n"
     ]
    },
    {
     "data": {
      "image/png": "[encoded data removed]",
      "text/plain": [
       "<matplotlib.figure.Figure at 0x7f258cc76978>"
      ]
     },
     "metadata": {},
     "output_type": "display_data"
    },
    {
     "name": "stdout",
     "output_type": "stream",
     "text": [
      "0\n"
     ]
    },
    {
     "data": {
      "image/png": "[encoded data removed]",
      "text/plain": [
       "<matplotlib.figure.Figure at 0x7f258ccde320>"
      ]
     },
     "metadata": {},
     "output_type": "display_data"
    },
    {
     "name": "stdout",
     "output_type": "stream",
     "text": [
      "3\n"
     ]
    },
    {
     "data": {
      "image/png": "[encoded data removed]",
      "text/plain": [
       "<matplotlib.figure.Figure at 0x7f258cdb1b38>"
      ]
     },
     "metadata": {},
     "output_type": "display_data"
    },
    {
     "name": "stdout",
     "output_type": "stream",
     "text": [
      "1\n"
     ]
    },
    {
     "data": {
      "image/png": "[encoded data removed]",
      "text/plain": [
       "<matplotlib.figure.Figure at 0x7f258ccca160>"
      ]
     },
     "metadata": {},
     "output_type": "display_data"
    },
    {
     "name": "stdout",
     "output_type": "stream",
     "text": [
      "2\n"
     ]
    },
    {
     "data": {
      "image/png": "[encoded data removed]",
      "text/plain": [
       "<matplotlib.figure.Figure at 0x7f258ccca9e8>"
      ]
     },
     "metadata": {},
     "output_type": "display_data"
    },
    {
     "name": "stdout",
     "output_type": "stream",
     "text": [
      "3\n"
     ]
    },
    {
     "data": {
      "image/png": "[encoded data removed]",
      "text/plain": [
       "<matplotlib.figure.Figure at 0x7f258ccbdba8>"
      ]
     },
     "metadata": {},
     "output_type": "display_data"
    },
    {
     "name": "stdout",
     "output_type": "stream",
     "text": [
      "3\n"
     ]
    },
    {
     "data": {
      "image/png": "[encoded data removed]",
      "text/plain": [
       "<matplotlib.figure.Figure at 0x7f258cc27cc0>"
      ]
     },
     "metadata": {},
     "output_type": "display_data"
    },
    {
     "name": "stdout",
     "output_type": "stream",
     "text": [
      "0\n"
     ]
    },
    {
     "data": {
      "image/png": "[encoded data removed]",
      "text/plain": [
       "<matplotlib.figure.Figure at 0x7f258cd76a90>"
      ]
     },
     "metadata": {},
     "output_type": "display_data"
    },
    {
     "name": "stdout",
     "output_type": "stream",
     "text": [
      "2\n"
     ]
    },
    {
     "data": {
      "image/png": "[encoded data removed]",
      "text/plain": [
       "<matplotlib.figure.Figure at 0x7f258cda4630>"
      ]
     },
     "metadata": {},
     "output_type": "display_data"
    },
    {
     "name": "stdout",
     "output_type": "stream",
     "text": [
      "3\n"
     ]
    },
    {
     "data": {
      "image/png": "[encoded data removed]",
      "text/plain": [
       "<matplotlib.figure.Figure at 0x7f258cc875c0>"
      ]
     },
     "metadata": {},
     "output_type": "display_data"
    },
    {
     "name": "stdout",
     "output_type": "stream",
     "text": [
      "0\n"
     ]
    },
    {
     "data": {
      "image/png": "[encoded data removed]",
      "text/plain": [
       "<matplotlib.figure.Figure at 0x7f258cdabef0>"
      ]
     },
     "metadata": {},
     "output_type": "display_data"
    },
    {
     "name": "stdout",
     "output_type": "stream",
     "text": [
      "1\n"
     ]
    },
    {
     "data": {
      "image/png": "[encoded data removed]",
      "text/plain": [
       "<matplotlib.figure.Figure at 0x7f258cec5978>"
      ]
     },
     "metadata": {},
     "output_type": "display_data"
    },
    {
     "name": "stdout",
     "output_type": "stream",
     "text": [
      "3\n"
     ]
    },
    {
     "data": {
      "image/png": "[encoded data removed]",
      "text/plain": [
       "<matplotlib.figure.Figure at 0x7f258ce36048>"
      ]
     },
     "metadata": {},
     "output_type": "display_data"
    },
    {
     "name": "stdout",
     "output_type": "stream",
     "text": [
      "1\n"
     ]
    },
    {
     "data": {
      "image/png": "[encoded data removed]",
      "text/plain": [
       "<matplotlib.figure.Figure at 0x7f258d0547b8>"
      ]
     },
     "metadata": {},
     "output_type": "display_data"
    },
    {
     "name": "stdout",
     "output_type": "stream",
     "text": [
      "3\n"
     ]
    },
    {
     "data": {
      "image/png": "[encoded data removed]",
      "text/plain": [
       "<matplotlib.figure.Figure at 0x7f258cede668>"
      ]
     },
     "metadata": {},
     "output_type": "display_data"
    },
    {
     "name": "stdout",
     "output_type": "stream",
     "text": [
      "3\n"
     ]
    },
    {
     "data": {
      "image/png": "[encoded data removed]",
      "text/plain": [
       "<matplotlib.figure.Figure at 0x7f258ce12b00>"
      ]
     },
     "metadata": {},
     "output_type": "display_data"
    },
    {
     "name": "stdout",
     "output_type": "stream",
     "text": [
      "2\n"
     ]
    },
    {
     "data": {
      "image/png": "[encoded data removed]",
      "text/plain": [
       "<matplotlib.figure.Figure at 0x7f258f15e400>"
      ]
     },
     "metadata": {},
     "output_type": "display_data"
    },
    {
     "name": "stdout",
     "output_type": "stream",
     "text": [
      "3\n"
     ]
    },
    {
     "data": {
      "image/png": "[encoded data removed]",
      "text/plain": [
       "<matplotlib.figure.Figure at 0x7f258cebdb70>"
      ]
     },
     "metadata": {},
     "output_type": "display_data"
    },
    {
     "name": "stdout",
     "output_type": "stream",
     "text": [
      "0\n"
     ]
    },
    {
     "data": {
      "image/png": "[encoded data removed]",
      "text/plain": [
       "<matplotlib.figure.Figure at 0x7f258d02ba58>"
      ]
     },
     "metadata": {},
     "output_type": "display_data"
    },
    {
     "name": "stdout",
     "output_type": "stream",
     "text": [
      "1\n"
     ]
    },
    {
     "data": {
      "image/png": "[encoded data removed]",
      "text/plain": [
       "<matplotlib.figure.Figure at 0x7f258d093588>"
      ]
     },
     "metadata": {},
     "output_type": "display_data"
    },
    {
     "name": "stdout",
     "output_type": "stream",
     "text": [
      "1\n"
     ]
    },
    {
     "data": {
      "image/png": "[encoded data removed]",
      "text/plain": [
       "<matplotlib.figure.Figure at 0x7f258d0ebba8>"
      ]
     },
     "metadata": {},
     "output_type": "display_data"
    },
    {
     "name": "stdout",
     "output_type": "stream",
     "text": [
      "1\n"
     ]
    },
    {
     "data": {
      "image/png": "[encoded data removed]",
      "text/plain": [
       "<matplotlib.figure.Figure at 0x7f258d076a90>"
      ]
     },
     "metadata": {},
     "output_type": "display_data"
    },
    {
     "name": "stdout",
     "output_type": "stream",
     "text": [
      "3\n"
     ]
    },
    {
     "data": {
      "image/png": "[encoded data removed]",
      "text/plain": [
       "<matplotlib.figure.Figure at 0x7f258f15ed68>"
      ]
     },
     "metadata": {},
     "output_type": "display_data"
    },
    {
     "name": "stdout",
     "output_type": "stream",
     "text": [
      "0\n"
     ]
    },
    {
     "data": {
      "image/png": "[encoded data removed]",
      "text/plain": [
       "<matplotlib.figure.Figure at 0x7f258d089e80>"
      ]
     },
     "metadata": {},
     "output_type": "display_data"
    },
    {
     "name": "stdout",
     "output_type": "stream",
     "text": [
      "3\n"
     ]
    },
    {
     "data": {
      "image/png": "[encoded data removed]",
      "text/plain": [
       "<matplotlib.figure.Figure at 0x7f258cfafda0>"
      ]
     },
     "metadata": {},
     "output_type": "display_data"
    },
    {
     "name": "stdout",
     "output_type": "stream",
     "text": [
      "2\n"
     ]
    },
    {
     "data": {
      "image/png": "[encoded data removed]",
      "text/plain": [
       "<matplotlib.figure.Figure at 0x7f258cc2a208>"
      ]
     },
     "metadata": {},
     "output_type": "display_data"
    },
    {
     "name": "stdout",
     "output_type": "stream",
     "text": [
      "0\n"
     ]
    },
    {
     "data": {
      "image/png": "[encoded data removed]",
      "text/plain": [
       "<matplotlib.figure.Figure at 0x7f258ccb62e8>"
      ]
     },
     "metadata": {},
     "output_type": "display_data"
    },
    {
     "name": "stdout",
     "output_type": "stream",
     "text": [
      "3\n"
     ]
    },
    {
     "data": {
      "image/png": "[encoded data removed]",
      "text/plain": [
       "<matplotlib.figure.Figure at 0x7f258f6a4f28>"
      ]
     },
     "metadata": {},
     "output_type": "display_data"
    },
    {
     "name": "stdout",
     "output_type": "stream",
     "text": [
      "3\n"
     ]
    },
    {
     "data": {
      "image/png": "[encoded data removed]",
      "text/plain": [
       "<matplotlib.figure.Figure at 0x7f258cccd0b8>"
      ]
     },
     "metadata": {},
     "output_type": "display_data"
    },
    {
     "name": "stdout",
     "output_type": "stream",
     "text": [
      "2\n"
     ]
    },
    {
     "data": {
      "image/png": "[encoded data removed]",
      "text/plain": [
       "<matplotlib.figure.Figure at 0x7f258d0f8828>"
      ]
     },
     "metadata": {},
     "output_type": "display_data"
    },
    {
     "name": "stdout",
     "output_type": "stream",
     "text": [
      "3\n"
     ]
    },
    {
     "data": {
      "image/png": "[encoded data removed]",
      "text/plain": [
       "<matplotlib.figure.Figure at 0x7f258cff0160>"
      ]
     },
     "metadata": {},
     "output_type": "display_data"
    },
    {
     "name": "stdout",
     "output_type": "stream",
     "text": [
      "2\n"
     ]
    },
    {
     "data": {
      "image/png": "[encoded data removed]",
      "text/plain": [
       "<matplotlib.figure.Figure at 0x7f258cfbfac8>"
      ]
     },
     "metadata": {},
     "output_type": "display_data"
    },
    {
     "name": "stdout",
     "output_type": "stream",
     "text": [
      "3\n"
     ]
    },
    {
     "data": {
      "image/png": "[encoded data removed]",
      "text/plain": [
       "<matplotlib.figure.Figure at 0x7f258d114588>"
      ]
     },
     "metadata": {},
     "output_type": "display_data"
    },
    {
     "name": "stdout",
     "output_type": "stream",
     "text": [
      "0\n"
     ]
    },
    {
     "data": {
      "image/png": "[encoded data removed]",
      "text/plain": [
       "<matplotlib.figure.Figure at 0x7f258d0fbe80>"
      ]
     },
     "metadata": {},
     "output_type": "display_data"
    },
    {
     "name": "stdout",
     "output_type": "stream",
     "text": [
      "2\n"
     ]
    },
    {
     "data": {
      "image/png": "[encoded data removed]",
      "text/plain": [
       "<matplotlib.figure.Figure at 0x7f258d0fb400>"
      ]
     },
     "metadata": {},
     "output_type": "display_data"
    },
    {
     "name": "stdout",
     "output_type": "stream",
     "text": [
      "0\n"
     ]
    },
    {
     "data": {
      "image/png": "[encoded data removed]",
      "text/plain": [
       "<matplotlib.figure.Figure at 0x7f258ce42940>"
      ]
     },
     "metadata": {},
     "output_type": "display_data"
    },
    {
     "name": "stdout",
     "output_type": "stream",
     "text": [
      "0\n"
     ]
    },
    {
     "data": {
      "image/png": "[encoded data removed]",
      "text/plain": [
       "<matplotlib.figure.Figure at 0x7f258ced2d68>"
      ]
     },
     "metadata": {},
     "output_type": "display_data"
    },
    {
     "name": "stdout",
     "output_type": "stream",
     "text": [
      "0\n"
     ]
    },
    {
     "data": {
      "image/png": "[encoded data removed]",
      "text/plain": [
       "<matplotlib.figure.Figure at 0x7f258cddbac8>"
      ]
     },
     "metadata": {},
     "output_type": "display_data"
    },
    {
     "name": "stdout",
     "output_type": "stream",
     "text": [
      "1\n"
     ]
    },
    {
     "data": {
      "image/png": "[encoded data removed]",
      "text/plain": [
       "<matplotlib.figure.Figure at 0x7f258cdeaef0>"
      ]
     },
     "metadata": {},
     "output_type": "display_data"
    },
    {
     "name": "stdout",
     "output_type": "stream",
     "text": [
      "1\n"
     ]
    },
    {
     "data": {
      "image/png": "[encoded data removed]",
      "text/plain": [
       "<matplotlib.figure.Figure at 0x7f258d01e630>"
      ]
     },
     "metadata": {},
     "output_type": "display_data"
    },
    {
     "name": "stdout",
     "output_type": "stream",
     "text": [
      "2\n"
     ]
    },
    {
     "data": {
      "image/png": "[encoded data removed]",
      "text/plain": [
       "<matplotlib.figure.Figure at 0x7f258cdea780>"
      ]
     },
     "metadata": {},
     "output_type": "display_data"
    },
    {
     "name": "stdout",
     "output_type": "stream",
     "text": [
      "0\n"
     ]
    },
    {
     "data": {
      "image/png": "[encoded data removed]",
      "text/plain": [
       "<matplotlib.figure.Figure at 0x7f258cdfed30>"
      ]
     },
     "metadata": {},
     "output_type": "display_data"
    },
    {
     "name": "stdout",
     "output_type": "stream",
     "text": [
      "0\n"
     ]
    },
    {
     "data": {
      "image/png": "[encoded data removed]",
      "text/plain": [
       "<matplotlib.figure.Figure at 0x7f258cdfea20>"
      ]
     },
     "metadata": {},
     "output_type": "display_data"
    },
    {
     "name": "stdout",
     "output_type": "stream",
     "text": [
      "1\n"
     ]
    },
    {
     "data": {
      "image/png": "[encoded data removed]",
      "text/plain": [
       "<matplotlib.figure.Figure at 0x7f258cfb0860>"
      ]
     },
     "metadata": {},
     "output_type": "display_data"
    },
    {
     "name": "stdout",
     "output_type": "stream",
     "text": [
      "3\n"
     ]
    },
    {
     "data": {
      "image/png": "[encoded data removed]",
      "text/plain": [
       "<matplotlib.figure.Figure at 0x7f258d024400>"
      ]
     },
     "metadata": {},
     "output_type": "display_data"
    },
    {
     "name": "stdout",
     "output_type": "stream",
     "text": [
      "0\n"
     ]
    },
    {
     "data": {
      "image/png": "[encoded data removed]",
      "text/plain": [
       "<matplotlib.figure.Figure at 0x7f258cf02f28>"
      ]
     },
     "metadata": {},
     "output_type": "display_data"
    },
    {
     "name": "stdout",
     "output_type": "stream",
     "text": [
      "1\n"
     ]
    },
    {
     "data": {
      "image/png": "[encoded data removed]",
      "text/plain": [
       "<matplotlib.figure.Figure at 0x7f258cd179e8>"
      ]
     },
     "metadata": {},
     "output_type": "display_data"
    },
    {
     "name": "stdout",
     "output_type": "stream",
     "text": [
      "2\n"
     ]
    },
    {
     "data": {
      "image/png": "[encoded data removed]",
      "text/plain": [
       "<matplotlib.figure.Figure at 0x7f258cc7dcf8>"
      ]
     },
     "metadata": {},
     "output_type": "display_data"
    },
    {
     "name": "stdout",
     "output_type": "stream",
     "text": [
      "2\n"
     ]
    },
    {
     "data": {
      "image/png": "[encoded data removed]",
      "text/plain": [
       "<matplotlib.figure.Figure at 0x7f258cd0ba58>"
      ]
     },
     "metadata": {},
     "output_type": "display_data"
    },
    {
     "name": "stdout",
     "output_type": "stream",
     "text": [
      "3\n"
     ]
    },
    {
     "data": {
      "image/png": "[encoded data removed]",
      "text/plain": [
       "<matplotlib.figure.Figure at 0x7f258cc7eac8>"
      ]
     },
     "metadata": {},
     "output_type": "display_data"
    },
    {
     "name": "stdout",
     "output_type": "stream",
     "text": [
      "0\n"
     ]
    },
    {
     "data": {
      "image/png": "[encoded data removed]",
      "text/plain": [
       "<matplotlib.figure.Figure at 0x7f258cc5e0f0>"
      ]
     },
     "metadata": {},
     "output_type": "display_data"
    },
    {
     "name": "stdout",
     "output_type": "stream",
     "text": [
      "1\n"
     ]
    },
    {
     "data": {
      "image/png": "[encoded data removed]",
      "text/plain": [
       "<matplotlib.figure.Figure at 0x7f258d103b38>"
      ]
     },
     "metadata": {},
     "output_type": "display_data"
    },
    {
     "name": "stdout",
     "output_type": "stream",
     "text": [
      "1\n"
     ]
    },
    {
     "data": {
      "image/png": "[encoded data removed]",
      "text/plain": [
       "<matplotlib.figure.Figure at 0x7f258d08cc50>"
      ]
     },
     "metadata": {},
     "output_type": "display_data"
    },
    {
     "name": "stdout",
     "output_type": "stream",
     "text": [
      "3\n"
     ]
    },
    {
     "data": {
      "image/png": "[encoded data removed]",
      "text/plain": [
       "<matplotlib.figure.Figure at 0x7f258d012f60>"
      ]
     },
     "metadata": {},
     "output_type": "display_data"
    },
    {
     "name": "stdout",
     "output_type": "stream",
     "text": [
      "1\n"
     ]
    },
    {
     "data": {
      "image/png": "[encoded data removed]",
      "text/plain": [
       "<matplotlib.figure.Figure at 0x7f258cf046a0>"
      ]
     },
     "metadata": {},
     "output_type": "display_data"
    },
    {
     "name": "stdout",
     "output_type": "stream",
     "text": [
      "1\n"
     ]
    },
    {
     "data": {
      "image/png": "[encoded data removed]",
      "text/plain": [
       "<matplotlib.figure.Figure at 0x7f258ce7fb70>"
      ]
     },
     "metadata": {},
     "output_type": "display_data"
    },
    {
     "name": "stdout",
     "output_type": "stream",
     "text": [
      "3\n"
     ]
    },
    {
     "data": {
      "image/png": "[encoded data removed]",
      "text/plain": [
       "<matplotlib.figure.Figure at 0x7f258cee8c50>"
      ]
     },
     "metadata": {},
     "output_type": "display_data"
    },
    {
     "name": "stdout",
     "output_type": "stream",
     "text": [
      "2\n"
     ]
    },
    {
     "data": {
      "image/png": "[encoded data removed]",
      "text/plain": [
       "<matplotlib.figure.Figure at 0x7f258d0049b0>"
      ]
     },
     "metadata": {},
     "output_type": "display_data"
    },
    {
     "name": "stdout",
     "output_type": "stream",
     "text": [
      "3\n"
     ]
    },
    {
     "data": {
      "image/png": "[encoded data removed]",
      "text/plain": [
       "<matplotlib.figure.Figure at 0x7f258ce5fb70>"
      ]
     },
     "metadata": {},
     "output_type": "display_data"
    },
    {
     "name": "stdout",
     "output_type": "stream",
     "text": [
      "3\n"
     ]
    },
    {
     "data": {
      "image/png": "[encoded data removed]",
      "text/plain": [
       "<matplotlib.figure.Figure at 0x7f258d026cc0>"
      ]
     },
     "metadata": {},
     "output_type": "display_data"
    },
    {
     "name": "stdout",
     "output_type": "stream",
     "text": [
      "2\n"
     ]
    },
    {
     "data": {
      "image/png": "[encoded data removed]",
      "text/plain": [
       "<matplotlib.figure.Figure at 0x7f258cda4f28>"
      ]
     },
     "metadata": {},
     "output_type": "display_data"
    },
    {
     "name": "stdout",
     "output_type": "stream",
     "text": [
      "2\n"
     ]
    },
    {
     "data": {
      "image/png": "[encoded data removed]",
      "text/plain": [
       "<matplotlib.figure.Figure at 0x7f258cec14e0>"
      ]
     },
     "metadata": {},
     "output_type": "display_data"
    },
    {
     "name": "stdout",
     "output_type": "stream",
     "text": [
      "3\n"
     ]
    },
    {
     "data": {
      "image/png": "[encoded data removed]",
      "text/plain": [
       "<matplotlib.figure.Figure at 0x7f258ce18320>"
      ]
     },
     "metadata": {},
     "output_type": "display_data"
    },
    {
     "name": "stdout",
     "output_type": "stream",
     "text": [
      "0\n"
     ]
    },
    {
     "data": {
      "image/png": "[encoded data removed]",
      "text/plain": [
       "<matplotlib.figure.Figure at 0x7f258cdd6f98>"
      ]
     },
     "metadata": {},
     "output_type": "display_data"
    },
    {
     "name": "stdout",
     "output_type": "stream",
     "text": [
      "2\n"
     ]
    },
    {
     "data": {
      "image/png": "[encoded data removed]",
      "text/plain": [
       "<matplotlib.figure.Figure at 0x7f258d05f978>"
      ]
     },
     "metadata": {},
     "output_type": "display_data"
    },
    {
     "name": "stdout",
     "output_type": "stream",
     "text": [
      "3\n"
     ]
    },
    {
     "data": {
      "image/png": "[encoded data removed]",
      "text/plain": [
       "<matplotlib.figure.Figure at 0x7f258d026898>"
      ]
     },
     "metadata": {},
     "output_type": "display_data"
    },
    {
     "name": "stdout",
     "output_type": "stream",
     "text": [
      "1\n"
     ]
    },
    {
     "data": {
      "image/png": "[encoded data removed]",
      "text/plain": [
       "<matplotlib.figure.Figure at 0x7f258cf1cc50>"
      ]
     },
     "metadata": {},
     "output_type": "display_data"
    },
    {
     "name": "stdout",
     "output_type": "stream",
     "text": [
      "0\n"
     ]
    },
    {
     "data": {
      "image/png": "[encoded data removed]",
      "text/plain": [
       "<matplotlib.figure.Figure at 0x7f258cf50eb8>"
      ]
     },
     "metadata": {},
     "output_type": "display_data"
    }
   ],
   "source": [
    "env = gym.make(\"BreakoutDeterministic-v4\")\n",
    "observation = env.reset()\n",
    "print(observation.shape)\n",
    "plt.imshow(observation)\n",
    "\n",
    "observation = env.reset()\n",
    "for _ in range(10):\n",
    "    action = env.action_space.sample()\n",
    "    print(action)\n",
    "    observation, reward, done, info = env.step(action) \n",
    "    plt.imshow(observation)\n",
    "    plt.show()\n",
    "\n"
   ]
  },
  {
   "cell_type": "code",
   "execution_count": 3,
   "metadata": {},
   "outputs": [
    {
     "data": {
      "text/plain": [
       "(210, 160, 3)"
      ]
     },
     "execution_count": 3,
     "metadata": {},
     "output_type": "execute_result"
    }
   ],
   "source": [
    "observation.shape"
   ]
  },
  {
   "cell_type": "markdown",
   "metadata": {},
   "source": [
    "https://www.cs.toronto.edu/~vmnih/docs/dqn.pdf"
   ]
  },
  {
   "cell_type": "code",
   "execution_count": 4,
   "metadata": {},
   "outputs": [
    {
     "data": {
      "text/plain": [
       "4"
      ]
     },
     "execution_count": 4,
     "metadata": {},
     "output_type": "execute_result"
    }
   ],
   "source": [
    "env.action_space.n"
   ]
  },
  {
   "cell_type": "code",
   "execution_count": 5,
   "metadata": {
    "collapsed": true
   },
   "outputs": [],
   "source": [
    "def huber_loss(x, delta=1.0):\n",
    "    \"\"\"Reference: https://en.wikipedia.org/wiki/Huber_loss\"\"\"\n",
    "    return tf.where(\n",
    "        tf.abs(x) < delta,\n",
    "        tf.square(x) * 0.5,\n",
    "        delta * (tf.abs(x) - 0.5 * delta)\n",
    "    )\n",
    "\n",
    "def scope_vars(scope, trainable_only=False):\n",
    "    \"\"\"\n",
    "    Get variables inside a scope\n",
    "    The scope can be specified as a string\n",
    "    Parameters\n",
    "    ----------\n",
    "    scope: str or VariableScope\n",
    "        scope in which the variables reside.\n",
    "    trainable_only: bool\n",
    "        whether or not to return only the variables that were marked as trainable.\n",
    "    Returns\n",
    "    -------\n",
    "    vars: [tf.Variable]\n",
    "        list of variables in `scope`.\n",
    "    \"\"\"\n",
    "    return tf.get_collection(\n",
    "        tf.GraphKeys.TRAINABLE_VARIABLES if trainable_only else tf.GraphKeys.GLOBAL_VARIABLES,\n",
    "        scope=scope if isinstance(scope, str) else scope.name\n",
    "    )\n",
    "\n",
    "def scope_name():\n",
    "    \"\"\"Returns the name of current scope as a string, e.g. deepq/q_func\"\"\"\n",
    "    return tf.get_variable_scope().name\n",
    "\n",
    "def absolute_scope_name(relative_scope_name):\n",
    "    \"\"\"Appends parent scope name to `relative_scope_name`\"\"\"\n",
    "    return scope_name() + \"/\" + relative_scope_name\n",
    "\n",
    "\n",
    "def function(inputs, outputs, updates=None, givens=None):\n",
    "    \"\"\"Just like Theano function. Take a bunch of tensorflow placeholders and expressions\n",
    "    computed based on those placeholders and produces f(inputs) -> outputs. Function f takes\n",
    "    values to be fed to the input's placeholders and produces the values of the expressions\n",
    "    in outputs.\n",
    "    Input values can be passed in the same order as inputs or can be provided as kwargs based\n",
    "    on placeholder name (passed to constructor or accessible via placeholder.op.name).\n",
    "    Example:\n",
    "        x = tf.placeholder(tf.int32, (), name=\"x\")\n",
    "        y = tf.placeholder(tf.int32, (), name=\"y\")\n",
    "        z = 3 * x + 2 * y\n",
    "        lin = function([x, y], z, givens={y: 0})\n",
    "        with single_threaded_session():\n",
    "            initialize()\n",
    "            assert lin(2) == 6\n",
    "            assert lin(x=3) == 9\n",
    "            assert lin(2, 2) == 10\n",
    "            assert lin(x=2, y=3) == 12\n",
    "    Parameters\n",
    "    ----------\n",
    "    inputs: [tf.placeholder or TfInput]\n",
    "        list of input arguments\n",
    "    outputs: [tf.Variable] or tf.Variable\n",
    "        list of outputs or a single output to be returned from function. Returned\n",
    "        value will also have the same shape.\n",
    "    \"\"\"\n",
    "    if isinstance(outputs, list):\n",
    "        return _Function(inputs, outputs, updates, givens=givens)\n",
    "    elif isinstance(outputs, (dict, collections.OrderedDict)):\n",
    "        f = _Function(inputs, outputs.values(), updates, givens=givens)\n",
    "        return lambda *args, **kwargs: type(outputs)(zip(outputs.keys(), f(*args, **kwargs)))\n",
    "    else:\n",
    "        f = _Function(inputs, [outputs], updates, givens=givens)\n",
    "        return lambda *args, **kwargs: f(*args, **kwargs)[0]\n",
    "\n",
    "class _Function(object):\n",
    "    def __init__(self, inputs, outputs, updates, givens, check_nan=False):\n",
    "        for inpt in inputs:\n",
    "            if not issubclass(type(inpt), TfInput):\n",
    "                assert len(inpt.op.inputs) == 0, \"inputs should all be placeholders of baselines.common.TfInput\"\n",
    "        self.inputs = inputs\n",
    "        updates = updates or []\n",
    "        self.update_group = tf.group(*updates)\n",
    "        self.outputs_update = list(outputs) + [self.update_group]\n",
    "        self.givens = {} if givens is None else givens\n",
    "        self.check_nan = check_nan\n",
    "\n",
    "    def _feed_input(self, feed_dict, inpt, value):\n",
    "        if issubclass(type(inpt), TfInput):\n",
    "            feed_dict.update(inpt.make_feed_dict(value))\n",
    "        elif is_placeholder(inpt):\n",
    "            feed_dict[inpt] = value\n",
    "\n",
    "    def __call__(self, *args, **kwargs):\n",
    "        assert len(args) <= len(self.inputs), \"Too many arguments provided\"\n",
    "        feed_dict = {}\n",
    "        # Update the args\n",
    "        for inpt, value in zip(self.inputs, args):\n",
    "            self._feed_input(feed_dict, inpt, value)\n",
    "        # Update the kwargs\n",
    "        kwargs_passed_inpt_names = set()\n",
    "        for inpt in self.inputs[len(args):]:\n",
    "            inpt_name = inpt.name.split(':')[0]\n",
    "            inpt_name = inpt_name.split('/')[-1]\n",
    "            assert inpt_name not in kwargs_passed_inpt_names, \\\n",
    "                \"this function has two arguments with the same name \\\"{}\\\", so kwargs cannot be used.\".format(inpt_name)\n",
    "            if inpt_name in kwargs:\n",
    "                kwargs_passed_inpt_names.add(inpt_name)\n",
    "                self._feed_input(feed_dict, inpt, kwargs.pop(inpt_name))\n",
    "            else:\n",
    "                assert inpt in self.givens, \"Missing argument \" + inpt_name\n",
    "        assert len(kwargs) == 0, \"Function got extra arguments \" + str(list(kwargs.keys()))\n",
    "        # Update feed dict with givens.\n",
    "        for inpt in self.givens:\n",
    "            feed_dict[inpt] = feed_dict.get(inpt, self.givens[inpt])\n",
    "        results = get_session().run(self.outputs_update, feed_dict=feed_dict)[:-1]\n",
    "        if self.check_nan:\n",
    "            if any(np.isnan(r).any() for r in results):\n",
    "                raise RuntimeError(\"Nan detected\")\n",
    "        return results\n",
    "\n",
    "def mem_friendly_function(nondata_inputs, data_inputs, outputs, batch_size):\n",
    "    if isinstance(outputs, list):\n",
    "        return _MemFriendlyFunction(nondata_inputs, data_inputs, outputs, batch_size)\n",
    "    else:\n",
    "        f = _MemFriendlyFunction(nondata_inputs, data_inputs, [outputs], batch_size)\n",
    "        return lambda *inputs: f(*inputs)[0]\n",
    "\n",
    "class _MemFriendlyFunction(object):\n",
    "    def __init__(self, nondata_inputs, data_inputs, outputs, batch_size):\n",
    "        self.nondata_inputs = nondata_inputs\n",
    "        self.data_inputs = data_inputs\n",
    "        self.outputs = list(outputs)\n",
    "        self.batch_size = batch_size\n",
    "\n",
    "    def __call__(self, *inputvals):\n",
    "        assert len(inputvals) == len(self.nondata_inputs) + len(self.data_inputs)\n",
    "        nondata_vals = inputvals[0:len(self.nondata_inputs)]\n",
    "        data_vals = inputvals[len(self.nondata_inputs):]\n",
    "        feed_dict = dict(zip(self.nondata_inputs, nondata_vals))\n",
    "        n = data_vals[0].shape[0]\n",
    "        for v in data_vals[1:]:\n",
    "            assert v.shape[0] == n\n",
    "        for i_start in range(0, n, self.batch_size):\n",
    "            slice_vals = [v[i_start:builtins.min(i_start + self.batch_size, n)] for v in data_vals]\n",
    "            for (var, val) in zip(self.data_inputs, slice_vals):\n",
    "                feed_dict[var] = val\n",
    "            results = tf.get_default_session().run(self.outputs, feed_dict=feed_dict)\n",
    "            if i_start == 0:\n",
    "                sum_results = results\n",
    "            else:\n",
    "                for i in range(len(results)):\n",
    "                    sum_results[i] = sum_results[i] + results[i]\n",
    "        for i in range(len(results)):\n",
    "            sum_results[i] = sum_results[i] / n\n",
    "        return sum_results\n"
   ]
  },
  {
   "cell_type": "code",
   "execution_count": 6,
   "metadata": {},
   "outputs": [],
   "source": [
    "GAMMA = 0.99\n",
    "\n",
    "tf.reset_default_graph()\n",
    "global_step = tf.Variable(0, trainable=False)\n",
    "\n",
    "networkstate = tf.placeholder(tf.float32, [None, 84, 84, 4], name=\"input\")\n",
    "nextnetworkstate = tf.placeholder(tf.float32, [None, 84, 84, 4], name=\"inputnext\")\n",
    "networkaction = tf.placeholder(tf.int32, [None], name=\"actioninput\")\n",
    "networkreward = tf.placeholder(tf.float32, [None], name=\"actioninput\")\n",
    "done_mask_ph = tf.placeholder(tf.float32, [None], name=\"done\")\n",
    "\n",
    "\n",
    "inputimage = networkstate/255\n",
    "nextnetworkstate = nextnetworkstate/255\n",
    "# inputimage = tf.image.resize_images(inputimage, (84, 84))\n",
    "\n",
    "#tf.summary.image(\"inputimage\", inputimage)\n",
    "\n",
    "def build_network(namescope, input_for_network):\n",
    "    with tf.variable_scope(namescope):\n",
    "        layer1 = tf.layers.conv2d(inputimage, 32, [8,8], activation=tf.nn.relu, strides=(4, 4), name=\"conv1\", padding='same')\n",
    "        layer2 = tf.layers.conv2d(layer1, 64, [4,4], strides=(2,2), activation=tf.nn.relu, name=\"conv2\", padding='same')\n",
    "        layer3 = tf.layers.conv2d(layer2, 64, [3,3], activation=tf.nn.relu, name=\"conv3\", padding=\"same\")\n",
    "        flattened = tf.contrib.layers.flatten(layer3)\n",
    "\n",
    "        flat2 = tf.layers.dense(flattened, 256, activation=tf.nn.relu, name=\"dense2\")\n",
    "        predictedreward = tf.layers.dense(flat2, env.action_space.n, name=\"dense3\")\n",
    "    return predictedreward\n",
    "\n",
    "predicted_action = build_network(\"actionnetwork\", inputimage)\n",
    "#q_func_vars = scope_vars(absolute_scope_name(\"actionnetwork\"))\n",
    "q_func_vars = tf.get_collection(tf.GraphKeys.TRAINABLE_VARIABLES, \"actionnetwork\")\n",
    "assert len(q_func_vars) > 0\n",
    "\n",
    "predicted_value = build_network(\"valuenetwork\", nextnetworkstate)\n",
    "#target_q_func_vars = scope_vars(absolute_scope_name(\"valuenetwork\"))\n",
    "target_q_func_vars = tf.get_collection(tf.GraphKeys.TRAINABLE_VARIABLES, \"valuenetwork\")\n",
    "assert len(target_q_func_vars) > 0\n",
    "\n",
    "with tf.name_scope(\"lossdeterminer\"):\n",
    "    action_onehot = tf.one_hot(networkaction, env.action_space.n, name=\"actiononehot\")\n",
    "    predicted_qreward = tf.reduce_sum(tf.multiply(predicted_action, action_onehot), reduction_indices = 1)\n",
    "    ## TODO: Do I want to set estimated reward to zero if the agent was done in this frame?\n",
    "    estimated_reward = tf.reduce_max(predicted_value)\n",
    "\n",
    "    q_tp1_best_masked = (1.0 - done_mask_ph) * estimated_reward\n",
    "\n",
    "    q_t_selected_target = networkreward + GAMMA * q_tp1_best_masked\n",
    "    td_error = predicted_qreward - tf.stop_gradient(q_t_selected_target)\n",
    "    loss = huber_loss(td_error)\n",
    "\n",
    "#     loss = tf.reduce_mean(tf.square(networkreward - qreward))\n",
    "\n",
    "\n",
    "sum1 = tf.summary.scalar('loss', tf.reduce_sum(loss))\n",
    "sum2 = tf.summary.scalar('mean_max_reward', tf.reduce_max(predicted_action))\n",
    "merged_summary = tf.summary.merge([sum1, sum2]) #tf.summary.merge_all()\n",
    "\n",
    "\n",
    "#optimizer = tf.train.AdamOptimizer().minimize(loss)\n",
    "#optimizer = tf.train.RMSPropOptimizer(0.001).minimize(loss)\n",
    "learning_rate_minimum = 0.00015\n",
    "learning_rate = 0.0025\n",
    "learning_rate_decay = 0.97\n",
    "scale = 10000\n",
    "learning_rate_decay_step = 5 * scale\n",
    "\n",
    "learning_rate_step = tf.placeholder('int64', None, name='learning_rate_step')\n",
    "learning_rate_op = tf.maximum(learning_rate_minimum,tf.train.exponential_decay(\n",
    "      learning_rate,\n",
    "      global_step,\n",
    "      learning_rate_decay_step,\n",
    "      learning_rate_decay,\n",
    "      staircase=True))\n",
    "\n",
    "optimizer = tf.train.RMSPropOptimizer(learning_rate_op, momentum=0.97, epsilon=0.001).minimize(loss, global_step=global_step)\n",
    "\n",
    "\n",
    "mean_last_n_ph = tf.placeholder(tf.float32)\n",
    "max_last_n_ph = tf.placeholder(tf.float32)\n",
    "min_last_n_ph = tf.placeholder(tf.float32)\n",
    "epsilon_ph = tf.placeholder(tf.float32)\n",
    "sum3 = tf.summary.scalar(\"mean_last_n\",mean_last_n_ph )\n",
    "sum4 = tf.summary.scalar(\"max_last_n\",max_last_n_ph )\n",
    "sum5 = tf.summary.scalar(\"min_last_n\",min_last_n_ph )\n",
    "sum6 = tf.summary.scalar(\"epsilon\",epsilon_ph )\n",
    "sum7 = tf.summary.scalar(\"learning_rate\",learning_rate_op )\n",
    "merged_summary_meta = tf.summary.merge([sum3, sum4, sum5, sum6, sum7])\n",
    "\n",
    "update_target_expr = []\n",
    "for var, var_target in zip(sorted(q_func_vars, key=lambda v: v.name), sorted(target_q_func_vars, key=lambda v: v.name)):\n",
    "    update_target_expr.append(var_target.assign(var))\n",
    "update_target_expr = tf.group(*update_target_expr)\n",
    "update_target = function([], [], updates=[update_target_expr])\n",
    "\n"
   ]
  },
  {
   "cell_type": "code",
   "execution_count": 7,
   "metadata": {},
   "outputs": [
    {
     "data": {
      "text/plain": [
       "10"
      ]
     },
     "execution_count": 7,
     "metadata": {},
     "output_type": "execute_result"
    }
   ],
   "source": [
    "len(q_func_vars)"
   ]
  },
  {
   "cell_type": "code",
   "execution_count": null,
   "metadata": {
    "collapsed": true
   },
   "outputs": [],
   "source": []
  },
  {
   "cell_type": "code",
   "execution_count": 8,
   "metadata": {},
   "outputs": [],
   "source": [
    "sess = tf.InteractiveSession()\n",
    "summary_writer = tf.summary.FileWriter('graphs/dqn/atari/'+str(logging_dir_n),sess.graph)\n",
    "logging_dir_n +=1\n",
    "sess.run(tf.global_variables_initializer())"
   ]
  },
  {
   "cell_type": "code",
   "execution_count": 9,
   "metadata": {
    "collapsed": true
   },
   "outputs": [],
   "source": [
    "import cv2\n",
    "def preprocess(observation):\n",
    "    observation = cv2.cvtColor(cv2.resize(observation, (84, 110), interpolation = cv2.INTER_AREA), cv2.COLOR_BGR2GRAY)\n",
    "    observation = observation[26:110,:]\n",
    "    ret, observation = cv2.threshold(observation,1,255,cv2.THRESH_BINARY)\n",
    "    return np.reshape(observation,(84,84,1))\n",
    "\n",
    "\n"
   ]
  },
  {
   "cell_type": "code",
   "execution_count": null,
   "metadata": {
    "collapsed": true
   },
   "outputs": [],
   "source": []
  },
  {
   "cell_type": "code",
   "execution_count": 10,
   "metadata": {},
   "outputs": [
    {
     "name": "stdout",
     "output_type": "stream",
     "text": [
      "(84, 84, 1)\n"
     ]
    },
    {
     "data": {
      "image/png": "[encoded data removed]",
      "text/plain": [
       "<matplotlib.figure.Figure at 0x7f257831af28>"
      ]
     },
     "metadata": {},
     "output_type": "display_data"
    },
    {
     "name": "stdout",
     "output_type": "stream",
     "text": [
      "SETTING NETWORK PARAMETERS TO SAME10 0.9999899999999997\n",
      "Reward this episode: 2.0 epsilon: 0.9996489999999899\n",
      "Reward this episode: 4.0 epsilon: 0.9982229999999489\n",
      "SETTING NETWORK PARAMETERS TO SAME10010 0.9899899999997122\n",
      "SETTING NETWORK PARAMETERS TO SAME20010 0.9799899999994246\n",
      "Reward this episode: 5.0 epsilon: 0.9723919999992061\n",
      "Reward this episode: 8.0 epsilon: 0.9702499999991445\n",
      "SETTING NETWORK PARAMETERS TO SAME30010 0.969989999999137\n",
      "SETTING NETWORK PARAMETERS TO SAME40010 0.9599899999988495\n",
      "SETTING NETWORK PARAMETERS TO SAME50010 0.9499899999985619\n",
      "SETTING NETWORK PARAMETERS TO SAME60010 0.9399899999982744\n",
      "SETTING NETWORK PARAMETERS TO SAME70010 0.9299899999979868\n",
      "SETTING NETWORK PARAMETERS TO SAME80010 0.9199899999976993\n",
      "SETTING NETWORK PARAMETERS TO SAME90010 0.9099899999974117\n",
      "SETTING NETWORK PARAMETERS TO SAME100010 0.8999899999971241\n",
      "SETTING NETWORK PARAMETERS TO SAME110010 0.8899899999968366\n",
      "SETTING NETWORK PARAMETERS TO SAME120010 0.879989999996549\n",
      "SETTING NETWORK PARAMETERS TO SAME130010 0.8699899999962615\n",
      "SETTING NETWORK PARAMETERS TO SAME140010 0.8599899999959739\n",
      "SETTING NETWORK PARAMETERS TO SAME150010 0.8499899999956864\n",
      "SETTING NETWORK PARAMETERS TO SAME160010 0.8399899999953988\n",
      "SETTING NETWORK PARAMETERS TO SAME170010 0.8299899999951112\n",
      "SETTING NETWORK PARAMETERS TO SAME180010 0.8199899999948237\n",
      "SETTING NETWORK PARAMETERS TO SAME190010 0.8099899999945361\n",
      "SETTING NETWORK PARAMETERS TO SAME200010 0.7999899999942486\n",
      "SETTING NETWORK PARAMETERS TO SAME210010 0.789989999993961\n",
      "SETTING NETWORK PARAMETERS TO SAME220010 0.7799899999936735\n",
      "SETTING NETWORK PARAMETERS TO SAME230010 0.7699899999933859\n",
      "SETTING NETWORK PARAMETERS TO SAME240010 0.7599899999930984\n",
      "SETTING NETWORK PARAMETERS TO SAME250010 0.7499899999928108\n",
      "SETTING NETWORK PARAMETERS TO SAME260010 0.7399899999925232\n",
      "SETTING NETWORK PARAMETERS TO SAME270010 0.7299899999922357\n",
      "SETTING NETWORK PARAMETERS TO SAME280010 0.7199899999919481\n",
      "SETTING NETWORK PARAMETERS TO SAME290010 0.7099899999916606\n",
      "SETTING NETWORK PARAMETERS TO SAME300010 0.699989999991373\n",
      "SETTING NETWORK PARAMETERS TO SAME310010 0.6899899999910855\n",
      "SETTING NETWORK PARAMETERS TO SAME320010 0.6799899999907979\n",
      "SETTING NETWORK PARAMETERS TO SAME330010 0.6699899999905103\n",
      "SETTING NETWORK PARAMETERS TO SAME340010 0.6599899999902228\n",
      "SETTING NETWORK PARAMETERS TO SAME350010 0.6499899999899352\n",
      "SETTING NETWORK PARAMETERS TO SAME360010 0.6399899999896477\n",
      "SETTING NETWORK PARAMETERS TO SAME370010 0.6299899999893601\n",
      "SETTING NETWORK PARAMETERS TO SAME380010 0.6199899999890726\n",
      "SETTING NETWORK PARAMETERS TO SAME390010 0.609989999988785\n",
      "SETTING NETWORK PARAMETERS TO SAME400010 0.5999899999884974\n",
      "SETTING NETWORK PARAMETERS TO SAME410010 0.5899899999882099\n",
      "SETTING NETWORK PARAMETERS TO SAME420010 0.5799899999879223\n",
      "SETTING NETWORK PARAMETERS TO SAME430010 0.5699899999876348\n",
      "SETTING NETWORK PARAMETERS TO SAME440010 0.5599899999873472\n",
      "SETTING NETWORK PARAMETERS TO SAME450010 0.5499899999870597\n",
      "SETTING NETWORK PARAMETERS TO SAME460010 0.5399899999867721\n",
      "SETTING NETWORK PARAMETERS TO SAME470010 0.5299899999864846\n",
      "SETTING NETWORK PARAMETERS TO SAME480010 0.519989999986197\n",
      "SETTING NETWORK PARAMETERS TO SAME490010 0.5099899999859094\n",
      "SETTING NETWORK PARAMETERS TO SAME500010 0.4999899999856225\n",
      "SETTING NETWORK PARAMETERS TO SAME510010 0.48998999998589005\n",
      "SETTING NETWORK PARAMETERS TO SAME520010 0.4799899999861576\n",
      "SETTING NETWORK PARAMETERS TO SAME530010 0.46998999998642516\n",
      "SETTING NETWORK PARAMETERS TO SAME540010 0.4599899999866927\n",
      "SETTING NETWORK PARAMETERS TO SAME550010 0.44998999998696027\n",
      "SETTING NETWORK PARAMETERS TO SAME560010 0.4399899999872278\n",
      "SETTING NETWORK PARAMETERS TO SAME570010 0.4299899999874954\n",
      "SETTING NETWORK PARAMETERS TO SAME580010 0.41998999998776293\n",
      "SETTING NETWORK PARAMETERS TO SAME590010 0.4099899999880305\n",
      "SETTING NETWORK PARAMETERS TO SAME600010 0.39998999998829804\n",
      "SETTING NETWORK PARAMETERS TO SAME610010 0.3899899999885656\n",
      "SETTING NETWORK PARAMETERS TO SAME620010 0.37998999998883315\n",
      "SETTING NETWORK PARAMETERS TO SAME630010 0.3699899999891007\n",
      "SETTING NETWORK PARAMETERS TO SAME640010 0.35998999998936826\n",
      "SETTING NETWORK PARAMETERS TO SAME650010 0.3499899999896358\n",
      "SETTING NETWORK PARAMETERS TO SAME660010 0.33998999998990337\n",
      "SETTING NETWORK PARAMETERS TO SAME670010 0.3299899999901709\n",
      "SETTING NETWORK PARAMETERS TO SAME680010 0.3199899999904385\n",
      "SETTING NETWORK PARAMETERS TO SAME690010 0.30998999999070603\n",
      "SETTING NETWORK PARAMETERS TO SAME700010 0.2999899999909736\n",
      "SETTING NETWORK PARAMETERS TO SAME710010 0.28998999999124114\n",
      "SETTING NETWORK PARAMETERS TO SAME720010 0.2799899999915087\n",
      "SETTING NETWORK PARAMETERS TO SAME730010 0.26998999999177625\n",
      "SETTING NETWORK PARAMETERS TO SAME740010 0.2599899999920438\n",
      "SETTING NETWORK PARAMETERS TO SAME750010 0.24998999999231106\n",
      "SETTING NETWORK PARAMETERS TO SAME760010 0.23998999999230106\n",
      "SETTING NETWORK PARAMETERS TO SAME770010 0.22998999999229106\n",
      "SETTING NETWORK PARAMETERS TO SAME780010 0.21998999999228105\n",
      "SETTING NETWORK PARAMETERS TO SAME790010 0.20998999999227105\n",
      "SETTING NETWORK PARAMETERS TO SAME800010 0.19998999999226105\n",
      "SETTING NETWORK PARAMETERS TO SAME810010 0.18998999999225105\n",
      "SETTING NETWORK PARAMETERS TO SAME820010 0.17998999999224105\n",
      "SETTING NETWORK PARAMETERS TO SAME830010 0.16998999999223105\n",
      "SETTING NETWORK PARAMETERS TO SAME840010 0.15998999999222105\n",
      "SETTING NETWORK PARAMETERS TO SAME850010 0.14998999999221105\n",
      "SETTING NETWORK PARAMETERS TO SAME860010 0.13998999999220105\n",
      "SETTING NETWORK PARAMETERS TO SAME870010 0.12998999999219105\n",
      "SETTING NETWORK PARAMETERS TO SAME880010 0.11998999999218105\n",
      "SETTING NETWORK PARAMETERS TO SAME890010 0.10998999999217104\n",
      "Reward this episode: 12.0 epsilon: 0.1045399999921656\n",
      "SETTING NETWORK PARAMETERS TO SAME900010 0.1\n",
      "SETTING NETWORK PARAMETERS TO SAME910010 0.1\n",
      "SETTING NETWORK PARAMETERS TO SAME920010 0.1\n",
      "SETTING NETWORK PARAMETERS TO SAME930010 0.1\n",
      "SETTING NETWORK PARAMETERS TO SAME940010 0.1\n",
      "SETTING NETWORK PARAMETERS TO SAME950010 0.1\n",
      "SETTING NETWORK PARAMETERS TO SAME960010 0.1\n",
      "SETTING NETWORK PARAMETERS TO SAME970010 0.1\n",
      "SETTING NETWORK PARAMETERS TO SAME980010 0.1\n",
      "SETTING NETWORK PARAMETERS TO SAME990010 0.1\n",
      "SETTING NETWORK PARAMETERS TO SAME1000010 0.1\n",
      "SETTING NETWORK PARAMETERS TO SAME1010010 0.1\n",
      "SETTING NETWORK PARAMETERS TO SAME1020010 0.1\n",
      "SETTING NETWORK PARAMETERS TO SAME1030010 0.1\n",
      "SETTING NETWORK PARAMETERS TO SAME1040010 0.1\n",
      "SETTING NETWORK PARAMETERS TO SAME1050010 0.1\n",
      "SETTING NETWORK PARAMETERS TO SAME1060010 0.1\n",
      "SETTING NETWORK PARAMETERS TO SAME1070010 0.1\n",
      "SETTING NETWORK PARAMETERS TO SAME1080010 0.1\n",
      "SETTING NETWORK PARAMETERS TO SAME1090010 0.1\n",
      "SETTING NETWORK PARAMETERS TO SAME1100010 0.1\n",
      "SETTING NETWORK PARAMETERS TO SAME1110010 0.1\n",
      "SETTING NETWORK PARAMETERS TO SAME1120010 0.1\n",
      "SETTING NETWORK PARAMETERS TO SAME1130010 0.1\n",
      "SETTING NETWORK PARAMETERS TO SAME1140010 0.1\n",
      "SETTING NETWORK PARAMETERS TO SAME1150010 0.1\n",
      "SETTING NETWORK PARAMETERS TO SAME1160010 0.1\n",
      "SETTING NETWORK PARAMETERS TO SAME1170010 0.1\n",
      "SETTING NETWORK PARAMETERS TO SAME1180010 0.1\n",
      "SETTING NETWORK PARAMETERS TO SAME1190010 0.1\n",
      "SETTING NETWORK PARAMETERS TO SAME1200010 0.1\n",
      "SETTING NETWORK PARAMETERS TO SAME1210010 0.1\n",
      "SETTING NETWORK PARAMETERS TO SAME1220010 0.1\n",
      "SETTING NETWORK PARAMETERS TO SAME1230010 0.1\n",
      "SETTING NETWORK PARAMETERS TO SAME1240010 0.1\n",
      "SETTING NETWORK PARAMETERS TO SAME1250010 0.1\n",
      "SETTING NETWORK PARAMETERS TO SAME1260010 0.1\n",
      "SETTING NETWORK PARAMETERS TO SAME1270010 0.1\n",
      "SETTING NETWORK PARAMETERS TO SAME1280010 0.1\n",
      "SETTING NETWORK PARAMETERS TO SAME1290010 0.1\n",
      "SETTING NETWORK PARAMETERS TO SAME1300010 0.1\n",
      "SETTING NETWORK PARAMETERS TO SAME1310010 0.1\n",
      "SETTING NETWORK PARAMETERS TO SAME1320010 0.1\n",
      "SETTING NETWORK PARAMETERS TO SAME1330010 0.1\n",
      "SETTING NETWORK PARAMETERS TO SAME1340010 0.1\n",
      "SETTING NETWORK PARAMETERS TO SAME1350010 0.1\n",
      "SETTING NETWORK PARAMETERS TO SAME1360010 0.1\n",
      "SETTING NETWORK PARAMETERS TO SAME1370010 0.1\n",
      "SETTING NETWORK PARAMETERS TO SAME1380010 0.1\n",
      "SETTING NETWORK PARAMETERS TO SAME1390010 0.1\n",
      "SETTING NETWORK PARAMETERS TO SAME1400010 0.1\n",
      "SETTING NETWORK PARAMETERS TO SAME1410010 0.1\n",
      "SETTING NETWORK PARAMETERS TO SAME1420010 0.1\n",
      "SETTING NETWORK PARAMETERS TO SAME1430010 0.1\n",
      "SETTING NETWORK PARAMETERS TO SAME1440010 0.1\n"
     ]
    },
    {
     "name": "stdout",
     "output_type": "stream",
     "text": [
      "SETTING NETWORK PARAMETERS TO SAME1450010 0.1\n",
      "SETTING NETWORK PARAMETERS TO SAME1460010 0.1\n",
      "SETTING NETWORK PARAMETERS TO SAME1470010 0.1\n",
      "SETTING NETWORK PARAMETERS TO SAME1480010 0.1\n",
      "SETTING NETWORK PARAMETERS TO SAME1490010 0.1\n",
      "SETTING NETWORK PARAMETERS TO SAME1500010 0.1\n",
      "SETTING NETWORK PARAMETERS TO SAME1510010 0.1\n",
      "SETTING NETWORK PARAMETERS TO SAME1520010 0.1\n",
      "SETTING NETWORK PARAMETERS TO SAME1530010 0.1\n",
      "SETTING NETWORK PARAMETERS TO SAME1540010 0.1\n",
      "SETTING NETWORK PARAMETERS TO SAME1550010 0.1\n",
      "SETTING NETWORK PARAMETERS TO SAME1560010 0.1\n",
      "SETTING NETWORK PARAMETERS TO SAME1570010 0.1\n",
      "SETTING NETWORK PARAMETERS TO SAME1580010 0.1\n",
      "SETTING NETWORK PARAMETERS TO SAME1590010 0.1\n",
      "SETTING NETWORK PARAMETERS TO SAME1600010 0.1\n",
      "SETTING NETWORK PARAMETERS TO SAME1610010 0.1\n",
      "SETTING NETWORK PARAMETERS TO SAME1620010 0.1\n",
      "SETTING NETWORK PARAMETERS TO SAME1630010 0.1\n",
      "SETTING NETWORK PARAMETERS TO SAME1640010 0.1\n",
      "SETTING NETWORK PARAMETERS TO SAME1650010 0.1\n",
      "SETTING NETWORK PARAMETERS TO SAME1660010 0.1\n",
      "SETTING NETWORK PARAMETERS TO SAME1670010 0.1\n",
      "SETTING NETWORK PARAMETERS TO SAME1680010 0.1\n",
      "SETTING NETWORK PARAMETERS TO SAME1690010 0.1\n",
      "SETTING NETWORK PARAMETERS TO SAME1700010 0.1\n",
      "SETTING NETWORK PARAMETERS TO SAME1710010 0.1\n",
      "SETTING NETWORK PARAMETERS TO SAME1720010 0.1\n",
      "SETTING NETWORK PARAMETERS TO SAME1730010 0.1\n",
      "SETTING NETWORK PARAMETERS TO SAME1740010 0.1\n",
      "SETTING NETWORK PARAMETERS TO SAME1750010 0.1\n",
      "SETTING NETWORK PARAMETERS TO SAME1760010 0.1\n",
      "SETTING NETWORK PARAMETERS TO SAME1770010 0.1\n",
      "SETTING NETWORK PARAMETERS TO SAME1780010 0.1\n",
      "SETTING NETWORK PARAMETERS TO SAME1790010 0.1\n",
      "SETTING NETWORK PARAMETERS TO SAME1800010 0.1\n",
      "SETTING NETWORK PARAMETERS TO SAME1810010 0.1\n",
      "SETTING NETWORK PARAMETERS TO SAME1820010 0.1\n",
      "SETTING NETWORK PARAMETERS TO SAME1830010 0.1\n",
      "SETTING NETWORK PARAMETERS TO SAME1840010 0.1\n",
      "SETTING NETWORK PARAMETERS TO SAME1850010 0.1\n",
      "SETTING NETWORK PARAMETERS TO SAME1860010 0.1\n",
      "SETTING NETWORK PARAMETERS TO SAME1870010 0.1\n",
      "SETTING NETWORK PARAMETERS TO SAME1880010 0.1\n",
      "SETTING NETWORK PARAMETERS TO SAME1890010 0.1\n",
      "SETTING NETWORK PARAMETERS TO SAME1900010 0.1\n",
      "SETTING NETWORK PARAMETERS TO SAME1910010 0.1\n",
      "SETTING NETWORK PARAMETERS TO SAME1920010 0.1\n",
      "SETTING NETWORK PARAMETERS TO SAME1930010 0.1\n",
      "SETTING NETWORK PARAMETERS TO SAME1940010 0.1\n",
      "SETTING NETWORK PARAMETERS TO SAME1950010 0.1\n",
      "SETTING NETWORK PARAMETERS TO SAME1960010 0.1\n",
      "SETTING NETWORK PARAMETERS TO SAME1970010 0.1\n",
      "SETTING NETWORK PARAMETERS TO SAME1980010 0.1\n",
      "SETTING NETWORK PARAMETERS TO SAME1990010 0.1\n",
      "SETTING NETWORK PARAMETERS TO SAME2000010 0.1\n",
      "SETTING NETWORK PARAMETERS TO SAME2010010 0.1\n",
      "SETTING NETWORK PARAMETERS TO SAME2020010 0.1\n",
      "SETTING NETWORK PARAMETERS TO SAME2030010 0.1\n",
      "SETTING NETWORK PARAMETERS TO SAME2040010 0.1\n",
      "SETTING NETWORK PARAMETERS TO SAME2050010 0.1\n",
      "SETTING NETWORK PARAMETERS TO SAME2060010 0.1\n",
      "SETTING NETWORK PARAMETERS TO SAME2070010 0.1\n",
      "SETTING NETWORK PARAMETERS TO SAME2080010 0.1\n",
      "SETTING NETWORK PARAMETERS TO SAME2090010 0.1\n",
      "SETTING NETWORK PARAMETERS TO SAME2100010 0.1\n",
      "SETTING NETWORK PARAMETERS TO SAME2110010 0.1\n",
      "SETTING NETWORK PARAMETERS TO SAME2120010 0.1\n",
      "SETTING NETWORK PARAMETERS TO SAME2130010 0.1\n",
      "SETTING NETWORK PARAMETERS TO SAME2140010 0.1\n",
      "SETTING NETWORK PARAMETERS TO SAME2150010 0.1\n",
      "SETTING NETWORK PARAMETERS TO SAME2160010 0.1\n",
      "SETTING NETWORK PARAMETERS TO SAME2170010 0.1\n",
      "SETTING NETWORK PARAMETERS TO SAME2180010 0.1\n",
      "SETTING NETWORK PARAMETERS TO SAME2190010 0.1\n",
      "SETTING NETWORK PARAMETERS TO SAME2200010 0.1\n",
      "SETTING NETWORK PARAMETERS TO SAME2210010 0.1\n",
      "SETTING NETWORK PARAMETERS TO SAME2220010 0.1\n",
      "SETTING NETWORK PARAMETERS TO SAME2230010 0.1\n",
      "SETTING NETWORK PARAMETERS TO SAME2240010 0.1\n",
      "SETTING NETWORK PARAMETERS TO SAME2250010 0.1\n",
      "SETTING NETWORK PARAMETERS TO SAME2260010 0.1\n",
      "SETTING NETWORK PARAMETERS TO SAME2270010 0.1\n",
      "SETTING NETWORK PARAMETERS TO SAME2280010 0.1\n",
      "SETTING NETWORK PARAMETERS TO SAME2290010 0.1\n",
      "SETTING NETWORK PARAMETERS TO SAME2300010 0.1\n",
      "SETTING NETWORK PARAMETERS TO SAME2310010 0.1\n",
      "SETTING NETWORK PARAMETERS TO SAME2320010 0.1\n",
      "SETTING NETWORK PARAMETERS TO SAME2330010 0.1\n",
      "SETTING NETWORK PARAMETERS TO SAME2340010 0.1\n",
      "SETTING NETWORK PARAMETERS TO SAME2350010 0.1\n",
      "SETTING NETWORK PARAMETERS TO SAME2360010 0.1\n",
      "SETTING NETWORK PARAMETERS TO SAME2370010 0.1\n",
      "SETTING NETWORK PARAMETERS TO SAME2380010 0.1\n",
      "SETTING NETWORK PARAMETERS TO SAME2390010 0.1\n",
      "SETTING NETWORK PARAMETERS TO SAME2400010 0.1\n",
      "SETTING NETWORK PARAMETERS TO SAME2410010 0.1\n",
      "SETTING NETWORK PARAMETERS TO SAME2420010 0.1\n",
      "SETTING NETWORK PARAMETERS TO SAME2430010 0.1\n",
      "SETTING NETWORK PARAMETERS TO SAME2440010 0.1\n",
      "SETTING NETWORK PARAMETERS TO SAME2450010 0.1\n",
      "SETTING NETWORK PARAMETERS TO SAME2460010 0.1\n",
      "SETTING NETWORK PARAMETERS TO SAME2470010 0.1\n",
      "SETTING NETWORK PARAMETERS TO SAME2480010 0.1\n",
      "SETTING NETWORK PARAMETERS TO SAME2490010 0.1\n",
      "SETTING NETWORK PARAMETERS TO SAME2500010 0.1\n",
      "SETTING NETWORK PARAMETERS TO SAME2510010 0.1\n",
      "SETTING NETWORK PARAMETERS TO SAME2520010 0.1\n",
      "SETTING NETWORK PARAMETERS TO SAME2530010 0.1\n",
      "SETTING NETWORK PARAMETERS TO SAME2540010 0.1\n",
      "SETTING NETWORK PARAMETERS TO SAME2550010 0.1\n",
      "SETTING NETWORK PARAMETERS TO SAME2560010 0.1\n",
      "SETTING NETWORK PARAMETERS TO SAME2570010 0.1\n",
      "SETTING NETWORK PARAMETERS TO SAME2580010 0.1\n",
      "SETTING NETWORK PARAMETERS TO SAME2590010 0.1\n",
      "SETTING NETWORK PARAMETERS TO SAME2600010 0.1\n",
      "SETTING NETWORK PARAMETERS TO SAME2610010 0.1\n",
      "SETTING NETWORK PARAMETERS TO SAME2620010 0.1\n",
      "SETTING NETWORK PARAMETERS TO SAME2630010 0.1\n",
      "SETTING NETWORK PARAMETERS TO SAME2640010 0.1\n",
      "SETTING NETWORK PARAMETERS TO SAME2650010 0.1\n",
      "SETTING NETWORK PARAMETERS TO SAME2660010 0.1\n",
      "SETTING NETWORK PARAMETERS TO SAME2670010 0.1\n",
      "SETTING NETWORK PARAMETERS TO SAME2680010 0.1\n",
      "SETTING NETWORK PARAMETERS TO SAME2690010 0.1\n",
      "SETTING NETWORK PARAMETERS TO SAME2700010 0.1\n",
      "SETTING NETWORK PARAMETERS TO SAME2710010 0.1\n",
      "SETTING NETWORK PARAMETERS TO SAME2720010 0.1\n",
      "SETTING NETWORK PARAMETERS TO SAME2730010 0.1\n",
      "SETTING NETWORK PARAMETERS TO SAME2740010 0.1\n",
      "SETTING NETWORK PARAMETERS TO SAME2750010 0.1\n",
      "SETTING NETWORK PARAMETERS TO SAME2760010 0.1\n",
      "SETTING NETWORK PARAMETERS TO SAME2770010 0.1\n",
      "SETTING NETWORK PARAMETERS TO SAME2780010 0.1\n",
      "SETTING NETWORK PARAMETERS TO SAME2790010 0.1\n",
      "SETTING NETWORK PARAMETERS TO SAME2800010 0.1\n",
      "SETTING NETWORK PARAMETERS TO SAME2810010 0.1\n",
      "SETTING NETWORK PARAMETERS TO SAME2820010 0.1\n",
      "SETTING NETWORK PARAMETERS TO SAME2830010 0.1\n",
      "SETTING NETWORK PARAMETERS TO SAME2840010 0.1\n",
      "SETTING NETWORK PARAMETERS TO SAME2850010 0.1\n",
      "SETTING NETWORK PARAMETERS TO SAME2860010 0.1\n",
      "SETTING NETWORK PARAMETERS TO SAME2870010 0.1\n",
      "SETTING NETWORK PARAMETERS TO SAME2880010 0.1\n",
      "SETTING NETWORK PARAMETERS TO SAME2890010 0.1\n",
      "SETTING NETWORK PARAMETERS TO SAME2900010 0.1\n",
      "SETTING NETWORK PARAMETERS TO SAME2910010 0.1\n",
      "SETTING NETWORK PARAMETERS TO SAME2920010 0.1\n",
      "SETTING NETWORK PARAMETERS TO SAME2930010 0.1\n",
      "SETTING NETWORK PARAMETERS TO SAME2940010 0.1\n",
      "SETTING NETWORK PARAMETERS TO SAME2950010 0.1\n",
      "SETTING NETWORK PARAMETERS TO SAME2960010 0.1\n",
      "SETTING NETWORK PARAMETERS TO SAME2970010 0.1\n",
      "SETTING NETWORK PARAMETERS TO SAME2980010 0.1\n",
      "SETTING NETWORK PARAMETERS TO SAME2990010 0.1\n",
      "SETTING NETWORK PARAMETERS TO SAME3000010 0.1\n",
      "SETTING NETWORK PARAMETERS TO SAME3010010 0.1\n",
      "SETTING NETWORK PARAMETERS TO SAME3020010 0.1\n",
      "SETTING NETWORK PARAMETERS TO SAME3030010 0.1\n",
      "SETTING NETWORK PARAMETERS TO SAME3040010 0.1\n",
      "SETTING NETWORK PARAMETERS TO SAME3050010 0.1\n",
      "SETTING NETWORK PARAMETERS TO SAME3060010 0.1\n",
      "SETTING NETWORK PARAMETERS TO SAME3070010 0.1\n",
      "SETTING NETWORK PARAMETERS TO SAME3080010 0.1\n",
      "SETTING NETWORK PARAMETERS TO SAME3090010 0.1\n",
      "SETTING NETWORK PARAMETERS TO SAME3100010 0.1\n",
      "SETTING NETWORK PARAMETERS TO SAME3110010 0.1\n",
      "SETTING NETWORK PARAMETERS TO SAME3120010 0.1\n",
      "SETTING NETWORK PARAMETERS TO SAME3130010 0.1\n",
      "SETTING NETWORK PARAMETERS TO SAME3140010 0.1\n",
      "SETTING NETWORK PARAMETERS TO SAME3150010 0.1\n",
      "SETTING NETWORK PARAMETERS TO SAME3160010 0.1\n",
      "SETTING NETWORK PARAMETERS TO SAME3170010 0.1\n",
      "SETTING NETWORK PARAMETERS TO SAME3180010 0.1\n",
      "SETTING NETWORK PARAMETERS TO SAME3190010 0.1\n",
      "SETTING NETWORK PARAMETERS TO SAME3200010 0.1\n",
      "SETTING NETWORK PARAMETERS TO SAME3210010 0.1\n",
      "SETTING NETWORK PARAMETERS TO SAME3220010 0.1\n",
      "SETTING NETWORK PARAMETERS TO SAME3230010 0.1\n"
     ]
    },
    {
     "name": "stdout",
     "output_type": "stream",
     "text": [
      "SETTING NETWORK PARAMETERS TO SAME3240010 0.1\n",
      "SETTING NETWORK PARAMETERS TO SAME3250010 0.1\n",
      "SETTING NETWORK PARAMETERS TO SAME3260010 0.1\n",
      "SETTING NETWORK PARAMETERS TO SAME3270010 0.1\n",
      "SETTING NETWORK PARAMETERS TO SAME3280010 0.1\n",
      "SETTING NETWORK PARAMETERS TO SAME3290010 0.1\n",
      "SETTING NETWORK PARAMETERS TO SAME3300010 0.1\n",
      "SETTING NETWORK PARAMETERS TO SAME3310010 0.1\n",
      "SETTING NETWORK PARAMETERS TO SAME3320010 0.1\n",
      "SETTING NETWORK PARAMETERS TO SAME3330010 0.1\n",
      "SETTING NETWORK PARAMETERS TO SAME3340010 0.1\n",
      "SETTING NETWORK PARAMETERS TO SAME3350010 0.1\n",
      "SETTING NETWORK PARAMETERS TO SAME3360010 0.1\n",
      "SETTING NETWORK PARAMETERS TO SAME3370010 0.1\n",
      "SETTING NETWORK PARAMETERS TO SAME3380010 0.1\n",
      "SETTING NETWORK PARAMETERS TO SAME3390010 0.1\n",
      "SETTING NETWORK PARAMETERS TO SAME3400010 0.1\n",
      "SETTING NETWORK PARAMETERS TO SAME3410010 0.1\n",
      "SETTING NETWORK PARAMETERS TO SAME3420010 0.1\n",
      "SETTING NETWORK PARAMETERS TO SAME3430010 0.1\n",
      "SETTING NETWORK PARAMETERS TO SAME3440010 0.1\n",
      "SETTING NETWORK PARAMETERS TO SAME3450010 0.1\n",
      "SETTING NETWORK PARAMETERS TO SAME3460010 0.1\n",
      "SETTING NETWORK PARAMETERS TO SAME3470010 0.1\n",
      "SETTING NETWORK PARAMETERS TO SAME3480010 0.1\n",
      "SETTING NETWORK PARAMETERS TO SAME3490010 0.1\n",
      "SETTING NETWORK PARAMETERS TO SAME3500010 0.1\n",
      "SETTING NETWORK PARAMETERS TO SAME3510010 0.1\n",
      "SETTING NETWORK PARAMETERS TO SAME3520010 0.1\n",
      "SETTING NETWORK PARAMETERS TO SAME3530010 0.1\n",
      "SETTING NETWORK PARAMETERS TO SAME3540010 0.1\n",
      "SETTING NETWORK PARAMETERS TO SAME3550010 0.1\n",
      "SETTING NETWORK PARAMETERS TO SAME3560010 0.1\n",
      "SETTING NETWORK PARAMETERS TO SAME3570010 0.1\n",
      "SETTING NETWORK PARAMETERS TO SAME3580010 0.1\n",
      "SETTING NETWORK PARAMETERS TO SAME3590010 0.1\n",
      "SETTING NETWORK PARAMETERS TO SAME3600010 0.1\n",
      "SETTING NETWORK PARAMETERS TO SAME3610010 0.1\n",
      "SETTING NETWORK PARAMETERS TO SAME3620010 0.1\n",
      "SETTING NETWORK PARAMETERS TO SAME3630010 0.1\n",
      "SETTING NETWORK PARAMETERS TO SAME3640010 0.1\n",
      "SETTING NETWORK PARAMETERS TO SAME3650010 0.1\n",
      "SETTING NETWORK PARAMETERS TO SAME3660010 0.1\n",
      "SETTING NETWORK PARAMETERS TO SAME3670010 0.1\n",
      "SETTING NETWORK PARAMETERS TO SAME3680010 0.1\n",
      "SETTING NETWORK PARAMETERS TO SAME3690010 0.1\n",
      "SETTING NETWORK PARAMETERS TO SAME3700010 0.1\n",
      "SETTING NETWORK PARAMETERS TO SAME3710010 0.1\n",
      "SETTING NETWORK PARAMETERS TO SAME3720010 0.1\n",
      "SETTING NETWORK PARAMETERS TO SAME3730010 0.1\n",
      "SETTING NETWORK PARAMETERS TO SAME3740010 0.1\n",
      "SETTING NETWORK PARAMETERS TO SAME3750010 0.1\n",
      "SETTING NETWORK PARAMETERS TO SAME3760010 0.1\n",
      "SETTING NETWORK PARAMETERS TO SAME3770010 0.1\n",
      "SETTING NETWORK PARAMETERS TO SAME3780010 0.1\n",
      "SETTING NETWORK PARAMETERS TO SAME3790010 0.1\n",
      "SETTING NETWORK PARAMETERS TO SAME3800010 0.1\n",
      "SETTING NETWORK PARAMETERS TO SAME3810010 0.1\n",
      "SETTING NETWORK PARAMETERS TO SAME3820010 0.1\n",
      "SETTING NETWORK PARAMETERS TO SAME3830010 0.1\n",
      "SETTING NETWORK PARAMETERS TO SAME3840010 0.1\n",
      "SETTING NETWORK PARAMETERS TO SAME3850010 0.1\n",
      "SETTING NETWORK PARAMETERS TO SAME3860010 0.1\n",
      "SETTING NETWORK PARAMETERS TO SAME3870010 0.1\n",
      "SETTING NETWORK PARAMETERS TO SAME3880010 0.1\n",
      "SETTING NETWORK PARAMETERS TO SAME3890010 0.1\n",
      "SETTING NETWORK PARAMETERS TO SAME3900010 0.1\n",
      "SETTING NETWORK PARAMETERS TO SAME3910010 0.1\n",
      "SETTING NETWORK PARAMETERS TO SAME3920010 0.1\n",
      "SETTING NETWORK PARAMETERS TO SAME3930010 0.1\n",
      "SETTING NETWORK PARAMETERS TO SAME3940010 0.1\n",
      "SETTING NETWORK PARAMETERS TO SAME3950010 0.1\n",
      "SETTING NETWORK PARAMETERS TO SAME3960010 0.1\n",
      "SETTING NETWORK PARAMETERS TO SAME3970010 0.1\n",
      "SETTING NETWORK PARAMETERS TO SAME3980010 0.1\n",
      "SETTING NETWORK PARAMETERS TO SAME3990010 0.1\n",
      "SETTING NETWORK PARAMETERS TO SAME4000010 0.1\n",
      "SETTING NETWORK PARAMETERS TO SAME4010010 0.1\n",
      "SETTING NETWORK PARAMETERS TO SAME4020010 0.1\n",
      "SETTING NETWORK PARAMETERS TO SAME4030010 0.1\n",
      "SETTING NETWORK PARAMETERS TO SAME4040010 0.1\n",
      "SETTING NETWORK PARAMETERS TO SAME4050010 0.1\n",
      "SETTING NETWORK PARAMETERS TO SAME4060010 0.1\n",
      "SETTING NETWORK PARAMETERS TO SAME4070010 0.1\n",
      "SETTING NETWORK PARAMETERS TO SAME4080010 0.1\n",
      "SETTING NETWORK PARAMETERS TO SAME4090010 0.1\n",
      "SETTING NETWORK PARAMETERS TO SAME4100010 0.1\n",
      "SETTING NETWORK PARAMETERS TO SAME4110010 0.1\n",
      "SETTING NETWORK PARAMETERS TO SAME4120010 0.1\n",
      "SETTING NETWORK PARAMETERS TO SAME4130010 0.1\n",
      "SETTING NETWORK PARAMETERS TO SAME4140010 0.1\n",
      "SETTING NETWORK PARAMETERS TO SAME4150010 0.1\n",
      "SETTING NETWORK PARAMETERS TO SAME4160010 0.1\n",
      "SETTING NETWORK PARAMETERS TO SAME4170010 0.1\n",
      "SETTING NETWORK PARAMETERS TO SAME4180010 0.1\n",
      "SETTING NETWORK PARAMETERS TO SAME4190010 0.1\n",
      "SETTING NETWORK PARAMETERS TO SAME4200010 0.1\n",
      "SETTING NETWORK PARAMETERS TO SAME4210010 0.1\n",
      "SETTING NETWORK PARAMETERS TO SAME4220010 0.1\n",
      "SETTING NETWORK PARAMETERS TO SAME4230010 0.1\n",
      "SETTING NETWORK PARAMETERS TO SAME4240010 0.1\n",
      "SETTING NETWORK PARAMETERS TO SAME4250010 0.1\n",
      "SETTING NETWORK PARAMETERS TO SAME4260010 0.1\n",
      "SETTING NETWORK PARAMETERS TO SAME4270010 0.1\n",
      "SETTING NETWORK PARAMETERS TO SAME4280010 0.1\n",
      "SETTING NETWORK PARAMETERS TO SAME4290010 0.1\n",
      "SETTING NETWORK PARAMETERS TO SAME4300010 0.1\n",
      "SETTING NETWORK PARAMETERS TO SAME4310010 0.1\n",
      "SETTING NETWORK PARAMETERS TO SAME4320010 0.1\n",
      "SETTING NETWORK PARAMETERS TO SAME4330010 0.1\n",
      "SETTING NETWORK PARAMETERS TO SAME4340010 0.1\n",
      "SETTING NETWORK PARAMETERS TO SAME4350010 0.1\n",
      "SETTING NETWORK PARAMETERS TO SAME4360010 0.1\n",
      "SETTING NETWORK PARAMETERS TO SAME4370010 0.1\n",
      "SETTING NETWORK PARAMETERS TO SAME4380010 0.1\n",
      "SETTING NETWORK PARAMETERS TO SAME4390010 0.1\n",
      "SETTING NETWORK PARAMETERS TO SAME4400010 0.1\n",
      "SETTING NETWORK PARAMETERS TO SAME4410010 0.1\n",
      "SETTING NETWORK PARAMETERS TO SAME4420010 0.1\n",
      "SETTING NETWORK PARAMETERS TO SAME4430010 0.1\n",
      "SETTING NETWORK PARAMETERS TO SAME4440010 0.1\n",
      "SETTING NETWORK PARAMETERS TO SAME4450010 0.1\n",
      "SETTING NETWORK PARAMETERS TO SAME4460010 0.1\n",
      "SETTING NETWORK PARAMETERS TO SAME4470010 0.1\n",
      "SETTING NETWORK PARAMETERS TO SAME4480010 0.1\n",
      "SETTING NETWORK PARAMETERS TO SAME4490010 0.1\n",
      "SETTING NETWORK PARAMETERS TO SAME4500010 0.1\n",
      "SETTING NETWORK PARAMETERS TO SAME4510010 0.1\n",
      "SETTING NETWORK PARAMETERS TO SAME4520010 0.1\n",
      "SETTING NETWORK PARAMETERS TO SAME4530010 0.1\n",
      "SETTING NETWORK PARAMETERS TO SAME4540010 0.1\n",
      "SETTING NETWORK PARAMETERS TO SAME4550010 0.1\n",
      "SETTING NETWORK PARAMETERS TO SAME4560010 0.1\n",
      "SETTING NETWORK PARAMETERS TO SAME4570010 0.1\n",
      "SETTING NETWORK PARAMETERS TO SAME4580010 0.1\n",
      "SETTING NETWORK PARAMETERS TO SAME4590010 0.1\n",
      "SETTING NETWORK PARAMETERS TO SAME4600010 0.1\n",
      "SETTING NETWORK PARAMETERS TO SAME4610010 0.1\n",
      "SETTING NETWORK PARAMETERS TO SAME4620010 0.1\n",
      "SETTING NETWORK PARAMETERS TO SAME4630010 0.1\n",
      "SETTING NETWORK PARAMETERS TO SAME4640010 0.1\n",
      "SETTING NETWORK PARAMETERS TO SAME4650010 0.1\n",
      "SETTING NETWORK PARAMETERS TO SAME4660010 0.1\n",
      "SETTING NETWORK PARAMETERS TO SAME4670010 0.1\n",
      "SETTING NETWORK PARAMETERS TO SAME4680010 0.1\n",
      "SETTING NETWORK PARAMETERS TO SAME4690010 0.1\n",
      "SETTING NETWORK PARAMETERS TO SAME4700010 0.1\n",
      "SETTING NETWORK PARAMETERS TO SAME4710010 0.1\n",
      "SETTING NETWORK PARAMETERS TO SAME4720010 0.1\n",
      "SETTING NETWORK PARAMETERS TO SAME4730010 0.1\n",
      "SETTING NETWORK PARAMETERS TO SAME4740010 0.1\n",
      "SETTING NETWORK PARAMETERS TO SAME4750010 0.1\n",
      "SETTING NETWORK PARAMETERS TO SAME4760010 0.1\n",
      "SETTING NETWORK PARAMETERS TO SAME4770010 0.1\n",
      "SETTING NETWORK PARAMETERS TO SAME4780010 0.1\n",
      "SETTING NETWORK PARAMETERS TO SAME4790010 0.1\n",
      "SETTING NETWORK PARAMETERS TO SAME4800010 0.1\n",
      "SETTING NETWORK PARAMETERS TO SAME4810010 0.1\n",
      "SETTING NETWORK PARAMETERS TO SAME4820010 0.1\n",
      "SETTING NETWORK PARAMETERS TO SAME4830010 0.1\n",
      "SETTING NETWORK PARAMETERS TO SAME4840010 0.1\n",
      "SETTING NETWORK PARAMETERS TO SAME4850010 0.1\n",
      "SETTING NETWORK PARAMETERS TO SAME4860010 0.1\n",
      "SETTING NETWORK PARAMETERS TO SAME4870010 0.1\n",
      "SETTING NETWORK PARAMETERS TO SAME4880010 0.1\n",
      "SETTING NETWORK PARAMETERS TO SAME4890010 0.1\n",
      "SETTING NETWORK PARAMETERS TO SAME4900010 0.1\n",
      "SETTING NETWORK PARAMETERS TO SAME4910010 0.1\n",
      "SETTING NETWORK PARAMETERS TO SAME4920010 0.1\n",
      "SETTING NETWORK PARAMETERS TO SAME4930010 0.1\n",
      "SETTING NETWORK PARAMETERS TO SAME4940010 0.1\n",
      "SETTING NETWORK PARAMETERS TO SAME4950010 0.1\n",
      "SETTING NETWORK PARAMETERS TO SAME4960010 0.1\n",
      "SETTING NETWORK PARAMETERS TO SAME4970010 0.1\n",
      "SETTING NETWORK PARAMETERS TO SAME4980010 0.1\n",
      "SETTING NETWORK PARAMETERS TO SAME4990010 0.1\n",
      "SETTING NETWORK PARAMETERS TO SAME5000010 0.1\n",
      "SETTING NETWORK PARAMETERS TO SAME5010010 0.1\n",
      "SETTING NETWORK PARAMETERS TO SAME5020010 0.1\n"
     ]
    },
    {
     "name": "stdout",
     "output_type": "stream",
     "text": [
      "SETTING NETWORK PARAMETERS TO SAME5030010 0.1\n",
      "SETTING NETWORK PARAMETERS TO SAME5040010 0.1\n",
      "SETTING NETWORK PARAMETERS TO SAME5050010 0.1\n",
      "SETTING NETWORK PARAMETERS TO SAME5060010 0.1\n",
      "SETTING NETWORK PARAMETERS TO SAME5070010 0.1\n",
      "SETTING NETWORK PARAMETERS TO SAME5080010 0.1\n",
      "SETTING NETWORK PARAMETERS TO SAME5090010 0.1\n",
      "SETTING NETWORK PARAMETERS TO SAME5100010 0.1\n",
      "SETTING NETWORK PARAMETERS TO SAME5110010 0.1\n",
      "SETTING NETWORK PARAMETERS TO SAME5120010 0.1\n",
      "Reward this episode: 13.0 epsilon: 0.1\n",
      "SETTING NETWORK PARAMETERS TO SAME5130010 0.1\n",
      "SETTING NETWORK PARAMETERS TO SAME5140010 0.1\n",
      "SETTING NETWORK PARAMETERS TO SAME5150010 0.1\n",
      "SETTING NETWORK PARAMETERS TO SAME5160010 0.1\n",
      "SETTING NETWORK PARAMETERS TO SAME5170010 0.1\n",
      "SETTING NETWORK PARAMETERS TO SAME5180010 0.1\n",
      "SETTING NETWORK PARAMETERS TO SAME5190010 0.1\n",
      "SETTING NETWORK PARAMETERS TO SAME5200010 0.1\n",
      "SETTING NETWORK PARAMETERS TO SAME5210010 0.1\n",
      "SETTING NETWORK PARAMETERS TO SAME5220010 0.1\n",
      "SETTING NETWORK PARAMETERS TO SAME5230010 0.1\n",
      "SETTING NETWORK PARAMETERS TO SAME5240010 0.1\n",
      "SETTING NETWORK PARAMETERS TO SAME5250010 0.1\n",
      "Reward this episode: 14.0 epsilon: 0.1\n",
      "SETTING NETWORK PARAMETERS TO SAME5260010 0.1\n",
      "SETTING NETWORK PARAMETERS TO SAME5270010 0.1\n",
      "SETTING NETWORK PARAMETERS TO SAME5280010 0.1\n",
      "SETTING NETWORK PARAMETERS TO SAME5290010 0.1\n",
      "SETTING NETWORK PARAMETERS TO SAME5300010 0.1\n",
      "SETTING NETWORK PARAMETERS TO SAME5310010 0.1\n",
      "SETTING NETWORK PARAMETERS TO SAME5320010 0.1\n",
      "SETTING NETWORK PARAMETERS TO SAME5330010 0.1\n",
      "SETTING NETWORK PARAMETERS TO SAME5340010 0.1\n",
      "SETTING NETWORK PARAMETERS TO SAME5350010 0.1\n",
      "SETTING NETWORK PARAMETERS TO SAME5360010 0.1\n",
      "SETTING NETWORK PARAMETERS TO SAME5370010 0.1\n",
      "SETTING NETWORK PARAMETERS TO SAME5380010 0.1\n",
      "SETTING NETWORK PARAMETERS TO SAME5390010 0.1\n",
      "SETTING NETWORK PARAMETERS TO SAME5400010 0.1\n",
      "SETTING NETWORK PARAMETERS TO SAME5410010 0.1\n",
      "SETTING NETWORK PARAMETERS TO SAME5420010 0.1\n",
      "SETTING NETWORK PARAMETERS TO SAME5430010 0.1\n",
      "SETTING NETWORK PARAMETERS TO SAME5440010 0.1\n",
      "SETTING NETWORK PARAMETERS TO SAME5450010 0.1\n",
      "SETTING NETWORK PARAMETERS TO SAME5460010 0.1\n",
      "SETTING NETWORK PARAMETERS TO SAME5470010 0.1\n",
      "SETTING NETWORK PARAMETERS TO SAME5480010 0.1\n",
      "SETTING NETWORK PARAMETERS TO SAME5490010 0.1\n",
      "SETTING NETWORK PARAMETERS TO SAME5500010 0.1\n",
      "SETTING NETWORK PARAMETERS TO SAME5510010 0.1\n",
      "SETTING NETWORK PARAMETERS TO SAME5520010 0.1\n",
      "SETTING NETWORK PARAMETERS TO SAME5530010 0.1\n",
      "SETTING NETWORK PARAMETERS TO SAME5540010 0.1\n",
      "SETTING NETWORK PARAMETERS TO SAME5550010 0.1\n",
      "SETTING NETWORK PARAMETERS TO SAME5560010 0.1\n",
      "SETTING NETWORK PARAMETERS TO SAME5570010 0.1\n",
      "SETTING NETWORK PARAMETERS TO SAME5580010 0.1\n",
      "SETTING NETWORK PARAMETERS TO SAME5590010 0.1\n",
      "SETTING NETWORK PARAMETERS TO SAME5600010 0.1\n",
      "SETTING NETWORK PARAMETERS TO SAME5610010 0.1\n",
      "SETTING NETWORK PARAMETERS TO SAME5620010 0.1\n",
      "SETTING NETWORK PARAMETERS TO SAME5630010 0.1\n",
      "SETTING NETWORK PARAMETERS TO SAME5640010 0.1\n",
      "SETTING NETWORK PARAMETERS TO SAME5650010 0.1\n",
      "SETTING NETWORK PARAMETERS TO SAME5660010 0.1\n",
      "SETTING NETWORK PARAMETERS TO SAME5670010 0.1\n",
      "SETTING NETWORK PARAMETERS TO SAME5680010 0.1\n",
      "SETTING NETWORK PARAMETERS TO SAME5690010 0.1\n",
      "SETTING NETWORK PARAMETERS TO SAME5700010 0.1\n",
      "SETTING NETWORK PARAMETERS TO SAME5710010 0.1\n",
      "SETTING NETWORK PARAMETERS TO SAME5720010 0.1\n",
      "SETTING NETWORK PARAMETERS TO SAME5730010 0.1\n",
      "SETTING NETWORK PARAMETERS TO SAME5740010 0.1\n",
      "SETTING NETWORK PARAMETERS TO SAME5750010 0.1\n",
      "SETTING NETWORK PARAMETERS TO SAME5760010 0.1\n",
      "SETTING NETWORK PARAMETERS TO SAME5770010 0.1\n",
      "SETTING NETWORK PARAMETERS TO SAME5780010 0.1\n",
      "SETTING NETWORK PARAMETERS TO SAME5790010 0.1\n",
      "SETTING NETWORK PARAMETERS TO SAME5800010 0.1\n",
      "SETTING NETWORK PARAMETERS TO SAME5810010 0.1\n",
      "SETTING NETWORK PARAMETERS TO SAME5820010 0.1\n",
      "SETTING NETWORK PARAMETERS TO SAME5830010 0.1\n",
      "SETTING NETWORK PARAMETERS TO SAME5840010 0.1\n",
      "SETTING NETWORK PARAMETERS TO SAME5850010 0.1\n",
      "SETTING NETWORK PARAMETERS TO SAME5860010 0.1\n",
      "SETTING NETWORK PARAMETERS TO SAME5870010 0.1\n",
      "SETTING NETWORK PARAMETERS TO SAME5880010 0.1\n",
      "SETTING NETWORK PARAMETERS TO SAME5890010 0.1\n",
      "SETTING NETWORK PARAMETERS TO SAME5900010 0.1\n",
      "SETTING NETWORK PARAMETERS TO SAME5910010 0.1\n",
      "SETTING NETWORK PARAMETERS TO SAME5920010 0.1\n",
      "SETTING NETWORK PARAMETERS TO SAME5930010 0.1\n",
      "SETTING NETWORK PARAMETERS TO SAME5940010 0.1\n",
      "SETTING NETWORK PARAMETERS TO SAME5950010 0.1\n",
      "SETTING NETWORK PARAMETERS TO SAME5960010 0.1\n",
      "SETTING NETWORK PARAMETERS TO SAME5970010 0.1\n",
      "SETTING NETWORK PARAMETERS TO SAME5980010 0.1\n",
      "SETTING NETWORK PARAMETERS TO SAME5990010 0.1\n",
      "SETTING NETWORK PARAMETERS TO SAME6000010 0.1\n",
      "SETTING NETWORK PARAMETERS TO SAME6010010 0.1\n",
      "SETTING NETWORK PARAMETERS TO SAME6020010 0.1\n",
      "SETTING NETWORK PARAMETERS TO SAME6030010 0.1\n",
      "SETTING NETWORK PARAMETERS TO SAME6040010 0.1\n",
      "SETTING NETWORK PARAMETERS TO SAME6050010 0.1\n",
      "SETTING NETWORK PARAMETERS TO SAME6060010 0.1\n",
      "SETTING NETWORK PARAMETERS TO SAME6070010 0.1\n",
      "SETTING NETWORK PARAMETERS TO SAME6080010 0.1\n",
      "SETTING NETWORK PARAMETERS TO SAME6090010 0.1\n",
      "SETTING NETWORK PARAMETERS TO SAME6100010 0.1\n",
      "SETTING NETWORK PARAMETERS TO SAME6110010 0.1\n",
      "SETTING NETWORK PARAMETERS TO SAME6120010 0.1\n",
      "SETTING NETWORK PARAMETERS TO SAME6130010 0.1\n",
      "SETTING NETWORK PARAMETERS TO SAME6140010 0.1\n",
      "SETTING NETWORK PARAMETERS TO SAME6150010 0.1\n",
      "SETTING NETWORK PARAMETERS TO SAME6160010 0.1\n",
      "SETTING NETWORK PARAMETERS TO SAME6170010 0.1\n",
      "SETTING NETWORK PARAMETERS TO SAME6180010 0.1\n",
      "SETTING NETWORK PARAMETERS TO SAME6190010 0.1\n",
      "SETTING NETWORK PARAMETERS TO SAME6200010 0.1\n",
      "SETTING NETWORK PARAMETERS TO SAME6210010 0.1\n",
      "SETTING NETWORK PARAMETERS TO SAME6220010 0.1\n",
      "SETTING NETWORK PARAMETERS TO SAME6230010 0.1\n",
      "SETTING NETWORK PARAMETERS TO SAME6240010 0.1\n",
      "SETTING NETWORK PARAMETERS TO SAME6250010 0.1\n",
      "SETTING NETWORK PARAMETERS TO SAME6260010 0.1\n",
      "SETTING NETWORK PARAMETERS TO SAME6270010 0.1\n",
      "SETTING NETWORK PARAMETERS TO SAME6280010 0.1\n",
      "SETTING NETWORK PARAMETERS TO SAME6290010 0.1\n",
      "SETTING NETWORK PARAMETERS TO SAME6300010 0.1\n",
      "SETTING NETWORK PARAMETERS TO SAME6310010 0.1\n",
      "SETTING NETWORK PARAMETERS TO SAME6320010 0.1\n",
      "SETTING NETWORK PARAMETERS TO SAME6330010 0.1\n",
      "SETTING NETWORK PARAMETERS TO SAME6340010 0.1\n",
      "SETTING NETWORK PARAMETERS TO SAME6350010 0.1\n",
      "SETTING NETWORK PARAMETERS TO SAME6360010 0.1\n",
      "SETTING NETWORK PARAMETERS TO SAME6370010 0.1\n",
      "SETTING NETWORK PARAMETERS TO SAME6380010 0.1\n",
      "SETTING NETWORK PARAMETERS TO SAME6390010 0.1\n",
      "SETTING NETWORK PARAMETERS TO SAME6400010 0.1\n",
      "SETTING NETWORK PARAMETERS TO SAME6410010 0.1\n",
      "SETTING NETWORK PARAMETERS TO SAME6420010 0.1\n",
      "SETTING NETWORK PARAMETERS TO SAME6430010 0.1\n",
      "SETTING NETWORK PARAMETERS TO SAME6440010 0.1\n",
      "SETTING NETWORK PARAMETERS TO SAME6450010 0.1\n",
      "SETTING NETWORK PARAMETERS TO SAME6460010 0.1\n",
      "SETTING NETWORK PARAMETERS TO SAME6470010 0.1\n",
      "SETTING NETWORK PARAMETERS TO SAME6480010 0.1\n",
      "SETTING NETWORK PARAMETERS TO SAME6490010 0.1\n",
      "SETTING NETWORK PARAMETERS TO SAME6500010 0.1\n",
      "SETTING NETWORK PARAMETERS TO SAME6510010 0.1\n",
      "SETTING NETWORK PARAMETERS TO SAME6520010 0.1\n",
      "SETTING NETWORK PARAMETERS TO SAME6530010 0.1\n",
      "SETTING NETWORK PARAMETERS TO SAME6540010 0.1\n",
      "SETTING NETWORK PARAMETERS TO SAME6550010 0.1\n",
      "SETTING NETWORK PARAMETERS TO SAME6560010 0.1\n",
      "SETTING NETWORK PARAMETERS TO SAME6570010 0.1\n",
      "SETTING NETWORK PARAMETERS TO SAME6580010 0.1\n",
      "SETTING NETWORK PARAMETERS TO SAME6590010 0.1\n",
      "SETTING NETWORK PARAMETERS TO SAME6600010 0.1\n",
      "SETTING NETWORK PARAMETERS TO SAME6610010 0.1\n",
      "SETTING NETWORK PARAMETERS TO SAME6620010 0.1\n",
      "SETTING NETWORK PARAMETERS TO SAME6630010 0.1\n",
      "SETTING NETWORK PARAMETERS TO SAME6640010 0.1\n",
      "SETTING NETWORK PARAMETERS TO SAME6650010 0.1\n",
      "SETTING NETWORK PARAMETERS TO SAME6660010 0.1\n",
      "SETTING NETWORK PARAMETERS TO SAME6670010 0.1\n",
      "SETTING NETWORK PARAMETERS TO SAME6680010 0.1\n",
      "SETTING NETWORK PARAMETERS TO SAME6690010 0.1\n",
      "SETTING NETWORK PARAMETERS TO SAME6700010 0.1\n",
      "SETTING NETWORK PARAMETERS TO SAME6710010 0.1\n",
      "SETTING NETWORK PARAMETERS TO SAME6720010 0.1\n",
      "SETTING NETWORK PARAMETERS TO SAME6730010 0.1\n",
      "SETTING NETWORK PARAMETERS TO SAME6740010 0.1\n",
      "SETTING NETWORK PARAMETERS TO SAME6750010 0.1\n",
      "SETTING NETWORK PARAMETERS TO SAME6760010 0.1\n",
      "SETTING NETWORK PARAMETERS TO SAME6770010 0.1\n",
      "SETTING NETWORK PARAMETERS TO SAME6780010 0.1\n",
      "SETTING NETWORK PARAMETERS TO SAME6790010 0.1\n"
     ]
    },
    {
     "name": "stdout",
     "output_type": "stream",
     "text": [
      "SETTING NETWORK PARAMETERS TO SAME6800010 0.1\n",
      "SETTING NETWORK PARAMETERS TO SAME6810010 0.1\n",
      "SETTING NETWORK PARAMETERS TO SAME6820010 0.1\n",
      "SETTING NETWORK PARAMETERS TO SAME6830010 0.1\n",
      "SETTING NETWORK PARAMETERS TO SAME6840010 0.1\n",
      "SETTING NETWORK PARAMETERS TO SAME6850010 0.1\n",
      "SETTING NETWORK PARAMETERS TO SAME6860010 0.1\n",
      "SETTING NETWORK PARAMETERS TO SAME6870010 0.1\n",
      "SETTING NETWORK PARAMETERS TO SAME6880010 0.1\n",
      "SETTING NETWORK PARAMETERS TO SAME6890010 0.1\n",
      "SETTING NETWORK PARAMETERS TO SAME6900010 0.1\n",
      "SETTING NETWORK PARAMETERS TO SAME6910010 0.1\n",
      "SETTING NETWORK PARAMETERS TO SAME6920010 0.1\n",
      "SETTING NETWORK PARAMETERS TO SAME6930010 0.1\n",
      "SETTING NETWORK PARAMETERS TO SAME6940010 0.1\n",
      "SETTING NETWORK PARAMETERS TO SAME6950010 0.1\n",
      "SETTING NETWORK PARAMETERS TO SAME6960010 0.1\n",
      "SETTING NETWORK PARAMETERS TO SAME6970010 0.1\n",
      "SETTING NETWORK PARAMETERS TO SAME6980010 0.1\n",
      "SETTING NETWORK PARAMETERS TO SAME6990010 0.1\n",
      "SETTING NETWORK PARAMETERS TO SAME7000010 0.1\n",
      "SETTING NETWORK PARAMETERS TO SAME7010010 0.1\n",
      "SETTING NETWORK PARAMETERS TO SAME7020010 0.1\n",
      "SETTING NETWORK PARAMETERS TO SAME7030010 0.1\n",
      "SETTING NETWORK PARAMETERS TO SAME7040010 0.1\n",
      "SETTING NETWORK PARAMETERS TO SAME7050010 0.1\n",
      "SETTING NETWORK PARAMETERS TO SAME7060010 0.1\n",
      "SETTING NETWORK PARAMETERS TO SAME7070010 0.1\n",
      "SETTING NETWORK PARAMETERS TO SAME7080010 0.1\n",
      "SETTING NETWORK PARAMETERS TO SAME7090010 0.1\n",
      "SETTING NETWORK PARAMETERS TO SAME7100010 0.1\n",
      "SETTING NETWORK PARAMETERS TO SAME7110010 0.1\n",
      "SETTING NETWORK PARAMETERS TO SAME7120010 0.1\n",
      "SETTING NETWORK PARAMETERS TO SAME7130010 0.1\n",
      "SETTING NETWORK PARAMETERS TO SAME7140010 0.1\n",
      "SETTING NETWORK PARAMETERS TO SAME7150010 0.1\n",
      "SETTING NETWORK PARAMETERS TO SAME7160010 0.1\n",
      "SETTING NETWORK PARAMETERS TO SAME7170010 0.1\n",
      "SETTING NETWORK PARAMETERS TO SAME7180010 0.1\n",
      "SETTING NETWORK PARAMETERS TO SAME7190010 0.1\n",
      "SETTING NETWORK PARAMETERS TO SAME7200010 0.1\n",
      "SETTING NETWORK PARAMETERS TO SAME7210010 0.1\n",
      "SETTING NETWORK PARAMETERS TO SAME7220010 0.1\n",
      "SETTING NETWORK PARAMETERS TO SAME7230010 0.1\n",
      "SETTING NETWORK PARAMETERS TO SAME7240010 0.1\n",
      "SETTING NETWORK PARAMETERS TO SAME7250010 0.1\n",
      "SETTING NETWORK PARAMETERS TO SAME7260010 0.1\n",
      "SETTING NETWORK PARAMETERS TO SAME7270010 0.1\n",
      "SETTING NETWORK PARAMETERS TO SAME7280010 0.1\n",
      "SETTING NETWORK PARAMETERS TO SAME7290010 0.1\n",
      "SETTING NETWORK PARAMETERS TO SAME7300010 0.1\n",
      "SETTING NETWORK PARAMETERS TO SAME7310010 0.1\n",
      "SETTING NETWORK PARAMETERS TO SAME7320010 0.1\n",
      "SETTING NETWORK PARAMETERS TO SAME7330010 0.1\n",
      "SETTING NETWORK PARAMETERS TO SAME7340010 0.1\n",
      "SETTING NETWORK PARAMETERS TO SAME7350010 0.1\n",
      "SETTING NETWORK PARAMETERS TO SAME7360010 0.1\n",
      "SETTING NETWORK PARAMETERS TO SAME7370010 0.1\n",
      "SETTING NETWORK PARAMETERS TO SAME7380010 0.1\n",
      "SETTING NETWORK PARAMETERS TO SAME7390010 0.1\n",
      "SETTING NETWORK PARAMETERS TO SAME7400010 0.1\n",
      "SETTING NETWORK PARAMETERS TO SAME7410010 0.1\n",
      "SETTING NETWORK PARAMETERS TO SAME7420010 0.1\n",
      "SETTING NETWORK PARAMETERS TO SAME7430010 0.1\n",
      "SETTING NETWORK PARAMETERS TO SAME7440010 0.1\n",
      "SETTING NETWORK PARAMETERS TO SAME7450010 0.1\n",
      "SETTING NETWORK PARAMETERS TO SAME7460010 0.1\n",
      "SETTING NETWORK PARAMETERS TO SAME7470010 0.1\n",
      "SETTING NETWORK PARAMETERS TO SAME7480010 0.1\n",
      "SETTING NETWORK PARAMETERS TO SAME7490010 0.1\n",
      "SETTING NETWORK PARAMETERS TO SAME7500010 0.1\n",
      "SETTING NETWORK PARAMETERS TO SAME7510010 0.1\n",
      "SETTING NETWORK PARAMETERS TO SAME7520010 0.1\n",
      "SETTING NETWORK PARAMETERS TO SAME7530010 0.1\n",
      "SETTING NETWORK PARAMETERS TO SAME7540010 0.1\n",
      "SETTING NETWORK PARAMETERS TO SAME7550010 0.1\n",
      "SETTING NETWORK PARAMETERS TO SAME7560010 0.1\n",
      "SETTING NETWORK PARAMETERS TO SAME7570010 0.1\n",
      "SETTING NETWORK PARAMETERS TO SAME7580010 0.1\n",
      "SETTING NETWORK PARAMETERS TO SAME7590010 0.1\n",
      "SETTING NETWORK PARAMETERS TO SAME7600010 0.1\n",
      "SETTING NETWORK PARAMETERS TO SAME7610010 0.1\n",
      "SETTING NETWORK PARAMETERS TO SAME7620010 0.1\n",
      "SETTING NETWORK PARAMETERS TO SAME7630010 0.1\n",
      "SETTING NETWORK PARAMETERS TO SAME7640010 0.1\n",
      "SETTING NETWORK PARAMETERS TO SAME7650010 0.1\n",
      "SETTING NETWORK PARAMETERS TO SAME7660010 0.1\n",
      "SETTING NETWORK PARAMETERS TO SAME7670010 0.1\n",
      "SETTING NETWORK PARAMETERS TO SAME7680010 0.1\n",
      "SETTING NETWORK PARAMETERS TO SAME7690010 0.1\n",
      "SETTING NETWORK PARAMETERS TO SAME7700010 0.1\n",
      "SETTING NETWORK PARAMETERS TO SAME7710010 0.1\n",
      "SETTING NETWORK PARAMETERS TO SAME7720010 0.1\n",
      "SETTING NETWORK PARAMETERS TO SAME7730010 0.1\n",
      "SETTING NETWORK PARAMETERS TO SAME7740010 0.1\n",
      "SETTING NETWORK PARAMETERS TO SAME7750010 0.1\n",
      "SETTING NETWORK PARAMETERS TO SAME7760010 0.1\n",
      "SETTING NETWORK PARAMETERS TO SAME7770010 0.1\n",
      "SETTING NETWORK PARAMETERS TO SAME7780010 0.1\n",
      "SETTING NETWORK PARAMETERS TO SAME7790010 0.1\n",
      "SETTING NETWORK PARAMETERS TO SAME7800010 0.1\n",
      "SETTING NETWORK PARAMETERS TO SAME7810010 0.1\n",
      "SETTING NETWORK PARAMETERS TO SAME7820010 0.1\n",
      "SETTING NETWORK PARAMETERS TO SAME7830010 0.1\n",
      "SETTING NETWORK PARAMETERS TO SAME7840010 0.1\n",
      "SETTING NETWORK PARAMETERS TO SAME7850010 0.1\n",
      "SETTING NETWORK PARAMETERS TO SAME7860010 0.1\n",
      "SETTING NETWORK PARAMETERS TO SAME7870010 0.1\n",
      "SETTING NETWORK PARAMETERS TO SAME7880010 0.1\n",
      "SETTING NETWORK PARAMETERS TO SAME7890010 0.1\n",
      "SETTING NETWORK PARAMETERS TO SAME7900010 0.1\n",
      "SETTING NETWORK PARAMETERS TO SAME7910010 0.1\n",
      "SETTING NETWORK PARAMETERS TO SAME7920010 0.1\n",
      "SETTING NETWORK PARAMETERS TO SAME7930010 0.1\n",
      "SETTING NETWORK PARAMETERS TO SAME7940010 0.1\n",
      "SETTING NETWORK PARAMETERS TO SAME7950010 0.1\n",
      "SETTING NETWORK PARAMETERS TO SAME7960010 0.1\n",
      "SETTING NETWORK PARAMETERS TO SAME7970010 0.1\n",
      "SETTING NETWORK PARAMETERS TO SAME7980010 0.1\n",
      "SETTING NETWORK PARAMETERS TO SAME7990010 0.1\n",
      "SETTING NETWORK PARAMETERS TO SAME8000010 0.1\n",
      "SETTING NETWORK PARAMETERS TO SAME8010010 0.1\n",
      "SETTING NETWORK PARAMETERS TO SAME8020010 0.1\n",
      "SETTING NETWORK PARAMETERS TO SAME8030010 0.1\n",
      "SETTING NETWORK PARAMETERS TO SAME8040010 0.1\n",
      "SETTING NETWORK PARAMETERS TO SAME8050010 0.1\n",
      "SETTING NETWORK PARAMETERS TO SAME8060010 0.1\n",
      "SETTING NETWORK PARAMETERS TO SAME8070010 0.1\n",
      "SETTING NETWORK PARAMETERS TO SAME8080010 0.1\n",
      "SETTING NETWORK PARAMETERS TO SAME8090010 0.1\n",
      "SETTING NETWORK PARAMETERS TO SAME8100010 0.1\n",
      "SETTING NETWORK PARAMETERS TO SAME8110010 0.1\n",
      "SETTING NETWORK PARAMETERS TO SAME8120010 0.1\n",
      "SETTING NETWORK PARAMETERS TO SAME8130010 0.1\n",
      "SETTING NETWORK PARAMETERS TO SAME8140010 0.1\n",
      "SETTING NETWORK PARAMETERS TO SAME8150010 0.1\n",
      "SETTING NETWORK PARAMETERS TO SAME8160010 0.1\n",
      "SETTING NETWORK PARAMETERS TO SAME8170010 0.1\n",
      "SETTING NETWORK PARAMETERS TO SAME8180010 0.1\n",
      "SETTING NETWORK PARAMETERS TO SAME8190010 0.1\n",
      "SETTING NETWORK PARAMETERS TO SAME8200010 0.1\n",
      "SETTING NETWORK PARAMETERS TO SAME8210010 0.1\n",
      "SETTING NETWORK PARAMETERS TO SAME8220010 0.1\n",
      "SETTING NETWORK PARAMETERS TO SAME8230010 0.1\n",
      "SETTING NETWORK PARAMETERS TO SAME8240010 0.1\n",
      "SETTING NETWORK PARAMETERS TO SAME8250010 0.1\n",
      "SETTING NETWORK PARAMETERS TO SAME8260010 0.1\n",
      "SETTING NETWORK PARAMETERS TO SAME8270010 0.1\n",
      "SETTING NETWORK PARAMETERS TO SAME8280010 0.1\n",
      "SETTING NETWORK PARAMETERS TO SAME8290010 0.1\n",
      "SETTING NETWORK PARAMETERS TO SAME8300010 0.1\n",
      "SETTING NETWORK PARAMETERS TO SAME8310010 0.1\n",
      "SETTING NETWORK PARAMETERS TO SAME8320010 0.1\n",
      "SETTING NETWORK PARAMETERS TO SAME8330010 0.1\n",
      "SETTING NETWORK PARAMETERS TO SAME8340010 0.1\n",
      "SETTING NETWORK PARAMETERS TO SAME8350010 0.1\n",
      "SETTING NETWORK PARAMETERS TO SAME8360010 0.1\n",
      "SETTING NETWORK PARAMETERS TO SAME8370010 0.1\n",
      "SETTING NETWORK PARAMETERS TO SAME8380010 0.1\n",
      "SETTING NETWORK PARAMETERS TO SAME8390010 0.1\n",
      "SETTING NETWORK PARAMETERS TO SAME8400010 0.1\n",
      "SETTING NETWORK PARAMETERS TO SAME8410010 0.1\n",
      "SETTING NETWORK PARAMETERS TO SAME8420010 0.1\n",
      "SETTING NETWORK PARAMETERS TO SAME8430010 0.1\n",
      "SETTING NETWORK PARAMETERS TO SAME8440010 0.1\n",
      "SETTING NETWORK PARAMETERS TO SAME8450010 0.1\n",
      "SETTING NETWORK PARAMETERS TO SAME8460010 0.1\n",
      "SETTING NETWORK PARAMETERS TO SAME8470010 0.1\n",
      "SETTING NETWORK PARAMETERS TO SAME8480010 0.1\n",
      "SETTING NETWORK PARAMETERS TO SAME8490010 0.1\n",
      "SETTING NETWORK PARAMETERS TO SAME8500010 0.1\n",
      "SETTING NETWORK PARAMETERS TO SAME8510010 0.1\n",
      "SETTING NETWORK PARAMETERS TO SAME8520010 0.1\n",
      "SETTING NETWORK PARAMETERS TO SAME8530010 0.1\n",
      "SETTING NETWORK PARAMETERS TO SAME8540010 0.1\n",
      "SETTING NETWORK PARAMETERS TO SAME8550010 0.1\n",
      "SETTING NETWORK PARAMETERS TO SAME8560010 0.1\n",
      "SETTING NETWORK PARAMETERS TO SAME8570010 0.1\n",
      "SETTING NETWORK PARAMETERS TO SAME8580010 0.1\n"
     ]
    },
    {
     "ename": "KeyboardInterrupt",
     "evalue": "",
     "output_type": "error",
     "traceback": [
      "\u001b[0;31m---------------------------------------------------------------------------\u001b[0m",
      "\u001b[0;31mKeyboardInterrupt\u001b[0m                         Traceback (most recent call last)",
      "\u001b[0;32m<ipython-input-10-27bf8748c31f>\u001b[0m in \u001b[0;36m<module>\u001b[0;34m()\u001b[0m\n\u001b[1;32m    132\u001b[0m         \u001b[0;31m### If our memory is too big: remove the first element\u001b[0m\u001b[0;34m\u001b[0m\u001b[0;34m\u001b[0m\u001b[0m\n\u001b[1;32m    133\u001b[0m         \u001b[0;32mif\u001b[0m \u001b[0mlen\u001b[0m\u001b[0;34m(\u001b[0m\u001b[0mreplay_memory\u001b[0m\u001b[0;34m)\u001b[0m \u001b[0;34m>\u001b[0m \u001b[0mMAX_LEN_REPLAY_MEMORY\u001b[0m\u001b[0;34m:\u001b[0m\u001b[0;34m\u001b[0m\u001b[0m\n\u001b[0;32m--> 134\u001b[0;31m                 \u001b[0mreplay_memory\u001b[0m \u001b[0;34m=\u001b[0m \u001b[0mreplay_memory\u001b[0m\u001b[0;34m[\u001b[0m\u001b[0;36m1\u001b[0m\u001b[0;34m:\u001b[0m\u001b[0;34m]\u001b[0m\u001b[0;34m\u001b[0m\u001b[0m\n\u001b[0m\u001b[1;32m    135\u001b[0m \u001b[0;34m\u001b[0m\u001b[0m\n\u001b[1;32m    136\u001b[0m         \u001b[0;31m### Show the progress\u001b[0m\u001b[0;34m\u001b[0m\u001b[0;34m\u001b[0m\u001b[0m\n",
      "\u001b[0;31mKeyboardInterrupt\u001b[0m: "
     ]
    }
   ],
   "source": [
    "import time\n",
    "import collections\n",
    "replay_memory = [] # (state, action, reward, terminalstate, state_t+1)\n",
    "epsilon = 1.0\n",
    "decay_factor = 0.000001\n",
    "MIN_EPSILON = 0.1\n",
    "BATCH_SIZE = 32\n",
    "MAX_LEN_REPLAY_MEMORY = 500000 # replay memory of one million most recent frames.\n",
    "FRAMES_TO_PLAY = 50000000\n",
    "MIN_FRAMES_FOR_LEARNING = 1000\n",
    "\n",
    "observation = env.reset()\n",
    "observation = preprocess(observation)\n",
    "print(observation.shape)\n",
    "plt.imshow(np.reshape(observation, (84,84)), cmap='gray')\n",
    "plt.show()\n",
    "\n",
    "total_reward_this_episode = 0\n",
    "best_reward_so_far = 0\n",
    "lastframes = collections.deque([observation]*4, 4)\n",
    "\n",
    "def mean(numbers):\n",
    "    return float(sum(numbers)) / max(len(numbers), 1)\n",
    "\n",
    "last_rewards = list()\n",
    "last_n = 100\n",
    "mean_last_n = 0\n",
    "min_last_n = 0\n",
    "max_last_n = 0\n",
    "\n",
    "\n",
    "for _ in range(4):\n",
    "    action = env.action_space.sample() \n",
    "    newobservation, reward, terminal, info = env.step(action)\n",
    "    lastframes.append(preprocess(newobservation))\n",
    "observation = np.dstack(lastframes)    \n",
    "for i_epoch in range(FRAMES_TO_PLAY):\n",
    "    \n",
    "    if i_epoch %10000 == 10:\n",
    "        print(\"SETTING NETWORK PARAMETERS TO SAME\" + str(i_epoch) + \" \" + str(epsilon))\n",
    "        sess.run(update_target_expr)\n",
    "        \n",
    "    \n",
    "    \n",
    "    \n",
    "    \n",
    "    ### Select action\n",
    "    if i_epoch%50==0:\n",
    "        action = 1 # Press start once in a while\n",
    "    elif random.random() < epsilon:\n",
    "        action = env.action_space.sample() \n",
    "    else:\n",
    "        pred_q = sess.run(predicted_action, feed_dict={networkstate:[observation]})\n",
    "       # print(pred_q)\n",
    "\n",
    "        action = np.argmax(pred_q)\n",
    "    \n",
    "    ### Anneal epsilon\n",
    "    epsilon = max(epsilon-decay_factor, MIN_EPSILON)\n",
    "    \n",
    "    newobservation, reward, terminal, info = env.step(action)\n",
    "    lastframes.appendleft(preprocess(newobservation))\n",
    "    newobservation = np.dstack(lastframes)\n",
    "   \n",
    "#     plt.imshow(newobservation[:,:,:3])\n",
    "#     plt.show()\n",
    "    \n",
    "    ### I prefer that my agent gets 0 reward if it dies\n",
    "    if terminal: \n",
    "        reward = 0\n",
    "    \n",
    "    total_reward_this_episode += reward\n",
    "        \n",
    "    ### Add the observation to our replay memory\n",
    "    replay_memory.append((observation, action, reward, terminal, newobservation))\n",
    "    \n",
    "    ### Reset the environment if the agent died\n",
    "    if terminal:\n",
    "        if total_reward_this_episode > best_reward_so_far:\n",
    "            best_reward_so_far = total_reward_this_episode\n",
    "            print(\"Reward this episode: \" + str(total_reward_this_episode) + \" epsilon: \" + str(epsilon))\n",
    "        last_rewards.append(total_reward_this_episode)\n",
    "        \n",
    " \n",
    "        mean_last_n = mean(last_rewards[-last_n:])\n",
    "    \n",
    "        min_last_n = min(last_rewards[-last_n:])\n",
    "        max_last_n = max(last_rewards[-last_n:])\n",
    "        total_reward_this_episode = 0\n",
    "        newobservation = env.reset()\n",
    "        lastframes.appendleft(preprocess(newobservation))\n",
    "        newobservation = np.dstack(lastframes)\n",
    "    observation = newobservation\n",
    "    \n",
    "    ### Learn once we have enough frames to start learning\n",
    "    if len(replay_memory) > MIN_FRAMES_FOR_LEARNING: \n",
    "        experiences = random.sample(replay_memory, BATCH_SIZE)\n",
    "     \n",
    "        totrain = [] # (state, action, delayed_reward)\n",
    "        \n",
    "        ### Calculate the predicted reward\n",
    "\n",
    "#         nextstates = [var[4] for var in experiences]\n",
    "#         currentstates = [var[0] for var in experiences]\n",
    "#         performedactions = [var[1] for var in experiences]\n",
    "        \n",
    "        \n",
    "        ### Set the \"ground truth\": the value our network has to predict:\n",
    "#         for index in range(BATCH_SIZE):\n",
    "#             state, action, reward, terminalstate, newstate = experiences[index]\n",
    "#             #print(terminalstate)\n",
    "#             #totrain.append((state, action, delayedreward))\n",
    "            \n",
    "        ### Feed the train batch to the algorithm \n",
    "        states = [var[0] for var in experiences]\n",
    "        actions = [var[1] for var in experiences]\n",
    "        rewards = [var[2] for var in experiences]\n",
    "        terminalstates = [float(var[3]) for var in experiences]\n",
    "        nextstates = [var[4] for var in experiences]\n",
    "        \n",
    "      #  print(terminalstates)\n",
    "      #  print(nextstates)\n",
    "        \n",
    "        _, l, summary = sess.run([optimizer, loss, merged_summary], \n",
    "                                 feed_dict={networkstate:states, \n",
    "                                            networkaction: actions, \n",
    "                                            networkreward: rewards, \n",
    "                                           nextnetworkstate: nextstates, \n",
    "                                           done_mask_ph: terminalstates})\n",
    "\n",
    "   \n",
    "        ### If our memory is too big: remove the first element\n",
    "        if len(replay_memory) > MAX_LEN_REPLAY_MEMORY:\n",
    "                replay_memory = replay_memory[1:]\n",
    "\n",
    "        ### Show the progress \n",
    "        summary_writer.add_summary(summary, i_epoch)\n",
    "        \n",
    "        \n",
    "        summary = sess.run(merged_summary_meta, feed_dict={mean_last_n_ph: mean_last_n, \n",
    "                                                           max_last_n_ph: max_last_n, \n",
    "                                                           min_last_n_ph: min_last_n,\n",
    "                                                          epsilon_ph: epsilon})\n",
    "#         summary = sess.run(merged_summary_meta, feed_dict={mean_last_n_ph: mean_last_n, \n",
    "#                                                           max_last_n_ph: float(max_last_n), \n",
    "#                                                           min_last_n: float(min_last_n),\n",
    "#                                                           epsilon_ph: epsilon})\n",
    "        summary_writer.add_summary(summary, i_epoch)\n",
    "       \n",
    "  "
   ]
  },
  {
   "cell_type": "code",
   "execution_count": null,
   "metadata": {},
   "outputs": [],
   "source": [
    "for i_epoch in range(5000000, 50000000):\n",
    "    \n",
    "    if i_epoch %10000 == 10:\n",
    "        print(\"SETTING NETWORK PARAMETERS TO SAME\" + str(i_epoch) + \" \" + str(epsilon))\n",
    "        sess.run(update_target_expr)\n",
    "        \n",
    "    \n",
    "    \n",
    "    \n",
    "    \n",
    "    ### Select action\n",
    "    if i_epoch%50==0:\n",
    "        action = 1 # Press start once in a while\n",
    "    elif random.random() < epsilon:\n",
    "        action = env.action_space.sample() \n",
    "    else:\n",
    "        pred_q = sess.run(predicted_action, feed_dict={networkstate:[observation]})\n",
    "       # print(pred_q)\n",
    "\n",
    "        action = np.argmax(pred_q)\n",
    "    \n",
    "    ### Anneal epsilon\n",
    "    epsilon = max(epsilon-decay_factor, MIN_EPSILON)\n",
    "    \n",
    "    newobservation, reward, terminal, info = env.step(action)\n",
    "    lastframes.appendleft(preprocess(newobservation))\n",
    "    newobservation = np.dstack(lastframes)\n",
    "   \n",
    "#     plt.imshow(newobservation[:,:,:3])\n",
    "#     plt.show()\n",
    "    \n",
    "    ### I prefer that my agent gets 0 reward if it dies\n",
    "    if terminal: \n",
    "        reward = 0\n",
    "    \n",
    "    total_reward_this_episode += reward\n",
    "        \n",
    "    ### Add the observation to our replay memory\n",
    "    replay_memory.append((observation, action, reward, terminal, newobservation))\n",
    "    \n",
    "    ### Reset the environment if the agent died\n",
    "    if terminal:\n",
    "        if total_reward_this_episode > best_reward_so_far:\n",
    "            best_reward_so_far = total_reward_this_episode\n",
    "            print(\"Reward this episode: \" + str(total_reward_this_episode) + \" epsilon: \" + str(epsilon))\n",
    "        last_rewards.append(total_reward_this_episode)\n",
    "        \n",
    " \n",
    "        mean_last_n = mean(last_rewards[-last_n:])\n",
    "    \n",
    "        min_last_n = min(last_rewards[-last_n:])\n",
    "        max_last_n = max(last_rewards[-last_n:])\n",
    "        total_reward_this_episode = 0\n",
    "        newobservation = env.reset()\n",
    "        lastframes.appendleft(preprocess(newobservation))\n",
    "        newobservation = np.dstack(lastframes)\n",
    "    observation = newobservation\n",
    "    \n",
    "    ### Learn once we have enough frames to start learning\n",
    "    if len(replay_memory) > MIN_FRAMES_FOR_LEARNING: \n",
    "        experiences = random.sample(replay_memory, BATCH_SIZE)\n",
    "     \n",
    "        totrain = [] # (state, action, delayed_reward)\n",
    "        \n",
    "        ### Calculate the predicted reward\n",
    "\n",
    "#         nextstates = [var[4] for var in experiences]\n",
    "#         currentstates = [var[0] for var in experiences]\n",
    "#         performedactions = [var[1] for var in experiences]\n",
    "        \n",
    "        \n",
    "        ### Set the \"ground truth\": the value our network has to predict:\n",
    "#         for index in range(BATCH_SIZE):\n",
    "#             state, action, reward, terminalstate, newstate = experiences[index]\n",
    "#             #print(terminalstate)\n",
    "#             #totrain.append((state, action, delayedreward))\n",
    "            \n",
    "        ### Feed the train batch to the algorithm \n",
    "        states = [var[0] for var in experiences]\n",
    "        actions = [var[1] for var in experiences]\n",
    "        rewards = [var[2] for var in experiences]\n",
    "        terminalstates = [float(var[3]) for var in experiences]\n",
    "        nextstates = [var[4] for var in experiences]\n",
    "        \n",
    "      #  print(terminalstates)\n",
    "      #  print(nextstates)\n",
    "        \n",
    "        _, l, summary = sess.run([optimizer, loss, merged_summary], \n",
    "                                 feed_dict={networkstate:states, \n",
    "                                            networkaction: actions, \n",
    "                                            networkreward: rewards, \n",
    "                                           nextnetworkstate: nextstates, \n",
    "                                           done_mask_ph: terminalstates})\n",
    "\n",
    "   \n",
    "        ### If our memory is too big: remove the first element\n",
    "        if len(replay_memory) > MAX_LEN_REPLAY_MEMORY:\n",
    "                replay_memory = replay_memory[1:]\n",
    "\n",
    "        ### Show the progress \n",
    "        summary_writer.add_summary(summary, i_epoch)\n",
    "        \n",
    "        \n",
    "        summary = sess.run(merged_summary_meta, feed_dict={mean_last_n_ph: mean_last_n, \n",
    "                                                           max_last_n_ph: max_last_n, \n",
    "                                                           min_last_n_ph: min_last_n,\n",
    "                                                          epsilon_ph: epsilon})\n",
    "#         summary = sess.run(merged_summary_meta, feed_dict={mean_last_n_ph: mean_last_n, \n",
    "#                                                           max_last_n_ph: float(max_last_n), \n",
    "#                                                           min_last_n: float(min_last_n),\n",
    "#                                                           epsilon_ph: epsilon})\n",
    "        summary_writer.add_summary(summary, i_epoch)\n",
    "       "
   ]
  },
  {
   "cell_type": "code",
   "execution_count": null,
   "metadata": {
    "collapsed": true
   },
   "outputs": [],
   "source": [
    "len(replay_memory)"
   ]
  },
  {
   "cell_type": "code",
   "execution_count": null,
   "metadata": {},
   "outputs": [],
   "source": [
    "print(l)"
   ]
  },
  {
   "cell_type": "code",
   "execution_count": null,
   "metadata": {
    "collapsed": true
   },
   "outputs": [],
   "source": []
  },
  {
   "cell_type": "code",
   "execution_count": null,
   "metadata": {},
   "outputs": [],
   "source": [
    "observation = env.reset()\n",
    "term = False\n",
    "predicted_q = []\n",
    "frames = []\n",
    "\n",
    "lastframes.appendleft(preprocess(observation))\n",
    "newobservation = np.dstack(lastframes)\n",
    "   \n",
    "### Play till we are dead\n",
    "for _ in range(300):\n",
    "#while not term:\n",
    "    rgb_observation = env.render(mode = 'rgb_array')\n",
    "    frames.append(rgb_observation)\n",
    "    \n",
    "    \n",
    "    lastframes.appendleft(preprocess(newobservation))\n",
    "    newobservation = np.dstack(lastframes)\n",
    "    print(newobservation.max())\n",
    "        \n",
    "    pred_q = sess.run(predicted_action, feed_dict={networkstate:[newobservation]})\n",
    "    predicted_q.append(pred_q)\n",
    "    \n",
    "    if random.random() < 0.2:\n",
    "        action = env.action_space.sample() \n",
    "    else:\n",
    "        action = np.argmax(pred_q)\n",
    "    \n",
    "    observation, _, term, _ = env.step(action)\n",
    "    if term: \n",
    "        env.reset()\n",
    "    newobservation = observation\n",
    "### Plot the replay!\n",
    "print(\"Frames: \" + str(len(frames)))\n",
    "display_frames_as_gif(frames,filename_gif='dqn_run.gif')"
   ]
  },
  {
   "cell_type": "code",
   "execution_count": null,
   "metadata": {},
   "outputs": [],
   "source": []
  },
  {
   "cell_type": "code",
   "execution_count": null,
   "metadata": {},
   "outputs": [],
   "source": [
    "for _ in range(300):\n",
    "    rgb_observation = env.render(mode = 'rgb_array')\n",
    "    plt.imshow(rgb_observation)\n",
    "    plt.show()\n",
    "    \n",
    "    action = int(input(\"input\"))\n",
    "    observation, _, term, _ = env.step(action)\n",
    "    print(term)"
   ]
  },
  {
   "cell_type": "code",
   "execution_count": null,
   "metadata": {
    "collapsed": true
   },
   "outputs": [],
   "source": [
    "for var in target_q_func_vars:\n",
    "    print(var.name)\n"
   ]
  },
  {
   "cell_type": "code",
   "execution_count": null,
   "metadata": {},
   "outputs": [],
   "source": [
    "len(target_q_func_vars)"
   ]
  },
  {
   "cell_type": "code",
   "execution_count": null,
   "metadata": {},
   "outputs": [],
   "source": [
    "trainable_only = False\n",
    "tf.get_collection(tf.GraphKeys.TRAINABLE_VARIABLES if trainable_only else tf.GraphKeys.GLOBAL_VARIABLES, scope=scope if isinstance(scope, str) else scope.name\n",
    "    )"
   ]
  },
  {
   "cell_type": "code",
   "execution_count": null,
   "metadata": {},
   "outputs": [],
   "source": [
    "tf.get_variable_scope().name\n",
    "\n",
    "\n"
   ]
  },
  {
   "cell_type": "code",
   "execution_count": null,
   "metadata": {},
   "outputs": [],
   "source": [
    "\"/\" + relative_scope_name"
   ]
  },
  {
   "cell_type": "code",
   "execution_count": null,
   "metadata": {},
   "outputs": [],
   "source": [
    "var_23 = [v for v in tf.global_variables() if v.name.startswith(\"actionnetwork\")]\n",
    "print(var_23)"
   ]
  },
  {
   "cell_type": "code",
   "execution_count": null,
   "metadata": {},
   "outputs": [],
   "source": [
    "var_23 = [v for v in tf.global_variables() if v.name.startswith(\"valuenetwork\")]\n",
    "print(var_23)"
   ]
  },
  {
   "cell_type": "code",
   "execution_count": null,
   "metadata": {},
   "outputs": [],
   "source": [
    "\n",
    "\n"
   ]
  },
  {
   "cell_type": "code",
   "execution_count": null,
   "metadata": {},
   "outputs": [],
   "source": [
    "tf.get_collection(tf.GraphKeys.TRAINABLE_VARIABLES, \"actionnetwork\")"
   ]
  },
  {
   "cell_type": "code",
   "execution_count": null,
   "metadata": {
    "collapsed": true
   },
   "outputs": [],
   "source": []
  }
 ],
 "metadata": {
  "kernelspec": {
   "display_name": "Python 3",
   "language": "python",
   "name": "python3"
  },
  "language_info": {
   "codemirror_mode": {
    "name": "ipython",
    "version": 3
   },
   "file_extension": ".py",
   "mimetype": "text/x-python",
   "name": "python",
   "nbconvert_exporter": "python",
   "pygments_lexer": "ipython3",
   "version": "3.5.2"
  }
 },
 "nbformat": 4,
 "nbformat_minor": 2
}
